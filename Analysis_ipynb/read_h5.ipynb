{
 "cells": [
  {
   "cell_type": "code",
   "execution_count": 117,
   "id": "18c9f7bd",
   "metadata": {
    "ExecuteTime": {
     "end_time": "2023-03-06T17:00:25.769264Z",
     "start_time": "2023-03-06T17:00:25.453388Z"
    }
   },
   "outputs": [],
   "source": [
    "# %matplotlib ipympl\n",
    "import h5py \n",
    "import numpy as np \n",
    "import matplotlib.pyplot as plt \n",
    "import sys\n",
    "import nexusformat.nexus as nx\n",
    "from matplotlib.colors import LogNorm"
   ]
  },
  {
   "cell_type": "code",
   "execution_count": 118,
   "id": "6b0fcabf",
   "metadata": {},
   "outputs": [
    {
     "name": "stdout",
     "output_type": "stream",
     "text": [
      "root:NXroot\n",
      "  events:NXgroup\n",
      "    NHits = int32(461832)\n",
      "    tof_ns = float64(461832)\n",
      "    tot = float64(461832)\n",
      "    x = float64(461832)\n",
      "    y = float64(461832)\n"
     ]
    }
   ],
   "source": [
    "# neutron events\n",
    "# filename_events = \"/Users/fumiaki/Documents/ORNL/Research/Sophyread/mcpevent2hist-main/sophiread/build/data/Cf_data/100mins_events.h5\"\n",
    "# filename_hits = \"/Users/fumiaki/Documents/ORNL/Research/Sophyread/mcpevent2hist-main/sophiread/build/data/Cf_data/100mins_hits.h5\"\n",
    "\n",
    "# light events\n",
    "# filename_events = \"/Users/fumiaki/Documents/ORNL/Research/Sophyread/mcpevent2hist-main/sophiread/build/data/Navitar_event.h5\"\n",
    "# filename_hits = \"/Users/fumiaki/Documents/ORNL/Research/Sophyread/mcpevent2hist-main/sophiread/build/data/Navitar_hit.h5\"\n",
    "\n",
    "#Co event\n",
    "# filename_events = \"/Users/fumiaki/Documents/ORNL/Research/Sophyread/mcpevent2hist-main/sophiread/build/data/Co60/Co_events.h5\"\n",
    "\n",
    "# Back ground\n",
    "# filename_events = \"/Users/fumiaki/Documents/ORNL/Research/Sophyread/mcpevent2hist-main/sophiread/build/data/Background(aftergrowfromgammameasuerment)/Background_events.h5\"\n",
    "\n",
    "# Cs event\n",
    "# \n",
    "\n",
    "# filename_events = \"/Users/fumiaki/Documents/ORNL/Research/Sophyread/mcpevent2hist-main/sophiread/build/data/Cs137/Cs137_events.h5\"\n",
    "\n",
    "# Am event\n",
    "# filename_events = \"/Users/fumiaki/Documents/ORNL/Research/Sophyread/mcpevent2hist-main/sophiread/build/data/Am/Am_events.h5\"\n",
    "\n",
    "# 0.3 mmthick\n",
    "#Co event\n",
    "# filename_events_1 = \"/Users/fumiaki/Documents/ORNL/Research/Sophyread/mcpevent2hist-main/sophiread/build/data/0p3thickness/Co60/Co60_events.h5\"\n",
    "\n",
    "# After grow\n",
    "# filename_events_2 = \"/Users/fumiaki/Documents/ORNL/Research/Sophyread/mcpevent2hist-main/sophiread/build/data/0p3thickness/aftergrow/aftergrow_events_1.h5\"\n",
    "\n",
    "# Cs event\n",
    "# filename_events_3 = \"/Users/fumiaki/Documents/ORNL/Research/Sophyread/mcpevent2hist-main/sophiread/build/data/0p3thickness/Cs137/Cs137_events.h5\"\n",
    "\n",
    "# Am event\n",
    "# filename_events_4 = \"/Users/fumiaki/Documents/ORNL/Research/Sophyread/mcpevent2hist-main/sophiread/build/data/0p3thickness/Am/Am_events.h5\"\n",
    "\n",
    "# neutron events\n",
    "filename_events = \"/Users/fumiaki/Documents/ORNL/Research/PTX3_Analysis/Data/0p3thickness/Neutron/neutron.h5\"\n",
    "# previous one\n",
    "filename_events_1 = \"/Users/fumiaki/Documents/ORNL/Research/PTX3_Analysis/Data/0p3thickness/Neutron/neutron_spi_50000ns.h5\"\n",
    "\n",
    "filename_events_2 = \"/Users/fumiaki/Documents/ORNL/Research/PTX3_Analysis/Data/0p3thickness/Neutron/neutron_spi_5000ns.h5\"\n",
    "\n",
    "# Background (Put scinti in 16 hours in light tight box)\n",
    "# filename_events_5=\"/Users/fumiaki/Documents/ORNL/Research/Sophyread/mcpevent2hist-main/sophiread/build/data/0p3thickness/Background/background.h5\"\n",
    "\n",
    "\n",
    "\n",
    "\n",
    "\n",
    "\n",
    "\n",
    "\n",
    "f = nx.nxload(filename_events)\n",
    "print(f.tree)\n",
    "\n",
    "# ff = nx.nxload(filename_hits)\n",
    "# print(ff.tree)"
   ]
  },
  {
   "cell_type": "code",
   "execution_count": 119,
   "id": "4d54351d",
   "metadata": {},
   "outputs": [],
   "source": [
    "# with h5py.File(filename_hits) as h5f:\n",
    "#     x = h5f[\"hits/x\"][:]\n",
    "#     y = h5f[\"hits/y\"][:]\n",
    "# #     tof_ns = h5f[\"hits/tof_ns\"][:]\n",
    "#     labels = h5f[\"hits/labels\"][:]\n",
    "#     spidertime_ns = h5f[\"hits/spidertime_ns\"][:]"
   ]
  },
  {
   "cell_type": "code",
   "execution_count": 120,
   "id": "adba608e",
   "metadata": {},
   "outputs": [],
   "source": [
    "# plt.figure()\n",
    "# _ = plt.hist(labels, 10000)\n",
    "# plt.xlabel(\"labels\")\n",
    "\n",
    "# plt.figure()\n",
    "# _ = plt.hist(spidertime_ns, 10000)\n",
    "# plt.xlabel(\"spidertime_ns\")"
   ]
  },
  {
   "cell_type": "code",
   "execution_count": 121,
   "id": "734cde7d",
   "metadata": {
    "ExecuteTime": {
     "end_time": "2023-03-06T20:26:10.110593Z",
     "start_time": "2023-03-06T20:26:10.055483Z"
    },
    "scrolled": true
   },
   "outputs": [
    {
     "name": "stderr",
     "output_type": "stream",
     "text": [
      "/Users/fumiaki/opt/anaconda3/lib/python3.7/site-packages/ipykernel_launcher.py:1: H5pyDeprecationWarning: The default file mode will change to 'r' (read-only) in h5py 3.0. To suppress this warning, pass the mode you need to h5py.File(), or set the global default h5.get_config().default_file_mode, or set the environment variable H5PY_DEFAULT_READONLY=1. Available modes are: 'r', 'r+', 'w', 'w-'/'x', 'a'. See the docs for details.\n",
      "  \"\"\"Entry point for launching an IPython kernel.\n"
     ]
    }
   ],
   "source": [
    "with h5py.File(filename_events) as h5f:\n",
    "    x = h5f[\"events/x\"][:]\n",
    "    y = h5f[\"events/y\"][:]\n",
    "    tot = h5f[\"events/tot\"][:]\n",
    "    nhits = h5f[\"events/NHits\"][:]"
   ]
  },
  {
   "cell_type": "code",
   "execution_count": 154,
   "id": "c8bee1ab",
   "metadata": {},
   "outputs": [
    {
     "data": {
      "text/plain": [
       "Text(0, 0.5, 'TOT')"
      ]
     },
     "execution_count": 154,
     "metadata": {},
     "output_type": "execute_result"
    },
    {
     "data": {
      "image/png": "[encoded data removed]",
      "text/plain": [
       "<Figure size 432x288 with 2 Axes>"
      ]
     },
     "metadata": {
      "needs_background": "light"
     },
     "output_type": "display_data"
    }
   ],
   "source": [
    "plt.figure()\n",
    "_ = plt.hist2d(nhits, tot, bins=150, range=np.array([(0, 150), (0, 2500)]),norm=LogNorm())\n",
    "plt.colorbar()\n",
    "# ax.set_ylabel('Y')\n",
    "# plt.yscale('log', nonposy='clip')\n",
    "# plt.legend(loc='upper right')\n",
    "plt.xlabel(\"nhits\")\n",
    "plt.ylabel(\"TOT\")"
   ]
  },
  {
   "cell_type": "code",
   "execution_count": 85,
   "id": "00ddce8c",
   "metadata": {},
   "outputs": [
    {
     "name": "stderr",
     "output_type": "stream",
     "text": [
      "/Users/fumiaki/opt/anaconda3/lib/python3.7/site-packages/ipykernel_launcher.py:1: H5pyDeprecationWarning: The default file mode will change to 'r' (read-only) in h5py 3.0. To suppress this warning, pass the mode you need to h5py.File(), or set the global default h5.get_config().default_file_mode, or set the environment variable H5PY_DEFAULT_READONLY=1. Available modes are: 'r', 'r+', 'w', 'w-'/'x', 'a'. See the docs for details.\n",
      "  \"\"\"Entry point for launching an IPython kernel.\n"
     ]
    }
   ],
   "source": [
    "with h5py.File(filename_events_1) as h5f:\n",
    "#     x = h5f[\"events/x\"][:]\n",
    "#     y = h5f[\"events/y\"][:]\n",
    "#     tof_ns = h5f[\"events/tof_ns\"][:]\n",
    "    nhits_1 = h5f[\"events/NHits\"][:]"
   ]
  },
  {
   "cell_type": "code",
   "execution_count": 86,
   "id": "e7ce8b6f",
   "metadata": {},
   "outputs": [
    {
     "ename": "NameError",
     "evalue": "name 'filename_events_5' is not defined",
     "output_type": "error",
     "traceback": [
      "\u001b[0;31m---------------------------------------------------------------------------\u001b[0m",
      "\u001b[0;31mNameError\u001b[0m                                 Traceback (most recent call last)",
      "\u001b[0;32m<ipython-input-86-929c29e7d4f8>\u001b[0m in \u001b[0;36m<module>\u001b[0;34m\u001b[0m\n\u001b[0;32m----> 1\u001b[0;31m \u001b[0;32mwith\u001b[0m \u001b[0mh5py\u001b[0m\u001b[0;34m.\u001b[0m\u001b[0mFile\u001b[0m\u001b[0;34m(\u001b[0m\u001b[0mfilename_events_5\u001b[0m\u001b[0;34m)\u001b[0m \u001b[0;32mas\u001b[0m \u001b[0mh5f\u001b[0m\u001b[0;34m:\u001b[0m\u001b[0;34m\u001b[0m\u001b[0;34m\u001b[0m\u001b[0m\n\u001b[0m\u001b[1;32m      2\u001b[0m \u001b[0;31m#     x = h5f[\"events/x\"][:]\u001b[0m\u001b[0;34m\u001b[0m\u001b[0;34m\u001b[0m\u001b[0;34m\u001b[0m\u001b[0m\n\u001b[1;32m      3\u001b[0m \u001b[0;31m#     y = h5f[\"events/y\"][:]\u001b[0m\u001b[0;34m\u001b[0m\u001b[0;34m\u001b[0m\u001b[0;34m\u001b[0m\u001b[0m\n\u001b[1;32m      4\u001b[0m \u001b[0;31m#     tof_ns = h5f[\"events/tof_ns\"][:]\u001b[0m\u001b[0;34m\u001b[0m\u001b[0;34m\u001b[0m\u001b[0;34m\u001b[0m\u001b[0m\n\u001b[1;32m      5\u001b[0m     \u001b[0mnhits_5\u001b[0m \u001b[0;34m=\u001b[0m \u001b[0mh5f\u001b[0m\u001b[0;34m[\u001b[0m\u001b[0;34m\"events/NHits\"\u001b[0m\u001b[0;34m]\u001b[0m\u001b[0;34m[\u001b[0m\u001b[0;34m:\u001b[0m\u001b[0;34m]\u001b[0m\u001b[0;34m\u001b[0m\u001b[0;34m\u001b[0m\u001b[0m\n",
      "\u001b[0;31mNameError\u001b[0m: name 'filename_events_5' is not defined"
     ]
    }
   ],
   "source": [
    "with h5py.File(filename_events_5) as h5f:\n",
    "#     x = h5f[\"events/x\"][:]\n",
    "#     y = h5f[\"events/y\"][:]\n",
    "#     tof_ns = h5f[\"events/tof_ns\"][:]\n",
    "    nhits_5 = h5f[\"events/NHits\"][:]"
   ]
  },
  {
   "cell_type": "code",
   "execution_count": 87,
   "id": "c79d4e04",
   "metadata": {},
   "outputs": [
    {
     "name": "stderr",
     "output_type": "stream",
     "text": [
      "/Users/fumiaki/opt/anaconda3/lib/python3.7/site-packages/ipykernel_launcher.py:1: H5pyDeprecationWarning: The default file mode will change to 'r' (read-only) in h5py 3.0. To suppress this warning, pass the mode you need to h5py.File(), or set the global default h5.get_config().default_file_mode, or set the environment variable H5PY_DEFAULT_READONLY=1. Available modes are: 'r', 'r+', 'w', 'w-'/'x', 'a'. See the docs for details.\n",
      "  \"\"\"Entry point for launching an IPython kernel.\n"
     ]
    }
   ],
   "source": [
    "with h5py.File(filename_events_2) as h5f:\n",
    "#     x = h5f[\"events/x\"][:]\n",
    "#     y = h5f[\"events/y\"][:]\n",
    "#     tof_ns = h5f[\"events/tof_ns\"][:]\n",
    "    nhits_2 = h5f[\"events/NHits\"][:]"
   ]
  },
  {
   "cell_type": "code",
   "execution_count": 88,
   "id": "39c47008",
   "metadata": {
    "scrolled": true
   },
   "outputs": [
    {
     "ename": "NameError",
     "evalue": "name 'filename_events_3' is not defined",
     "output_type": "error",
     "traceback": [
      "\u001b[0;31m---------------------------------------------------------------------------\u001b[0m",
      "\u001b[0;31mNameError\u001b[0m                                 Traceback (most recent call last)",
      "\u001b[0;32m<ipython-input-88-fb5ee22756e9>\u001b[0m in \u001b[0;36m<module>\u001b[0;34m\u001b[0m\n\u001b[0;32m----> 1\u001b[0;31m \u001b[0;32mwith\u001b[0m \u001b[0mh5py\u001b[0m\u001b[0;34m.\u001b[0m\u001b[0mFile\u001b[0m\u001b[0;34m(\u001b[0m\u001b[0mfilename_events_3\u001b[0m\u001b[0;34m)\u001b[0m \u001b[0;32mas\u001b[0m \u001b[0mh5f\u001b[0m\u001b[0;34m:\u001b[0m\u001b[0;34m\u001b[0m\u001b[0;34m\u001b[0m\u001b[0m\n\u001b[0m\u001b[1;32m      2\u001b[0m \u001b[0;31m#     x = h5f[\"events/x\"][:]\u001b[0m\u001b[0;34m\u001b[0m\u001b[0;34m\u001b[0m\u001b[0;34m\u001b[0m\u001b[0m\n\u001b[1;32m      3\u001b[0m \u001b[0;31m#     y = h5f[\"events/y\"][:]\u001b[0m\u001b[0;34m\u001b[0m\u001b[0;34m\u001b[0m\u001b[0;34m\u001b[0m\u001b[0m\n\u001b[1;32m      4\u001b[0m \u001b[0;31m#     tof_ns = h5f[\"events/tof_ns\"][:]\u001b[0m\u001b[0;34m\u001b[0m\u001b[0;34m\u001b[0m\u001b[0;34m\u001b[0m\u001b[0m\n\u001b[1;32m      5\u001b[0m     \u001b[0mnhits_3\u001b[0m \u001b[0;34m=\u001b[0m \u001b[0mh5f\u001b[0m\u001b[0;34m[\u001b[0m\u001b[0;34m\"events/NHits\"\u001b[0m\u001b[0;34m]\u001b[0m\u001b[0;34m[\u001b[0m\u001b[0;34m:\u001b[0m\u001b[0;34m]\u001b[0m\u001b[0;34m\u001b[0m\u001b[0;34m\u001b[0m\u001b[0m\n",
      "\u001b[0;31mNameError\u001b[0m: name 'filename_events_3' is not defined"
     ]
    }
   ],
   "source": [
    "with h5py.File(filename_events_3) as h5f:\n",
    "#     x = h5f[\"events/x\"][:]\n",
    "#     y = h5f[\"events/y\"][:]\n",
    "#     tof_ns = h5f[\"events/tof_ns\"][:]\n",
    "    nhits_3 = h5f[\"events/NHits\"][:]"
   ]
  },
  {
   "cell_type": "code",
   "execution_count": 78,
   "id": "186a8ca8",
   "metadata": {},
   "outputs": [
    {
     "ename": "NameError",
     "evalue": "name 'filename_events_4' is not defined",
     "output_type": "error",
     "traceback": [
      "\u001b[0;31m---------------------------------------------------------------------------\u001b[0m",
      "\u001b[0;31mNameError\u001b[0m                                 Traceback (most recent call last)",
      "\u001b[0;32m<ipython-input-78-c78ddabf128d>\u001b[0m in \u001b[0;36m<module>\u001b[0;34m\u001b[0m\n\u001b[0;32m----> 1\u001b[0;31m \u001b[0;32mwith\u001b[0m \u001b[0mh5py\u001b[0m\u001b[0;34m.\u001b[0m\u001b[0mFile\u001b[0m\u001b[0;34m(\u001b[0m\u001b[0mfilename_events_4\u001b[0m\u001b[0;34m)\u001b[0m \u001b[0;32mas\u001b[0m \u001b[0mh5f\u001b[0m\u001b[0;34m:\u001b[0m\u001b[0;34m\u001b[0m\u001b[0;34m\u001b[0m\u001b[0m\n\u001b[0m\u001b[1;32m      2\u001b[0m \u001b[0;31m#     x = h5f[\"events/x\"][:]\u001b[0m\u001b[0;34m\u001b[0m\u001b[0;34m\u001b[0m\u001b[0;34m\u001b[0m\u001b[0m\n\u001b[1;32m      3\u001b[0m \u001b[0;31m#     y = h5f[\"events/y\"][:]\u001b[0m\u001b[0;34m\u001b[0m\u001b[0;34m\u001b[0m\u001b[0;34m\u001b[0m\u001b[0m\n\u001b[1;32m      4\u001b[0m \u001b[0;31m#     tof_ns = h5f[\"events/tof_ns\"][:]\u001b[0m\u001b[0;34m\u001b[0m\u001b[0;34m\u001b[0m\u001b[0;34m\u001b[0m\u001b[0m\n\u001b[1;32m      5\u001b[0m     \u001b[0mnhits_4\u001b[0m \u001b[0;34m=\u001b[0m \u001b[0mh5f\u001b[0m\u001b[0;34m[\u001b[0m\u001b[0;34m\"events/NHits\"\u001b[0m\u001b[0;34m]\u001b[0m\u001b[0;34m[\u001b[0m\u001b[0;34m:\u001b[0m\u001b[0;34m]\u001b[0m\u001b[0;34m\u001b[0m\u001b[0;34m\u001b[0m\u001b[0m\n",
      "\u001b[0;31mNameError\u001b[0m: name 'filename_events_4' is not defined"
     ]
    }
   ],
   "source": [
    "with h5py.File(filename_events_4) as h5f:\n",
    "#     x = h5f[\"events/x\"][:]\n",
    "#     y = h5f[\"events/y\"][:]\n",
    "#     tof_ns = h5f[\"events/tof_ns\"][:]\n",
    "    nhits_4 = h5f[\"events/NHits\"][:]"
   ]
  },
  {
   "cell_type": "code",
   "execution_count": 92,
   "id": "a2be2c8b",
   "metadata": {},
   "outputs": [
    {
     "data": {
      "text/plain": [
       "Text(0.5, 0, 'nhits')"
      ]
     },
     "execution_count": 92,
     "metadata": {},
     "output_type": "execute_result"
    },
    {
     "data": {
      "image/png": "[encoded data removed]",
      "text/plain": [
       "<Figure size 432x288 with 1 Axes>"
      ]
     },
     "metadata": {
      "needs_background": "light"
     },
     "output_type": "display_data"
    }
   ],
   "source": [
    "plt.figure()\n",
    "_ = plt.hist(nhits, 150,range=[0, 150],alpha = 0.5, label='Neutron: Spider time 500000 ns' )\n",
    "_ = plt.hist(nhits_1, 150,range=[0, 150],alpha = 0.5, label='Neutron: Spider time 50000 ns' )\n",
    "# _ = plt.hist(nhits_3, 120,range=[0, 120],alpha = 0.5, label='Cs137' )\n",
    "# _ = plt.hist(nhits_4, 120,range=[0, 120],alpha = 0.3, label='Am' )\n",
    "_ = plt.hist(nhits_2, 150,range=[0, 150],alpha = 0.3, label='Neutron: Spider time 5000 ns')\n",
    "# _ = plt.hist(nhits_5, 120,range=[0, 120],alpha = 0.3, label='After glow(16 h later)' )\n",
    "\n",
    "plt.yscale('log', nonposy='clip')\n",
    "plt.legend(loc='upper right')\n",
    "plt.xlabel(\"nhits\")"
   ]
  },
  {
   "cell_type": "markdown",
   "id": "5af482a3",
   "metadata": {},
   "source": [
    "## Plot data after centroiding"
   ]
  },
  {
   "cell_type": "code",
   "execution_count": 45,
   "id": "6167f333",
   "metadata": {},
   "outputs": [
    {
     "ename": "NameError",
     "evalue": "name 'scipy' is not defined",
     "output_type": "error",
     "traceback": [
      "\u001b[0;31m---------------------------------------------------------------------------\u001b[0m",
      "\u001b[0;31mNameError\u001b[0m                                 Traceback (most recent call last)",
      "\u001b[0;32m<ipython-input-45-91a7e0d43afe>\u001b[0m in \u001b[0;36m<module>\u001b[0;34m\u001b[0m\n\u001b[0;32m----> 1\u001b[0;31m \u001b[0mmu\u001b[0m\u001b[0;34m,\u001b[0m \u001b[0msigma\u001b[0m \u001b[0;34m=\u001b[0m \u001b[0mscipy\u001b[0m\u001b[0;34m.\u001b[0m\u001b[0mstats\u001b[0m\u001b[0;34m.\u001b[0m\u001b[0mnorm\u001b[0m\u001b[0;34m.\u001b[0m\u001b[0mfit\u001b[0m\u001b[0;34m(\u001b[0m\u001b[0mnhits\u001b[0m\u001b[0;34m,\u001b[0m\u001b[0mrange\u001b[0m\u001b[0;34m=\u001b[0m\u001b[0;34m[\u001b[0m\u001b[0;36m0\u001b[0m\u001b[0;34m,\u001b[0m \u001b[0;36m60\u001b[0m\u001b[0;34m]\u001b[0m\u001b[0;34m)\u001b[0m\u001b[0;34m\u001b[0m\u001b[0;34m\u001b[0m\u001b[0m\n\u001b[0m\u001b[1;32m      2\u001b[0m \u001b[0mbest_fit_line\u001b[0m \u001b[0;34m=\u001b[0m \u001b[0mscipy\u001b[0m\u001b[0;34m.\u001b[0m\u001b[0mstats\u001b[0m\u001b[0;34m.\u001b[0m\u001b[0mnorm\u001b[0m\u001b[0;34m.\u001b[0m\u001b[0mpdf\u001b[0m\u001b[0;34m(\u001b[0m\u001b[0;36m100\u001b[0m\u001b[0;34m,\u001b[0m \u001b[0mmu\u001b[0m\u001b[0;34m,\u001b[0m \u001b[0msigma\u001b[0m\u001b[0;34m)\u001b[0m\u001b[0;34m\u001b[0m\u001b[0;34m\u001b[0m\u001b[0m\n\u001b[1;32m      3\u001b[0m \u001b[0mplt\u001b[0m\u001b[0;34m.\u001b[0m\u001b[0mplot\u001b[0m\u001b[0;34m(\u001b[0m\u001b[0;36m100\u001b[0m\u001b[0;34m,\u001b[0m \u001b[0mbest_fit_line\u001b[0m\u001b[0;34m)\u001b[0m\u001b[0;34m\u001b[0m\u001b[0;34m\u001b[0m\u001b[0m\n",
      "\u001b[0;31mNameError\u001b[0m: name 'scipy' is not defined"
     ]
    }
   ],
   "source": [
    "mu, sigma = scipy.stats.norm.fit(nhits,range=[0, 60])\n",
    "best_fit_line = scipy.stats.norm.pdf(100, mu, sigma)\n",
    "plt.plot(100, best_fit_line)"
   ]
  },
  {
   "cell_type": "code",
   "execution_count": 30,
   "id": "1a15d0ca",
   "metadata": {},
   "outputs": [
    {
     "data": {
      "text/plain": [
       "<matplotlib.image.AxesImage at 0x7febb1b00490>"
      ]
     },
     "execution_count": 30,
     "metadata": {},
     "output_type": "execute_result"
    },
    {
     "data": {
      "image/png": "[encoded data removed]",
      "text/plain": [
       "<Figure size 576x576 with 1 Axes>"
      ]
     },
     "metadata": {
      "needs_background": "light"
     },
     "output_type": "display_data"
    }
   ],
   "source": [
    "binsize=256\n",
    "xedges = np.linspace(256, 512, binsize+1)\n",
    "yedges = np.linspace(0, 256, binsize+1)\n",
    "H, xedges, yedges = np.histogram2d(x, y, bins=(xedges, yedges))\n",
    "H = H.T\n",
    "fig, ax = plt.subplots(figsize=(8,8))\n",
    "ax.imshow(\n",
    "#     H,\n",
    "     np.log(H+1),\n",
    "#       vmin=0, vmax=10,\n",
    "    interpolation='nearest',\n",
    "    origin='lower',\n",
    "    extent=[xedges[0], xedges[-1], yedges[0], yedges[-1]],\n",
    "    cmap='viridis',\n",
    "#     cmap=\"gray\",\n",
    ")"
   ]
  },
  {
   "cell_type": "code",
   "execution_count": null,
   "id": "658dbccc",
   "metadata": {},
   "outputs": [],
   "source": [
    "with h5py.File(filename_hits) as h5f:\n",
    "    x = h5f[\"hits/x\"][:]\n",
    "    y = h5f[\"hits/y\"][:]\n",
    "    tof_ns = h5f[\"hits/tof_ns\"][:]\n",
    "#     nhits = h5f[\"events/NHits\"][:]"
   ]
  },
  {
   "cell_type": "markdown",
   "id": "ad70996a",
   "metadata": {},
   "source": [
    "# Plot data before centroiding"
   ]
  },
  {
   "cell_type": "code",
   "execution_count": null,
   "id": "803b60f1",
   "metadata": {},
   "outputs": [],
   "source": [
    "binsize=256\n",
    "xedges = np.linspace(256, 512, binsize+1)\n",
    "yedges = np.linspace(0, 256, binsize+1)\n",
    "H, xedges, yedges = np.histogram2d(x, y, bins=(xedges, yedges))\n",
    "H = H.T\n",
    "fig, ax = plt.subplots(figsize=(8,8))\n",
    "ax.imshow(\n",
    "#     H,\n",
    "     np.log(H+1),\n",
    "#       vmin=0, vmax=10,\n",
    "    interpolation='nearest',\n",
    "    origin='lower',\n",
    "    extent=[xedges[0], xedges[-1], yedges[0], yedges[-1]],\n",
    "    cmap='viridis',\n",
    "#     cmap=\"gray\",\n",
    ")"
   ]
  },
  {
   "cell_type": "code",
   "execution_count": null,
   "id": "6e857089",
   "metadata": {
    "ExecuteTime": {
     "end_time": "2023-03-06T20:31:25.999645Z",
     "start_time": "2023-03-06T20:31:25.433974Z"
    }
   },
   "outputs": [],
   "source": [
    "binsize=1024\n",
    "xedges = np.linspace(0, binsize, binsize+1)\n",
    "yedges = np.linspace(0, binsize, binsize+1)\n",
    "H, xedges, yedges = np.histogram2d(x, y, bins=(xedges, yedges))\n",
    "H = H.T\n",
    "fig, ax = plt.subplots(figsize=(8,8))\n",
    "ax.imshow(\n",
    "    # H,\n",
    "    -np.log(H+1),\n",
    "    interpolation='nearest',\n",
    "    origin='lower',\n",
    "    extent=[xedges[0], xedges[-1], yedges[0], yedges[-1]],\n",
    "    cmap=\"gray\",\n",
    ")\n",
    "plt.close()"
   ]
  },
  {
   "cell_type": "code",
   "execution_count": null,
   "id": "7b4b3d0b",
   "metadata": {
    "ExecuteTime": {
     "end_time": "2023-03-06T20:31:50.905891Z",
     "start_time": "2023-03-06T20:31:44.268716Z"
    }
   },
   "outputs": [],
   "source": [
    "plt.figure()\n",
    "_ = plt.hist(nhits*1e-6, 10000)\n",
    "plt.xlabel(\"nhits\")"
   ]
  },
  {
   "cell_type": "code",
   "execution_count": null,
   "id": "16466964",
   "metadata": {
    "ExecuteTime": {
     "end_time": "2023-03-06T20:43:34.635187Z",
     "start_time": "2023-03-06T20:43:34.611267Z"
    }
   },
   "outputs": [],
   "source": [
    "filename_events = \"/Users/fumiaki/Documents/ORNL/Research/Sophyread/mcpevent2hist-main/sophiread/build/data/Zeiss.hdf5\"\n",
    "\n",
    "with h5py.File(filename_events) as h5f:\n",
    "    x = h5f[\"events/x\"][:]\n",
    "    y = h5f[\"events/y\"][:]\n",
    "    tof_ns = h5f[\"events/tof_ns\"][:]\n",
    "    nhits = h5f[\"events/NHits\"][:]"
   ]
  },
  {
   "cell_type": "code",
   "execution_count": null,
   "id": "e5d9425c",
   "metadata": {
    "ExecuteTime": {
     "end_time": "2023-03-06T20:44:32.480556Z",
     "start_time": "2023-03-06T20:44:29.099754Z"
    }
   },
   "outputs": [],
   "source": [
    "plt.figure()\n",
    "_ = plt.hist(tof_ns*1e-6, 170)\n",
    "plt.xlabel(\"time-of-flight (ms)\")"
   ]
  },
  {
   "cell_type": "code",
   "execution_count": null,
   "id": "d78a15bc",
   "metadata": {
    "ExecuteTime": {
     "end_time": "2023-03-07T20:59:23.971533Z",
     "start_time": "2023-03-07T20:59:23.906974Z"
    }
   },
   "outputs": [],
   "source": [
    "# filename_events = \"/Users/fumiaki/Documents/ORNL/Research/Sophyread/mcpevent2hist-main/sophiread/build/data/Zeiss.hdf5\"\n",
    "filename_events = \"/Users/fumiaki/Documents/ORNL/Research/Sophyread/mcpevent2hist-main/sophiread/build/data/Navitar_hit.h5\"\n",
    "\n",
    "with h5py.File(filename_events) as h5f:\n",
    "    x = h5f[\"hits/x\"][:]\n",
    "    y = h5f[\"hits/y\"][:]\n",
    "#     tof_ns = h5f[\"events/tof_ns\"][:]\n",
    "#     nhits = h5f[\"events/NHits\"][:]"
   ]
  },
  {
   "cell_type": "code",
   "execution_count": null,
   "id": "59149358",
   "metadata": {},
   "outputs": [],
   "source": [
    "len(x),len(y)"
   ]
  },
  {
   "cell_type": "code",
   "execution_count": null,
   "id": "9d3517c3",
   "metadata": {
    "ExecuteTime": {
     "end_time": "2023-03-07T20:59:42.882877Z",
     "start_time": "2023-03-07T20:59:42.170674Z"
    }
   },
   "outputs": [],
   "source": [
    "binsize=256\n",
    "xedges = np.linspace(256, 512, binsize+1)\n",
    "yedges = np.linspace(0, 256, binsize+1)\n",
    "H, xedges, yedges = np.histogram2d(x, y, bins=(xedges, yedges))\n",
    "H = H.T\n",
    "fig, ax = plt.subplots(figsize=(8,8))\n",
    "ax.imshow(\n",
    "#     H,\n",
    "     np.log(H+1),\n",
    "#       vmin=0, vmax=10,\n",
    "    interpolation='nearest',\n",
    "    origin='lower',\n",
    "    extent=[xedges[0], xedges[-1], yedges[0], yedges[-1]],\n",
    "    cmap='viridis',\n",
    "#     cmap=\"gray\",\n",
    ")"
   ]
  },
  {
   "cell_type": "code",
   "execution_count": null,
   "id": "8d8ea791",
   "metadata": {
    "ExecuteTime": {
     "end_time": "2023-03-07T21:00:11.608951Z",
     "start_time": "2023-03-07T20:59:59.121583Z"
    }
   },
   "outputs": [],
   "source": [
    "plt.figure()\n",
    "_ = plt.hist(tof_ns*1e-6, 17000)\n",
    "plt.xlabel(\"time-of-flight (ms)\")"
   ]
  },
  {
   "cell_type": "code",
   "execution_count": null,
   "id": "22e64a3e",
   "metadata": {
    "ExecuteTime": {
     "end_time": "2023-03-07T21:00:33.427458Z",
     "start_time": "2023-03-07T21:00:33.293993Z"
    }
   },
   "outputs": [],
   "source": [
    "filename_events = \"/Users/fumiaki/Documents/ORNL/Research/Sophyread/mcpevent2hist-main/sophiread/build/data/Zeiss.hdf5\"\n",
    "\n",
    "with h5py.File(filename_events) as h5f:\n",
    "    x = h5f[\"events/x\"][:]\n",
    "    y = h5f[\"events/y\"][:]\n",
    "    tof_ns = h5f[\"events/tof_ns\"][:]\n",
    "    nhits = h5f[\"events/NHits\"][:]"
   ]
  },
  {
   "cell_type": "code",
   "execution_count": null,
   "id": "183813a2",
   "metadata": {
    "ExecuteTime": {
     "end_time": "2023-03-07T21:10:55.296987Z",
     "start_time": "2023-03-07T21:10:52.653324Z"
    }
   },
   "outputs": [],
   "source": [
    "binsize=512\n",
    "xedges = np.linspace(0, binsize, binsize+1)\n",
    "yedges = np.linspace(0, binsize, binsize+1)\n",
    "H, xedges, yedges = np.histogram2d(x, y, bins=(xedges, yedges))\n",
    "H = H.T\n",
    "fig, ax = plt.subplots(figsize=(8,8))\n",
    "ax.imshow(\n",
    "    H,\n",
    "#     -np.log(H+1),\n",
    "    interpolation='nearest',\n",
    "     vmin=0, vmax=6,\n",
    "    origin='lower',\n",
    "    extent=[xedges[0], xedges[-1], yedges[0], yedges[-1]],\n",
    "  cmap='viridis',\n",
    ")"
   ]
  },
  {
   "cell_type": "code",
   "execution_count": null,
   "id": "ef9cc315",
   "metadata": {
    "ExecuteTime": {
     "end_time": "2023-03-07T21:01:10.609440Z",
     "start_time": "2023-03-07T21:01:09.943723Z"
    }
   },
   "outputs": [],
   "source": [
    "plt.figure()\n",
    "_ = plt.hist(tof_ns*1e-6, 1700)\n",
    "plt.xlabel(\"time-of-flight (ms)\")"
   ]
  },
  {
   "cell_type": "code",
   "execution_count": null,
   "id": "93ce380a",
   "metadata": {},
   "outputs": [],
   "source": []
  }
 ],
 "metadata": {
  "kernelspec": {
   "display_name": "Python 3",
   "language": "python",
   "name": "python3"
  },
  "language_info": {
   "codemirror_mode": {
    "name": "ipython",
    "version": 3
   },
   "file_extension": ".py",
   "mimetype": "text/x-python",
   "name": "python",
   "nbconvert_exporter": "python",
   "pygments_lexer": "ipython3",
   "version": "3.7.16"
  }
 },
 "nbformat": 4,
 "nbformat_minor": 5
}
