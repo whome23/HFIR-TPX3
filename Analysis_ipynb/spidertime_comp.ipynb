{
 "cells": [
  {
   "cell_type": "code",
   "execution_count": 2,
   "id": "1492b053",
   "metadata": {
    "ExecuteTime": {
     "end_time": "2023-03-06T17:00:25.769264Z",
     "start_time": "2023-03-06T17:00:25.453388Z"
    }
   },
   "outputs": [],
   "source": [
    "# %matplotlib ipympl\n",
    "import h5py \n",
    "import numpy as np \n",
    "import matplotlib.pyplot as plt \n",
    "import sys\n",
    "import nexusformat.nexus as nx\n",
    "from matplotlib.colors import LogNorm"
   ]
  },
  {
   "cell_type": "code",
   "execution_count": 3,
   "id": "e20bc904",
   "metadata": {},
   "outputs": [],
   "source": [
    "# neutron events\n",
    "# neutron_events = \"/Users/fumiaki/Documents/ORNL/Research/PTX3_Analysis/Data/0p3thickness/Neutron/neutron_spi_50000ns.h5\"\n",
    "\n",
    "# #Co event\n",
    "# Co_events = \"/Users/fumiaki/Documents/ORNL/Research/PTX3_Analysis/Data/0p3thickness/Co60/C0_spi_500000ns.h5\"\n",
    "# # Back ground\n",
    "# Back_events = \"/Users/fumiaki/Documents/ORNL/Research/PTX3_Analysis/Data/0p3thickness/Background/background_spi_500000ns.h5\"\n",
    "\n",
    "# # Cs event\n",
    "# Cs_events = \"/Users/fumiaki/Documents/ORNL/Research/PTX3_Analysis/Data/0p3thickness/Cs137/Cs_spi_500000ns.h5\"\n",
    "\n",
    "# # Am event\n",
    "# Am_events = \"/Users/fumiaki/Documents/ORNL/Research/PTX3_Analysis/Data/0p3thickness/Am/Am_spi_500000ns.h5\"\n",
    "\n",
    "# # After grow\n",
    "# Aftergrow_events = \"/Users/fumiaki/Documents/ORNL/Research/PTX3_Analysis/Data/0p3thickness/aftergrow/aftergrow_spi_500000ns.h5\"\n",
    "\n",
    "\n",
    "# 0.3 mmthick\n",
    "#Co event\n",
    "# filename_events_1 = \"/Users/fumiaki/Documents/ORNL/Research/Sophyread/mcpevent2hist-main/sophiread/build/data/0p3thickness/Co60/Co60_events.h5\"\n",
    "\n",
    "\n",
    "# Cs event\n",
    "# filename_events_3 = \"/Users/fumiaki/Documents/ORNL/Research/Sophyread/mcpevent2hist-main/sophiread/build/data/0p3thickness/Cs137/Cs137_events.h5\"\n",
    "\n",
    "# Am event\n",
    "# filename_events_4 = \"/Users/fumiaki/Documents/ORNL/Research/Sophyread/mcpevent2hist-main/sophiread/build/data/0p3thickness/Am/Am_events.h5\"\n",
    "\n",
    "# # neutron events\n",
    "# filename_events = \"/Users/fumiaki/Documents/ORNL/Research/PTX3_Analysis/Data/0p3thickness/Neutron/neutron.h5\"\n",
    "# previous one\n",
    "filename_events_1 = \"/Users/fumiaki/Documents/ORNL/Research/PTX3_Analysis/Data/0p3thickness/Neutron/neutron_spi_5000ns.h5\"\n",
    "\n",
    "\n",
    "filename_events_2 = \"/Users/fumiaki/Documents/ORNL/Research/PTX3_Analysis/Data/0p3thickness/Neutron/neutron_spi_50000ns.h5\"\n",
    "\n",
    "\n",
    "filename_events_3 = \"/Users/fumiaki/Documents/ORNL/Research/PTX3_Analysis/Data/0p3thickness/Neutron/neutron_spi_500000ns.h5\"\n",
    "\n",
    "filename_events_4 = \"/Users/fumiaki/Documents/ORNL/Research/PTX3_Analysis/Data/0p3thickness/Neutron/neutron_spi_5000000ns.h5\"\n",
    "filename_events_4_1 = \"/Users/fumiaki/Documents/ORNL/Research/PTX3_Analysis/Data/0p3thickness/Neutron/neutron_spi_10000000ns.h5\"\n",
    "filename_events_4_2 = \"/Users/fumiaki/Documents/ORNL/Research/PTX3_Analysis/Data/0p3thickness/Neutron/neutron_spi_20000000ns.h5\"\n",
    "filename_events_4_3 = \"/Users/fumiaki/Documents/ORNL/Research/PTX3_Analysis/Data/0p3thickness/Neutron/neutron_spi_30000000ns.h5\"\n",
    "filename_events_4_4 = \"/Users/fumiaki/Documents/ORNL/Research/PTX3_Analysis/Data/0p3thickness/Neutron/neutron_spi_40000000ns.h5\"\n",
    "\n",
    "filename_events_5 = \"/Users/fumiaki/Documents/ORNL/Research/PTX3_Analysis/Data/0p3thickness/Neutron/neutron_spi_50000000ns.h5\"\n",
    "filename_events_5_1 = \"/Users/fumiaki/Documents/ORNL/Research/PTX3_Analysis/Data/0p3thickness/Neutron/neutron_spi_60000000ns.h5\"\n",
    "filename_events_5_2 = \"/Users/fumiaki/Documents/ORNL/Research/PTX3_Analysis/Data/0p3thickness/Neutron/neutron_spi_70000000ns.h5\"\n",
    "filename_events_5_3 = \"/Users/fumiaki/Documents/ORNL/Research/PTX3_Analysis/Data/0p3thickness/Neutron/neutron_spi_80000000ns.h5\"\n",
    "filename_events_5_4 = \"/Users/fumiaki/Documents/ORNL/Research/PTX3_Analysis/Data/0p3thickness/Neutron/neutron_spi_90000000ns.h5\"\n",
    "filename_events_5_5 = \"/Users/fumiaki/Documents/ORNL/Research/PTX3_Analysis/Data/0p3thickness/Neutron/neutron_spi_100000000ns.h5\"\n",
    "filename_events_5_6 = \"/Users/fumiaki/Documents/ORNL/Research/PTX3_Analysis/Data/0p3thickness/Neutron/neutron_spi_200000000ns.h5\"\n",
    "filename_events_5_7 = \"/Users/fumiaki/Documents/ORNL/Research/PTX3_Analysis/Data/0p3thickness/Neutron/neutron_spi_300000000ns.h5\"\n",
    "filename_events_5_8 = \"/Users/fumiaki/Documents/ORNL/Research/PTX3_Analysis/Data/0p3thickness/Neutron/neutron_spi_400000000ns.h5\"\n",
    "\n",
    "\n",
    "\n",
    "\n",
    "\n",
    "\n",
    "filename_events_6 = \"/Users/fumiaki/Documents/ORNL/Research/PTX3_Analysis/Data/0p3thickness/Neutron/neutron_spi_500000000ns.h5\"\n",
    "\n",
    "\n",
    "# Background (Put scinti in 16 hours in light tight box)\n",
    "# filename_events_5=\"/Users/fumiaki/Documents/ORNL/Research/Sophyread/mcpevent2hist-main/sophiread/build/data/0p3thickness/Background/background.h5\"\n",
    "\n",
    "\n",
    "\n",
    "\n",
    "\n",
    "\n",
    "\n",
    "\n",
    "# f = nx.nxload(filename_events)\n",
    "# print(f.tree)\n",
    "\n",
    "# ff = nx.nxload(filename_hits)\n",
    "# print(ff.tree)"
   ]
  },
  {
   "cell_type": "code",
   "execution_count": 4,
   "id": "f9796b44",
   "metadata": {},
   "outputs": [
    {
     "name": "stderr",
     "output_type": "stream",
     "text": [
      "/Users/fumiaki/opt/anaconda3/lib/python3.7/site-packages/ipykernel_launcher.py:1: H5pyDeprecationWarning: The default file mode will change to 'r' (read-only) in h5py 3.0. To suppress this warning, pass the mode you need to h5py.File(), or set the global default h5.get_config().default_file_mode, or set the environment variable H5PY_DEFAULT_READONLY=1. Available modes are: 'r', 'r+', 'w', 'w-'/'x', 'a'. See the docs for details.\n",
      "  \"\"\"Entry point for launching an IPython kernel.\n"
     ]
    }
   ],
   "source": [
    "with h5py.File(filename_events_5_6) as h5f:\n",
    "#     x = h5f[\"events/x\"][:]\n",
    "#     y = h5f[\"events/y\"][:]\n",
    "     tot_200000000ns = h5f[\"events/tot\"][:]\n",
    "     nhits_200000000ns = h5f[\"events/NHits\"][:]"
   ]
  },
  {
   "cell_type": "code",
   "execution_count": 5,
   "id": "9b08e567",
   "metadata": {},
   "outputs": [
    {
     "name": "stderr",
     "output_type": "stream",
     "text": [
      "/Users/fumiaki/opt/anaconda3/lib/python3.7/site-packages/ipykernel_launcher.py:1: H5pyDeprecationWarning: The default file mode will change to 'r' (read-only) in h5py 3.0. To suppress this warning, pass the mode you need to h5py.File(), or set the global default h5.get_config().default_file_mode, or set the environment variable H5PY_DEFAULT_READONLY=1. Available modes are: 'r', 'r+', 'w', 'w-'/'x', 'a'. See the docs for details.\n",
      "  \"\"\"Entry point for launching an IPython kernel.\n"
     ]
    }
   ],
   "source": [
    "with h5py.File(filename_events_5_7) as h5f:\n",
    "#     x = h5f[\"events/x\"][:]\n",
    "#     y = h5f[\"events/y\"][:]\n",
    "     tot_300000000ns = h5f[\"events/tot\"][:]\n",
    "     nhits_300000000ns = h5f[\"events/NHits\"][:]"
   ]
  },
  {
   "cell_type": "code",
   "execution_count": 6,
   "id": "e654e960",
   "metadata": {},
   "outputs": [
    {
     "name": "stderr",
     "output_type": "stream",
     "text": [
      "/Users/fumiaki/opt/anaconda3/lib/python3.7/site-packages/ipykernel_launcher.py:1: H5pyDeprecationWarning: The default file mode will change to 'r' (read-only) in h5py 3.0. To suppress this warning, pass the mode you need to h5py.File(), or set the global default h5.get_config().default_file_mode, or set the environment variable H5PY_DEFAULT_READONLY=1. Available modes are: 'r', 'r+', 'w', 'w-'/'x', 'a'. See the docs for details.\n",
      "  \"\"\"Entry point for launching an IPython kernel.\n"
     ]
    }
   ],
   "source": [
    "with h5py.File(filename_events_5_8) as h5f:\n",
    "#     x = h5f[\"events/x\"][:]\n",
    "#     y = h5f[\"events/y\"][:]\n",
    "     tot_400000000ns = h5f[\"events/tot\"][:]\n",
    "     nhits_400000000ns = h5f[\"events/NHits\"][:]"
   ]
  },
  {
   "cell_type": "code",
   "execution_count": 7,
   "id": "11872c46",
   "metadata": {},
   "outputs": [
    {
     "name": "stderr",
     "output_type": "stream",
     "text": [
      "/Users/fumiaki/opt/anaconda3/lib/python3.7/site-packages/ipykernel_launcher.py:1: H5pyDeprecationWarning: The default file mode will change to 'r' (read-only) in h5py 3.0. To suppress this warning, pass the mode you need to h5py.File(), or set the global default h5.get_config().default_file_mode, or set the environment variable H5PY_DEFAULT_READONLY=1. Available modes are: 'r', 'r+', 'w', 'w-'/'x', 'a'. See the docs for details.\n",
      "  \"\"\"Entry point for launching an IPython kernel.\n"
     ]
    }
   ],
   "source": [
    "with h5py.File(filename_events_6) as h5f:\n",
    "#     x = h5f[\"events/x\"][:]\n",
    "#     y = h5f[\"events/y\"][:]\n",
    "     tot_500000000ns = h5f[\"events/tot\"][:]\n",
    "     nhits_500000000ns = h5f[\"events/NHits\"][:]"
   ]
  },
  {
   "cell_type": "code",
   "execution_count": 8,
   "id": "40db78fd",
   "metadata": {},
   "outputs": [
    {
     "name": "stderr",
     "output_type": "stream",
     "text": [
      "/Users/fumiaki/opt/anaconda3/lib/python3.7/site-packages/ipykernel_launcher.py:1: H5pyDeprecationWarning: The default file mode will change to 'r' (read-only) in h5py 3.0. To suppress this warning, pass the mode you need to h5py.File(), or set the global default h5.get_config().default_file_mode, or set the environment variable H5PY_DEFAULT_READONLY=1. Available modes are: 'r', 'r+', 'w', 'w-'/'x', 'a'. See the docs for details.\n",
      "  \"\"\"Entry point for launching an IPython kernel.\n"
     ]
    }
   ],
   "source": [
    "with h5py.File(filename_events_4_1) as h5f:\n",
    "#     x = h5f[\"events/x\"][:]\n",
    "#     y = h5f[\"events/y\"][:]\n",
    "     tot_10000000ns = h5f[\"events/tot\"][:]\n",
    "     nhits_10000000ns = h5f[\"events/NHits\"][:]"
   ]
  },
  {
   "cell_type": "code",
   "execution_count": 9,
   "id": "baf25b84",
   "metadata": {},
   "outputs": [
    {
     "name": "stderr",
     "output_type": "stream",
     "text": [
      "/Users/fumiaki/opt/anaconda3/lib/python3.7/site-packages/ipykernel_launcher.py:1: H5pyDeprecationWarning: The default file mode will change to 'r' (read-only) in h5py 3.0. To suppress this warning, pass the mode you need to h5py.File(), or set the global default h5.get_config().default_file_mode, or set the environment variable H5PY_DEFAULT_READONLY=1. Available modes are: 'r', 'r+', 'w', 'w-'/'x', 'a'. See the docs for details.\n",
      "  \"\"\"Entry point for launching an IPython kernel.\n"
     ]
    }
   ],
   "source": [
    "with h5py.File(filename_events_4_2) as h5f:\n",
    "#     x = h5f[\"events/x\"][:]\n",
    "#     y = h5f[\"events/y\"][:]\n",
    "     tot_20000000ns = h5f[\"events/tot\"][:]\n",
    "     nhits_20000000ns = h5f[\"events/NHits\"][:]"
   ]
  },
  {
   "cell_type": "code",
   "execution_count": 10,
   "id": "20f61e18",
   "metadata": {},
   "outputs": [
    {
     "name": "stderr",
     "output_type": "stream",
     "text": [
      "/Users/fumiaki/opt/anaconda3/lib/python3.7/site-packages/ipykernel_launcher.py:1: H5pyDeprecationWarning: The default file mode will change to 'r' (read-only) in h5py 3.0. To suppress this warning, pass the mode you need to h5py.File(), or set the global default h5.get_config().default_file_mode, or set the environment variable H5PY_DEFAULT_READONLY=1. Available modes are: 'r', 'r+', 'w', 'w-'/'x', 'a'. See the docs for details.\n",
      "  \"\"\"Entry point for launching an IPython kernel.\n"
     ]
    }
   ],
   "source": [
    "with h5py.File(filename_events_4_3) as h5f:\n",
    "#     x = h5f[\"events/x\"][:]\n",
    "#     y = h5f[\"events/y\"][:]\n",
    "     tot_30000000ns = h5f[\"events/tot\"][:]\n",
    "     nhits_30000000ns = h5f[\"events/NHits\"][:]"
   ]
  },
  {
   "cell_type": "code",
   "execution_count": 11,
   "id": "596ff705",
   "metadata": {},
   "outputs": [
    {
     "name": "stderr",
     "output_type": "stream",
     "text": [
      "/Users/fumiaki/opt/anaconda3/lib/python3.7/site-packages/ipykernel_launcher.py:1: H5pyDeprecationWarning: The default file mode will change to 'r' (read-only) in h5py 3.0. To suppress this warning, pass the mode you need to h5py.File(), or set the global default h5.get_config().default_file_mode, or set the environment variable H5PY_DEFAULT_READONLY=1. Available modes are: 'r', 'r+', 'w', 'w-'/'x', 'a'. See the docs for details.\n",
      "  \"\"\"Entry point for launching an IPython kernel.\n"
     ]
    }
   ],
   "source": [
    "with h5py.File(filename_events_4_4) as h5f:\n",
    "#     x = h5f[\"events/x\"][:]\n",
    "#     y = h5f[\"events/y\"][:]\n",
    "     tot_40000000ns = h5f[\"events/tot\"][:]\n",
    "     nhits_40000000ns = h5f[\"events/NHits\"][:]"
   ]
  },
  {
   "cell_type": "code",
   "execution_count": 12,
   "id": "390c2424",
   "metadata": {},
   "outputs": [
    {
     "name": "stderr",
     "output_type": "stream",
     "text": [
      "/Users/fumiaki/opt/anaconda3/lib/python3.7/site-packages/ipykernel_launcher.py:1: H5pyDeprecationWarning: The default file mode will change to 'r' (read-only) in h5py 3.0. To suppress this warning, pass the mode you need to h5py.File(), or set the global default h5.get_config().default_file_mode, or set the environment variable H5PY_DEFAULT_READONLY=1. Available modes are: 'r', 'r+', 'w', 'w-'/'x', 'a'. See the docs for details.\n",
      "  \"\"\"Entry point for launching an IPython kernel.\n"
     ]
    }
   ],
   "source": [
    "with h5py.File(filename_events_5_1) as h5f:\n",
    "#     x = h5f[\"events/x\"][:]\n",
    "#     y = h5f[\"events/y\"][:]\n",
    "     tot_60000000ns = h5f[\"events/tot\"][:]\n",
    "     nhits_60000000ns = h5f[\"events/NHits\"][:]"
   ]
  },
  {
   "cell_type": "code",
   "execution_count": 13,
   "id": "c6773aa2",
   "metadata": {},
   "outputs": [
    {
     "name": "stderr",
     "output_type": "stream",
     "text": [
      "/Users/fumiaki/opt/anaconda3/lib/python3.7/site-packages/ipykernel_launcher.py:1: H5pyDeprecationWarning: The default file mode will change to 'r' (read-only) in h5py 3.0. To suppress this warning, pass the mode you need to h5py.File(), or set the global default h5.get_config().default_file_mode, or set the environment variable H5PY_DEFAULT_READONLY=1. Available modes are: 'r', 'r+', 'w', 'w-'/'x', 'a'. See the docs for details.\n",
      "  \"\"\"Entry point for launching an IPython kernel.\n"
     ]
    }
   ],
   "source": [
    "with h5py.File(filename_events_5_2) as h5f:\n",
    "#     x = h5f[\"events/x\"][:]\n",
    "#     y = h5f[\"events/y\"][:]\n",
    "     tot_70000000ns = h5f[\"events/tot\"][:]\n",
    "     nhits_70000000ns = h5f[\"events/NHits\"][:]"
   ]
  },
  {
   "cell_type": "code",
   "execution_count": 14,
   "id": "ceed4f49",
   "metadata": {},
   "outputs": [
    {
     "name": "stderr",
     "output_type": "stream",
     "text": [
      "/Users/fumiaki/opt/anaconda3/lib/python3.7/site-packages/ipykernel_launcher.py:1: H5pyDeprecationWarning: The default file mode will change to 'r' (read-only) in h5py 3.0. To suppress this warning, pass the mode you need to h5py.File(), or set the global default h5.get_config().default_file_mode, or set the environment variable H5PY_DEFAULT_READONLY=1. Available modes are: 'r', 'r+', 'w', 'w-'/'x', 'a'. See the docs for details.\n",
      "  \"\"\"Entry point for launching an IPython kernel.\n"
     ]
    }
   ],
   "source": [
    "with h5py.File(filename_events_5_3) as h5f:\n",
    "#     x = h5f[\"events/x\"][:]\n",
    "#     y = h5f[\"events/y\"][:]\n",
    "     tot_80000000ns = h5f[\"events/tot\"][:]\n",
    "     nhits_80000000ns = h5f[\"events/NHits\"][:]"
   ]
  },
  {
   "cell_type": "code",
   "execution_count": 15,
   "id": "229f8e49",
   "metadata": {},
   "outputs": [
    {
     "name": "stderr",
     "output_type": "stream",
     "text": [
      "/Users/fumiaki/opt/anaconda3/lib/python3.7/site-packages/ipykernel_launcher.py:1: H5pyDeprecationWarning: The default file mode will change to 'r' (read-only) in h5py 3.0. To suppress this warning, pass the mode you need to h5py.File(), or set the global default h5.get_config().default_file_mode, or set the environment variable H5PY_DEFAULT_READONLY=1. Available modes are: 'r', 'r+', 'w', 'w-'/'x', 'a'. See the docs for details.\n",
      "  \"\"\"Entry point for launching an IPython kernel.\n"
     ]
    }
   ],
   "source": [
    "with h5py.File(filename_events_5_4) as h5f:\n",
    "#     x = h5f[\"events/x\"][:]\n",
    "#     y = h5f[\"events/y\"][:]\n",
    "     tot_90000000ns = h5f[\"events/tot\"][:]\n",
    "     nhits_90000000ns = h5f[\"events/NHits\"][:]"
   ]
  },
  {
   "cell_type": "code",
   "execution_count": 16,
   "id": "5b39e7d9",
   "metadata": {},
   "outputs": [
    {
     "name": "stderr",
     "output_type": "stream",
     "text": [
      "/Users/fumiaki/opt/anaconda3/lib/python3.7/site-packages/ipykernel_launcher.py:1: H5pyDeprecationWarning: The default file mode will change to 'r' (read-only) in h5py 3.0. To suppress this warning, pass the mode you need to h5py.File(), or set the global default h5.get_config().default_file_mode, or set the environment variable H5PY_DEFAULT_READONLY=1. Available modes are: 'r', 'r+', 'w', 'w-'/'x', 'a'. See the docs for details.\n",
      "  \"\"\"Entry point for launching an IPython kernel.\n"
     ]
    }
   ],
   "source": [
    "with h5py.File(filename_events_5_5) as h5f:\n",
    "#     x = h5f[\"events/x\"][:]\n",
    "#     y = h5f[\"events/y\"][:]\n",
    "     tot_100000000ns = h5f[\"events/tot\"][:]\n",
    "     nhits_100000000ns = h5f[\"events/NHits\"][:]"
   ]
  },
  {
   "cell_type": "code",
   "execution_count": 17,
   "id": "0da61748",
   "metadata": {},
   "outputs": [
    {
     "name": "stderr",
     "output_type": "stream",
     "text": [
      "/Users/fumiaki/opt/anaconda3/lib/python3.7/site-packages/ipykernel_launcher.py:1: H5pyDeprecationWarning: The default file mode will change to 'r' (read-only) in h5py 3.0. To suppress this warning, pass the mode you need to h5py.File(), or set the global default h5.get_config().default_file_mode, or set the environment variable H5PY_DEFAULT_READONLY=1. Available modes are: 'r', 'r+', 'w', 'w-'/'x', 'a'. See the docs for details.\n",
      "  \"\"\"Entry point for launching an IPython kernel.\n"
     ]
    }
   ],
   "source": [
    "with h5py.File(filename_events_5_6) as h5f:\n",
    "#     x = h5f[\"events/x\"][:]\n",
    "#     y = h5f[\"events/y\"][:]\n",
    "     tot_Co_events = h5f[\"events/tot\"][:]\n",
    "     nhits_100000000ns = h5f[\"events/NHits\"][:]"
   ]
  },
  {
   "cell_type": "code",
   "execution_count": null,
   "id": "64f61868",
   "metadata": {},
   "outputs": [],
   "source": []
  },
  {
   "cell_type": "code",
   "execution_count": 18,
   "id": "c8f233a7",
   "metadata": {},
   "outputs": [
    {
     "name": "stderr",
     "output_type": "stream",
     "text": [
      "/Users/fumiaki/opt/anaconda3/lib/python3.7/site-packages/ipykernel_launcher.py:1: H5pyDeprecationWarning: The default file mode will change to 'r' (read-only) in h5py 3.0. To suppress this warning, pass the mode you need to h5py.File(), or set the global default h5.get_config().default_file_mode, or set the environment variable H5PY_DEFAULT_READONLY=1. Available modes are: 'r', 'r+', 'w', 'w-'/'x', 'a'. See the docs for details.\n",
      "  \"\"\"Entry point for launching an IPython kernel.\n"
     ]
    }
   ],
   "source": [
    "with h5py.File(filename_events_4) as h5f:\n",
    "#     x = h5f[\"events/x\"][:]\n",
    "#     y = h5f[\"events/y\"][:]\n",
    "     tot_5000000ns = h5f[\"events/tot\"][:]\n",
    "     nhits_5000000ns = h5f[\"events/NHits\"][:]"
   ]
  },
  {
   "cell_type": "code",
   "execution_count": 19,
   "id": "b5a47ad3",
   "metadata": {},
   "outputs": [
    {
     "name": "stderr",
     "output_type": "stream",
     "text": [
      "/Users/fumiaki/opt/anaconda3/lib/python3.7/site-packages/ipykernel_launcher.py:1: H5pyDeprecationWarning: The default file mode will change to 'r' (read-only) in h5py 3.0. To suppress this warning, pass the mode you need to h5py.File(), or set the global default h5.get_config().default_file_mode, or set the environment variable H5PY_DEFAULT_READONLY=1. Available modes are: 'r', 'r+', 'w', 'w-'/'x', 'a'. See the docs for details.\n",
      "  \"\"\"Entry point for launching an IPython kernel.\n"
     ]
    }
   ],
   "source": [
    "with h5py.File(filename_events_3) as h5f:\n",
    "#     x = h5f[\"events/x\"][:]\n",
    "#     y = h5f[\"events/y\"][:]\n",
    "     tot_500000ns = h5f[\"events/tot\"][:]\n",
    "     nhits_500000ns = h5f[\"events/NHits\"][:]"
   ]
  },
  {
   "cell_type": "code",
   "execution_count": 20,
   "id": "4c63f240",
   "metadata": {},
   "outputs": [
    {
     "name": "stderr",
     "output_type": "stream",
     "text": [
      "/Users/fumiaki/opt/anaconda3/lib/python3.7/site-packages/ipykernel_launcher.py:1: H5pyDeprecationWarning: The default file mode will change to 'r' (read-only) in h5py 3.0. To suppress this warning, pass the mode you need to h5py.File(), or set the global default h5.get_config().default_file_mode, or set the environment variable H5PY_DEFAULT_READONLY=1. Available modes are: 'r', 'r+', 'w', 'w-'/'x', 'a'. See the docs for details.\n",
      "  \"\"\"Entry point for launching an IPython kernel.\n"
     ]
    }
   ],
   "source": [
    "with h5py.File(filename_events_1) as h5f:\n",
    "#     x = h5f[\"events/x\"][:]\n",
    "#     y = h5f[\"events/y\"][:]\n",
    "     tot_5000ns = h5f[\"events/tot\"][:]\n",
    "     nhits_5000ns = h5f[\"events/NHits\"][:]"
   ]
  },
  {
   "cell_type": "code",
   "execution_count": 21,
   "id": "7401126c",
   "metadata": {},
   "outputs": [
    {
     "name": "stderr",
     "output_type": "stream",
     "text": [
      "/Users/fumiaki/opt/anaconda3/lib/python3.7/site-packages/ipykernel_launcher.py:1: H5pyDeprecationWarning: The default file mode will change to 'r' (read-only) in h5py 3.0. To suppress this warning, pass the mode you need to h5py.File(), or set the global default h5.get_config().default_file_mode, or set the environment variable H5PY_DEFAULT_READONLY=1. Available modes are: 'r', 'r+', 'w', 'w-'/'x', 'a'. See the docs for details.\n",
      "  \"\"\"Entry point for launching an IPython kernel.\n"
     ]
    }
   ],
   "source": [
    "with h5py.File(filename_events_2) as h5f:\n",
    "#     x = h5f[\"events/x\"][:]\n",
    "#     y = h5f[\"events/y\"][:]\n",
    "     tot_50000ns = h5f[\"events/tot\"][:]\n",
    "     nhits_50000ns = h5f[\"events/NHits\"][:]"
   ]
  },
  {
   "cell_type": "code",
   "execution_count": 22,
   "id": "9bc3cbd1",
   "metadata": {},
   "outputs": [
    {
     "name": "stderr",
     "output_type": "stream",
     "text": [
      "/Users/fumiaki/opt/anaconda3/lib/python3.7/site-packages/ipykernel_launcher.py:1: H5pyDeprecationWarning: The default file mode will change to 'r' (read-only) in h5py 3.0. To suppress this warning, pass the mode you need to h5py.File(), or set the global default h5.get_config().default_file_mode, or set the environment variable H5PY_DEFAULT_READONLY=1. Available modes are: 'r', 'r+', 'w', 'w-'/'x', 'a'. See the docs for details.\n",
      "  \"\"\"Entry point for launching an IPython kernel.\n"
     ]
    }
   ],
   "source": [
    "with h5py.File(filename_events_5) as h5f:\n",
    "#     x = h5f[\"events/x\"][:]\n",
    "#     y = h5f[\"events/y\"][:]\n",
    "     tot_50000000ns = h5f[\"events/tot\"][:]\n",
    "     nhits_50000000ns = h5f[\"events/NHits\"][:]"
   ]
  },
  {
   "cell_type": "code",
   "execution_count": 23,
   "id": "98c22b6b",
   "metadata": {
    "scrolled": true
   },
   "outputs": [
    {
     "data": {
      "text/plain": [
       "Text(0.5, 0, 'nhits')"
      ]
     },
     "execution_count": 23,
     "metadata": {},
     "output_type": "execute_result"
    },
    {
     "data": {
      "image/png": "[encoded data removed]",
      "text/plain": [
       "<Figure size 432x288 with 1 Axes>"
      ]
     },
     "metadata": {
      "needs_background": "light"
     },
     "output_type": "display_data"
    }
   ],
   "source": [
    "plt.figure()\n",
    "_ = plt.hist(nhits_5000ns, 300,range=[0, 300],alpha = 0.5, label='Neutron: Spider time 5 us' )\n",
    "_ = plt.hist(nhits_50000ns, 300,range=[0, 300],alpha = 0.5, label='Neutron: Spider time 50 us' )\n",
    "_ = plt.hist(nhits_500000ns, 300,range=[0, 300],alpha = 0.3, label='Neutron: Spider time 500 us')\n",
    "_ = plt.hist(nhits_5000000ns, 200,range=[0, 200],alpha = 0.3, label='Spider time range 5000 us')\n",
    "# _ = plt.hist(nhits_10000000ns, 200,range=[0, 200],alpha = 0.3, label='Spider time range 10000 us')\n",
    "# _ = plt.hist(nhits_20000000ns, 200,range=[0, 200],alpha = 0.3, label='Spider time range 20000 us')\n",
    "# _ = plt.hist(nhits_30000000ns, 200,range=[0, 200],alpha = 0.3, label='Spider time range 30000 us')\n",
    "# _ = plt.hist(nhits_40000000ns, 200,range=[0, 200],alpha = 0.3, label='Spider time range 40000 us')\n",
    "# _ = plt.hist(nhits_50000000ns, 200,range=[0, 200],alpha = 0.3, label='Spider time range 50000 us')\n",
    "# _ = plt.hist(nhits_60000000ns, 200,range=[0, 200],alpha = 0.3, label='Spider time range 60000 us')\n",
    "# _ = plt.hist(nhits_70000000ns, 200,range=[0, 200],alpha = 0.3, label='Spider time range 70000 us')\n",
    "# _ = plt.hist(nhits_80000000ns, 200,range=[0, 200],alpha = 0.3, label='Spider time range 80000 us')\n",
    "# _ = plt.hist(nhits_90000000ns, 200,range=[0, 200],alpha = 0.3, label='Spider time range 90000 us')\n",
    "# _ = plt.hist(nhits_100000000ns, 200,range=[0, 200],alpha = 0.3, label='Spider time range 100000 us')\n",
    "# _ = plt.hist(nhits_200000000ns, 200,range=[0, 200],alpha = 0.3, label='Spider time range 200000 us')\n",
    "# _ = plt.hist(nhits_300000000ns, 200,range=[0, 200],alpha = 0.3, label='Spider time range 300000 us')\n",
    "# _ = plt.hist(nhits_400000000ns, 200,range=[0, 200],alpha = 0.3, label='Spider time range 400000 us')\n",
    "# _ = plt.hist(nhits_500000000ns, 200,range=[0, 200],alpha = 0.3, label='Spider time range 500000 us')\n",
    "\n",
    "\n",
    "\n",
    "# _ = plt.hist(nhits_50000000ns, 300,range=[0, 300],alpha = 0.3, label='Neutron: Spider time 50000 us')\n",
    "# _ = plt.hist(nhits_500000000ns, 300,range=[0, 300],alpha = 0.3, label='Neutron: Spider time 500000 us')\n",
    "\n",
    "\n",
    "# _ = plt.hist(nhits_5, 120,range=[0, 120],alpha = 0.3, label='After glow(16 h later)' )\n",
    "\n",
    "plt.yscale('log', nonposy='clip')\n",
    "plt.legend(loc='upper right')\n",
    "plt.xlabel(\"nhits\")"
   ]
  },
  {
   "cell_type": "code",
   "execution_count": 25,
   "id": "dd590001",
   "metadata": {},
   "outputs": [
    {
     "data": {
      "text/plain": [
       "Text(0, 0.5, 'TOT')"
      ]
     },
     "execution_count": 25,
     "metadata": {},
     "output_type": "execute_result"
    },
    {
     "data": {
      "image/png": "[encoded data removed]",
      "text/plain": [
       "<Figure size 432x288 with 2 Axes>"
      ]
     },
     "metadata": {
      "needs_background": "light"
     },
     "output_type": "display_data"
    }
   ],
   "source": [
    "plt.figure()\n",
    "_ = plt.hist2d(nhits_5000000ns, tot_5000000ns, bins=200, range=np.array([(0, 200), (0, 2500)]),norm=LogNorm())\n",
    "plt.colorbar()\n",
    "# ax.set_ylabel('Y')\n",
    "# plt.yscale('log', nonposy='clip')\n",
    "# plt.legend(loc='upper right')\n",
    "plt.xlabel(\"nhits\")\n",
    "plt.ylabel(\"TOT\")"
   ]
  },
  {
   "cell_type": "code",
   "execution_count": 142,
   "id": "2c02f429",
   "metadata": {},
   "outputs": [
    {
     "data": {
      "text/plain": [
       "Text(0, 0.5, 'TOT')"
      ]
     },
     "execution_count": 142,
     "metadata": {},
     "output_type": "execute_result"
    },
    {
     "data": {
      "image/png": "[encoded data removed]",
      "text/plain": [
       "<Figure size 432x288 with 2 Axes>"
      ]
     },
     "metadata": {
      "needs_background": "light"
     },
     "output_type": "display_data"
    }
   ],
   "source": [
    "plt.figure()\n",
    "_ = plt.hist2d(nhits_20000000ns, tot_20000000ns, bins=200, range=np.array([(0, 200), (0, 2500)]),norm=LogNorm())\n",
    "plt.colorbar()\n",
    "# ax.set_ylabel('Y')\n",
    "# plt.yscale('log', nonposy='clip')\n",
    "# plt.legend(loc='upper right')\n",
    "plt.xlabel(\"nhits\")\n",
    "plt.ylabel(\"TOT\")"
   ]
  },
  {
   "cell_type": "code",
   "execution_count": 148,
   "id": "d43573b4",
   "metadata": {
    "scrolled": true
   },
   "outputs": [
    {
     "data": {
      "text/plain": [
       "Text(0, 0.5, 'TOT')"
      ]
     },
     "execution_count": 148,
     "metadata": {},
     "output_type": "execute_result"
    },
    {
     "data": {
      "image/png": "[encoded data removed]",
      "text/plain": [
       "<Figure size 432x288 with 2 Axes>"
      ]
     },
     "metadata": {
      "needs_background": "light"
     },
     "output_type": "display_data"
    }
   ],
   "source": [
    "plt.figure()\n",
    "_ = plt.hist2d(nhits_70000000ns, tot_70000000ns, bins=200, range=np.array([(0, 200), (0, 2500)]),norm=LogNorm())\n",
    "plt.colorbar()\n",
    "# ax.set_ylabel('Y')\n",
    "# plt.yscale('log', nonposy='clip')\n",
    "# plt.legend(loc='upper right')\n",
    "plt.xlabel(\"nhits\")\n",
    "plt.ylabel(\"TOT\")"
   ]
  },
  {
   "cell_type": "code",
   "execution_count": 146,
   "id": "5d377451",
   "metadata": {},
   "outputs": [
    {
     "data": {
      "text/plain": [
       "Text(0, 0.5, 'TOT')"
      ]
     },
     "execution_count": 146,
     "metadata": {},
     "output_type": "execute_result"
    },
    {
     "data": {
      "image/png": "[encoded data removed]",
      "text/plain": [
       "<Figure size 432x288 with 2 Axes>"
      ]
     },
     "metadata": {
      "needs_background": "light"
     },
     "output_type": "display_data"
    }
   ],
   "source": [
    "plt.figure()\n",
    "_ = plt.hist2d(nhits_500000000ns, tot_500000000ns, bins=200, range=np.array([(0, 200), (0, 2500)]),norm=LogNorm())\n",
    "plt.colorbar()\n",
    "# ax.set_ylabel('Y')\n",
    "# plt.yscale('log', nonposy='clip')\n",
    "# plt.legend(loc='upper right')\n",
    "plt.xlabel(\"nhits\")\n",
    "plt.ylabel(\"TOT\")"
   ]
  },
  {
   "cell_type": "code",
   "execution_count": 147,
   "id": "ff966e01",
   "metadata": {},
   "outputs": [],
   "source": [
    "# with h5py.File(neutron_events) as h5f:\n",
    "# #     x = h5f[\"events/x\"][:]\n",
    "# #     y = h5f[\"events/y\"][:]\n",
    "#     tot_neutron_events = h5f[\"events/tot\"][:]\n",
    "#     neutron_nhits= h5f[\"events/NHits\"][:]"
   ]
  },
  {
   "cell_type": "code",
   "execution_count": 32,
   "id": "03c22cd3",
   "metadata": {},
   "outputs": [
    {
     "name": "stderr",
     "output_type": "stream",
     "text": [
      "/Users/fumiaki/opt/anaconda3/lib/python3.7/site-packages/ipykernel_launcher.py:1: H5pyDeprecationWarning: The default file mode will change to 'r' (read-only) in h5py 3.0. To suppress this warning, pass the mode you need to h5py.File(), or set the global default h5.get_config().default_file_mode, or set the environment variable H5PY_DEFAULT_READONLY=1. Available modes are: 'r', 'r+', 'w', 'w-'/'x', 'a'. See the docs for details.\n",
      "  \"\"\"Entry point for launching an IPython kernel.\n"
     ]
    }
   ],
   "source": [
    "# with h5py.File(Cs_events) as h5f:\n",
    "# #     x = h5f[\"events/x\"][:]\n",
    "# #     y = h5f[\"events/y\"][:]\n",
    "#     tot_Cs_events = h5f[\"events/tot\"][:]\n",
    "#     Cs_nhits= h5f[\"events/NHits\"][:]"
   ]
  },
  {
   "cell_type": "code",
   "execution_count": 31,
   "id": "a40f0433",
   "metadata": {},
   "outputs": [
    {
     "name": "stderr",
     "output_type": "stream",
     "text": [
      "/Users/fumiaki/opt/anaconda3/lib/python3.7/site-packages/ipykernel_launcher.py:1: H5pyDeprecationWarning: The default file mode will change to 'r' (read-only) in h5py 3.0. To suppress this warning, pass the mode you need to h5py.File(), or set the global default h5.get_config().default_file_mode, or set the environment variable H5PY_DEFAULT_READONLY=1. Available modes are: 'r', 'r+', 'w', 'w-'/'x', 'a'. See the docs for details.\n",
      "  \"\"\"Entry point for launching an IPython kernel.\n"
     ]
    }
   ],
   "source": [
    "# with h5py.File(Am_events) as h5f:\n",
    "# #     x = h5f[\"events/x\"][:]\n",
    "# #     y = h5f[\"events/y\"][:]\n",
    "#     tot_Am_events = h5f[\"events/tot\"][:]\n",
    "#     Am_nhits= h5f[\"events/NHits\"][:]"
   ]
  },
  {
   "cell_type": "code",
   "execution_count": 30,
   "id": "275518c6",
   "metadata": {},
   "outputs": [
    {
     "name": "stderr",
     "output_type": "stream",
     "text": [
      "/Users/fumiaki/opt/anaconda3/lib/python3.7/site-packages/ipykernel_launcher.py:1: H5pyDeprecationWarning: The default file mode will change to 'r' (read-only) in h5py 3.0. To suppress this warning, pass the mode you need to h5py.File(), or set the global default h5.get_config().default_file_mode, or set the environment variable H5PY_DEFAULT_READONLY=1. Available modes are: 'r', 'r+', 'w', 'w-'/'x', 'a'. See the docs for details.\n",
      "  \"\"\"Entry point for launching an IPython kernel.\n"
     ]
    }
   ],
   "source": [
    "# with h5py.File(Co_events) as h5f:\n",
    "# #     x = h5f[\"events/x\"][:]\n",
    "# #     y = h5f[\"events/y\"][:]\n",
    "#     tot_Co_events = h5f[\"events/tot\"][:]\n",
    "#     Co_nhits= h5f[\"events/NHits\"][:]"
   ]
  },
  {
   "cell_type": "code",
   "execution_count": 29,
   "id": "4a6c131c",
   "metadata": {
    "ExecuteTime": {
     "end_time": "2023-03-06T20:26:10.110593Z",
     "start_time": "2023-03-06T20:26:10.055483Z"
    },
    "scrolled": false
   },
   "outputs": [
    {
     "name": "stderr",
     "output_type": "stream",
     "text": [
      "/Users/fumiaki/opt/anaconda3/lib/python3.7/site-packages/ipykernel_launcher.py:1: H5pyDeprecationWarning: The default file mode will change to 'r' (read-only) in h5py 3.0. To suppress this warning, pass the mode you need to h5py.File(), or set the global default h5.get_config().default_file_mode, or set the environment variable H5PY_DEFAULT_READONLY=1. Available modes are: 'r', 'r+', 'w', 'w-'/'x', 'a'. See the docs for details.\n",
      "  \"\"\"Entry point for launching an IPython kernel.\n"
     ]
    }
   ],
   "source": [
    "# with h5py.File(Back_events ) as h5f:\n",
    "# #     x = h5f[\"events/x\"][:]\n",
    "# #     y = h5f[\"events/y\"][:]\n",
    "#     tot_Back_events = h5f[\"events/tot\"][:]\n",
    "#     Back_nhits = h5f[\"events/NHits\"][:]"
   ]
  },
  {
   "cell_type": "code",
   "execution_count": 37,
   "id": "925e39f1",
   "metadata": {},
   "outputs": [
    {
     "data": {
      "text/plain": [
       "Text(0.5, 0, 'nhits')"
      ]
     },
     "execution_count": 37,
     "metadata": {},
     "output_type": "execute_result"
    },
    {
     "data": {
      "image/png": "[encoded data removed]",
      "text/plain": [
       "<Figure size 432x288 with 1 Axes>"
      ]
     },
     "metadata": {
      "needs_background": "light"
     },
     "output_type": "display_data"
    }
   ],
   "source": [
    "# plt.figure()\n",
    "# _ = plt.hist(neutron_nhits, 150,range=[0, 150],alpha = 0.5, label='Neutron' )\n",
    "# _ = plt.hist(Co_nhits, 150,range=[0, 150],alpha = 0.5, label='Co60' )\n",
    "# _ = plt.hist(Cs_nhits, 150,range=[0, 150],alpha = 0.5, label='Cs137' )\n",
    "# _ = plt.hist(Am_nhits, 150,range=[0, 150],alpha = 0.5, label='Am' )\n",
    "# _ = plt.hist(aftergrow_nhits, 150,range=[0, 150],alpha = 0.3, label='After glow' )\n",
    "# _ = plt.hist(Back_nhits, 150,range=[0, 150],alpha = 0.3, label='After glow(16 h later)')\n",
    "# # _ = plt.hist(nhits_5, 120,range=[0, 120],alpha = 0.3, label='After glow(16 h later)' )\n",
    "\n",
    "# plt.yscale('log', nonposy='clip')\n",
    "# plt.legend(loc='upper right')\n",
    "# plt.xlabel(\"nhits\")"
   ]
  },
  {
   "cell_type": "code",
   "execution_count": 27,
   "id": "fcd016ee",
   "metadata": {},
   "outputs": [
    {
     "data": {
      "text/plain": [
       "Text(0.5, 0, 'TOT')"
      ]
     },
     "execution_count": 27,
     "metadata": {},
     "output_type": "execute_result"
    },
    {
     "data": {
      "image/png": "[encoded data removed]",
      "text/plain": [
       "<Figure size 432x288 with 1 Axes>"
      ]
     },
     "metadata": {
      "needs_background": "light"
     },
     "output_type": "display_data"
    }
   ],
   "source": [
    "plt.figure()\n",
    "_ = plt.hist(tot_neutron_events, 1500,range=[0, 1500],alpha = 0.5, label='Neutron' )\n",
    "# _ = plt.hist(tot_Co_events, 1500,range=[0, 1500],alpha = 0.5, label='Co60' )\n",
    "# _ = plt.hist(tot_Cs_events, 1500,range=[0, 1500],alpha = 0.5, label='Cs137' )\n",
    "# _ = plt.hist(tot_Am_events, 1500,range=[0, 1500],alpha = 0.5, label='Am' )\n",
    "_ = plt.hist(tot_Aftergrow_events, 1500,range=[0, 1500],alpha = 0.3, label='After glow' )\n",
    "_ = plt.hist(tot_Back_events, 1500,range=[0, 1500],alpha = 0.3, label='After glow(16 h later)')\n",
    "# _ = plt.hist(nhits_5, 120,range=[0, 120],alpha = 0.3, label='After glow(16 h later)' )\n",
    "\n",
    "plt.yscale('log', nonposy='clip')\n",
    "plt.legend(loc='upper right')\n",
    "plt.xlabel(\"TOT\")"
   ]
  },
  {
   "cell_type": "code",
   "execution_count": 154,
   "id": "66d1ac60",
   "metadata": {},
   "outputs": [
    {
     "data": {
      "text/plain": [
       "Text(0, 0.5, 'TOT')"
      ]
     },
     "execution_count": 154,
     "metadata": {},
     "output_type": "execute_result"
    },
    {
     "data": {
      "image/png": "[encoded data removed]",
      "text/plain": [
       "<Figure size 432x288 with 2 Axes>"
      ]
     },
     "metadata": {
      "needs_background": "light"
     },
     "output_type": "display_data"
    }
   ],
   "source": [
    "plt.figure()\n",
    "_ = plt.hist2d(nhits, tot, bins=150, range=np.array([(0, 150), (0, 2500)]),norm=LogNorm())\n",
    "plt.colorbar()\n",
    "# ax.set_ylabel('Y')\n",
    "# plt.yscale('log', nonposy='clip')\n",
    "# plt.legend(loc='upper right')\n",
    "plt.xlabel(\"nhits\")\n",
    "plt.ylabel(\"TOT\")"
   ]
  },
  {
   "cell_type": "code",
   "execution_count": 85,
   "id": "ffd6e378",
   "metadata": {},
   "outputs": [
    {
     "name": "stderr",
     "output_type": "stream",
     "text": [
      "/Users/fumiaki/opt/anaconda3/lib/python3.7/site-packages/ipykernel_launcher.py:1: H5pyDeprecationWarning: The default file mode will change to 'r' (read-only) in h5py 3.0. To suppress this warning, pass the mode you need to h5py.File(), or set the global default h5.get_config().default_file_mode, or set the environment variable H5PY_DEFAULT_READONLY=1. Available modes are: 'r', 'r+', 'w', 'w-'/'x', 'a'. See the docs for details.\n",
      "  \"\"\"Entry point for launching an IPython kernel.\n"
     ]
    }
   ],
   "source": [
    "with h5py.File(filename_events_1) as h5f:\n",
    "#     x = h5f[\"events/x\"][:]\n",
    "#     y = h5f[\"events/y\"][:]\n",
    "#     tof_ns = h5f[\"events/tof_ns\"][:]\n",
    "    nhits_1 = h5f[\"events/NHits\"][:]"
   ]
  },
  {
   "cell_type": "code",
   "execution_count": 86,
   "id": "0a6efa4a",
   "metadata": {},
   "outputs": [
    {
     "ename": "NameError",
     "evalue": "name 'filename_events_5' is not defined",
     "output_type": "error",
     "traceback": [
      "\u001b[0;31m---------------------------------------------------------------------------\u001b[0m",
      "\u001b[0;31mNameError\u001b[0m                                 Traceback (most recent call last)",
      "\u001b[0;32m<ipython-input-86-929c29e7d4f8>\u001b[0m in \u001b[0;36m<module>\u001b[0;34m\u001b[0m\n\u001b[0;32m----> 1\u001b[0;31m \u001b[0;32mwith\u001b[0m \u001b[0mh5py\u001b[0m\u001b[0;34m.\u001b[0m\u001b[0mFile\u001b[0m\u001b[0;34m(\u001b[0m\u001b[0mfilename_events_5\u001b[0m\u001b[0;34m)\u001b[0m \u001b[0;32mas\u001b[0m \u001b[0mh5f\u001b[0m\u001b[0;34m:\u001b[0m\u001b[0;34m\u001b[0m\u001b[0;34m\u001b[0m\u001b[0m\n\u001b[0m\u001b[1;32m      2\u001b[0m \u001b[0;31m#     x = h5f[\"events/x\"][:]\u001b[0m\u001b[0;34m\u001b[0m\u001b[0;34m\u001b[0m\u001b[0;34m\u001b[0m\u001b[0m\n\u001b[1;32m      3\u001b[0m \u001b[0;31m#     y = h5f[\"events/y\"][:]\u001b[0m\u001b[0;34m\u001b[0m\u001b[0;34m\u001b[0m\u001b[0;34m\u001b[0m\u001b[0m\n\u001b[1;32m      4\u001b[0m \u001b[0;31m#     tof_ns = h5f[\"events/tof_ns\"][:]\u001b[0m\u001b[0;34m\u001b[0m\u001b[0;34m\u001b[0m\u001b[0;34m\u001b[0m\u001b[0m\n\u001b[1;32m      5\u001b[0m     \u001b[0mnhits_5\u001b[0m \u001b[0;34m=\u001b[0m \u001b[0mh5f\u001b[0m\u001b[0;34m[\u001b[0m\u001b[0;34m\"events/NHits\"\u001b[0m\u001b[0;34m]\u001b[0m\u001b[0;34m[\u001b[0m\u001b[0;34m:\u001b[0m\u001b[0;34m]\u001b[0m\u001b[0;34m\u001b[0m\u001b[0;34m\u001b[0m\u001b[0m\n",
      "\u001b[0;31mNameError\u001b[0m: name 'filename_events_5' is not defined"
     ]
    }
   ],
   "source": [
    "with h5py.File(filename_events_5) as h5f:\n",
    "#     x = h5f[\"events/x\"][:]\n",
    "#     y = h5f[\"events/y\"][:]\n",
    "#     tof_ns = h5f[\"events/tof_ns\"][:]\n",
    "    nhits_5 = h5f[\"events/NHits\"][:]"
   ]
  },
  {
   "cell_type": "code",
   "execution_count": 87,
   "id": "1212629c",
   "metadata": {},
   "outputs": [
    {
     "name": "stderr",
     "output_type": "stream",
     "text": [
      "/Users/fumiaki/opt/anaconda3/lib/python3.7/site-packages/ipykernel_launcher.py:1: H5pyDeprecationWarning: The default file mode will change to 'r' (read-only) in h5py 3.0. To suppress this warning, pass the mode you need to h5py.File(), or set the global default h5.get_config().default_file_mode, or set the environment variable H5PY_DEFAULT_READONLY=1. Available modes are: 'r', 'r+', 'w', 'w-'/'x', 'a'. See the docs for details.\n",
      "  \"\"\"Entry point for launching an IPython kernel.\n"
     ]
    }
   ],
   "source": [
    "with h5py.File(filename_events_2) as h5f:\n",
    "#     x = h5f[\"events/x\"][:]\n",
    "#     y = h5f[\"events/y\"][:]\n",
    "#     tof_ns = h5f[\"events/tof_ns\"][:]\n",
    "    nhits_2 = h5f[\"events/NHits\"][:]"
   ]
  },
  {
   "cell_type": "code",
   "execution_count": 88,
   "id": "16404cf2",
   "metadata": {
    "scrolled": true
   },
   "outputs": [
    {
     "ename": "NameError",
     "evalue": "name 'filename_events_3' is not defined",
     "output_type": "error",
     "traceback": [
      "\u001b[0;31m---------------------------------------------------------------------------\u001b[0m",
      "\u001b[0;31mNameError\u001b[0m                                 Traceback (most recent call last)",
      "\u001b[0;32m<ipython-input-88-fb5ee22756e9>\u001b[0m in \u001b[0;36m<module>\u001b[0;34m\u001b[0m\n\u001b[0;32m----> 1\u001b[0;31m \u001b[0;32mwith\u001b[0m \u001b[0mh5py\u001b[0m\u001b[0;34m.\u001b[0m\u001b[0mFile\u001b[0m\u001b[0;34m(\u001b[0m\u001b[0mfilename_events_3\u001b[0m\u001b[0;34m)\u001b[0m \u001b[0;32mas\u001b[0m \u001b[0mh5f\u001b[0m\u001b[0;34m:\u001b[0m\u001b[0;34m\u001b[0m\u001b[0;34m\u001b[0m\u001b[0m\n\u001b[0m\u001b[1;32m      2\u001b[0m \u001b[0;31m#     x = h5f[\"events/x\"][:]\u001b[0m\u001b[0;34m\u001b[0m\u001b[0;34m\u001b[0m\u001b[0;34m\u001b[0m\u001b[0m\n\u001b[1;32m      3\u001b[0m \u001b[0;31m#     y = h5f[\"events/y\"][:]\u001b[0m\u001b[0;34m\u001b[0m\u001b[0;34m\u001b[0m\u001b[0;34m\u001b[0m\u001b[0m\n\u001b[1;32m      4\u001b[0m \u001b[0;31m#     tof_ns = h5f[\"events/tof_ns\"][:]\u001b[0m\u001b[0;34m\u001b[0m\u001b[0;34m\u001b[0m\u001b[0;34m\u001b[0m\u001b[0m\n\u001b[1;32m      5\u001b[0m     \u001b[0mnhits_3\u001b[0m \u001b[0;34m=\u001b[0m \u001b[0mh5f\u001b[0m\u001b[0;34m[\u001b[0m\u001b[0;34m\"events/NHits\"\u001b[0m\u001b[0;34m]\u001b[0m\u001b[0;34m[\u001b[0m\u001b[0;34m:\u001b[0m\u001b[0;34m]\u001b[0m\u001b[0;34m\u001b[0m\u001b[0;34m\u001b[0m\u001b[0m\n",
      "\u001b[0;31mNameError\u001b[0m: name 'filename_events_3' is not defined"
     ]
    }
   ],
   "source": [
    "with h5py.File(filename_events_3) as h5f:\n",
    "#     x = h5f[\"events/x\"][:]\n",
    "#     y = h5f[\"events/y\"][:]\n",
    "#     tof_ns = h5f[\"events/tof_ns\"][:]\n",
    "    nhits_3 = h5f[\"events/NHits\"][:]"
   ]
  },
  {
   "cell_type": "code",
   "execution_count": 78,
   "id": "a92e6d12",
   "metadata": {},
   "outputs": [
    {
     "ename": "NameError",
     "evalue": "name 'filename_events_4' is not defined",
     "output_type": "error",
     "traceback": [
      "\u001b[0;31m---------------------------------------------------------------------------\u001b[0m",
      "\u001b[0;31mNameError\u001b[0m                                 Traceback (most recent call last)",
      "\u001b[0;32m<ipython-input-78-c78ddabf128d>\u001b[0m in \u001b[0;36m<module>\u001b[0;34m\u001b[0m\n\u001b[0;32m----> 1\u001b[0;31m \u001b[0;32mwith\u001b[0m \u001b[0mh5py\u001b[0m\u001b[0;34m.\u001b[0m\u001b[0mFile\u001b[0m\u001b[0;34m(\u001b[0m\u001b[0mfilename_events_4\u001b[0m\u001b[0;34m)\u001b[0m \u001b[0;32mas\u001b[0m \u001b[0mh5f\u001b[0m\u001b[0;34m:\u001b[0m\u001b[0;34m\u001b[0m\u001b[0;34m\u001b[0m\u001b[0m\n\u001b[0m\u001b[1;32m      2\u001b[0m \u001b[0;31m#     x = h5f[\"events/x\"][:]\u001b[0m\u001b[0;34m\u001b[0m\u001b[0;34m\u001b[0m\u001b[0;34m\u001b[0m\u001b[0m\n\u001b[1;32m      3\u001b[0m \u001b[0;31m#     y = h5f[\"events/y\"][:]\u001b[0m\u001b[0;34m\u001b[0m\u001b[0;34m\u001b[0m\u001b[0;34m\u001b[0m\u001b[0m\n\u001b[1;32m      4\u001b[0m \u001b[0;31m#     tof_ns = h5f[\"events/tof_ns\"][:]\u001b[0m\u001b[0;34m\u001b[0m\u001b[0;34m\u001b[0m\u001b[0;34m\u001b[0m\u001b[0m\n\u001b[1;32m      5\u001b[0m     \u001b[0mnhits_4\u001b[0m \u001b[0;34m=\u001b[0m \u001b[0mh5f\u001b[0m\u001b[0;34m[\u001b[0m\u001b[0;34m\"events/NHits\"\u001b[0m\u001b[0;34m]\u001b[0m\u001b[0;34m[\u001b[0m\u001b[0;34m:\u001b[0m\u001b[0;34m]\u001b[0m\u001b[0;34m\u001b[0m\u001b[0;34m\u001b[0m\u001b[0m\n",
      "\u001b[0;31mNameError\u001b[0m: name 'filename_events_4' is not defined"
     ]
    }
   ],
   "source": [
    "with h5py.File(filename_events_4) as h5f:\n",
    "#     x = h5f[\"events/x\"][:]\n",
    "#     y = h5f[\"events/y\"][:]\n",
    "#     tof_ns = h5f[\"events/tof_ns\"][:]\n",
    "    nhits_4 = h5f[\"events/NHits\"][:]"
   ]
  },
  {
   "cell_type": "code",
   "execution_count": 92,
   "id": "de94eee5",
   "metadata": {},
   "outputs": [
    {
     "data": {
      "text/plain": [
       "Text(0.5, 0, 'nhits')"
      ]
     },
     "execution_count": 92,
     "metadata": {},
     "output_type": "execute_result"
    },
    {
     "data": {
      "image/png": "[encoded data removed]",
      "text/plain": [
       "<Figure size 432x288 with 1 Axes>"
      ]
     },
     "metadata": {
      "needs_background": "light"
     },
     "output_type": "display_data"
    }
   ],
   "source": [
    "plt.figure()\n",
    "_ = plt.hist(nhits, 150,range=[0, 150],alpha = 0.5, label='Neutron: Spider time 500000 ns' )\n",
    "_ = plt.hist(nhits_1, 150,range=[0, 150],alpha = 0.5, label='Neutron: Spider time 50000 ns' )\n",
    "# _ = plt.hist(nhits_3, 120,range=[0, 120],alpha = 0.5, label='Cs137' )\n",
    "# _ = plt.hist(nhits_4, 120,range=[0, 120],alpha = 0.3, label='Am' )\n",
    "_ = plt.hist(nhits_2, 150,range=[0, 150],alpha = 0.3, label='Neutron: Spider time 5000 ns')\n",
    "# _ = plt.hist(nhits_5, 120,range=[0, 120],alpha = 0.3, label='After glow(16 h later)' )\n",
    "\n",
    "plt.yscale('log', nonposy='clip')\n",
    "plt.legend(loc='upper right')\n",
    "plt.xlabel(\"nhits\")"
   ]
  },
  {
   "cell_type": "markdown",
   "id": "3bc3c6a2",
   "metadata": {},
   "source": [
    "## Plot data after centroiding"
   ]
  },
  {
   "cell_type": "code",
   "execution_count": 45,
   "id": "cf6d78e8",
   "metadata": {},
   "outputs": [
    {
     "ename": "NameError",
     "evalue": "name 'scipy' is not defined",
     "output_type": "error",
     "traceback": [
      "\u001b[0;31m---------------------------------------------------------------------------\u001b[0m",
      "\u001b[0;31mNameError\u001b[0m                                 Traceback (most recent call last)",
      "\u001b[0;32m<ipython-input-45-91a7e0d43afe>\u001b[0m in \u001b[0;36m<module>\u001b[0;34m\u001b[0m\n\u001b[0;32m----> 1\u001b[0;31m \u001b[0mmu\u001b[0m\u001b[0;34m,\u001b[0m \u001b[0msigma\u001b[0m \u001b[0;34m=\u001b[0m \u001b[0mscipy\u001b[0m\u001b[0;34m.\u001b[0m\u001b[0mstats\u001b[0m\u001b[0;34m.\u001b[0m\u001b[0mnorm\u001b[0m\u001b[0;34m.\u001b[0m\u001b[0mfit\u001b[0m\u001b[0;34m(\u001b[0m\u001b[0mnhits\u001b[0m\u001b[0;34m,\u001b[0m\u001b[0mrange\u001b[0m\u001b[0;34m=\u001b[0m\u001b[0;34m[\u001b[0m\u001b[0;36m0\u001b[0m\u001b[0;34m,\u001b[0m \u001b[0;36m60\u001b[0m\u001b[0;34m]\u001b[0m\u001b[0;34m)\u001b[0m\u001b[0;34m\u001b[0m\u001b[0;34m\u001b[0m\u001b[0m\n\u001b[0m\u001b[1;32m      2\u001b[0m \u001b[0mbest_fit_line\u001b[0m \u001b[0;34m=\u001b[0m \u001b[0mscipy\u001b[0m\u001b[0;34m.\u001b[0m\u001b[0mstats\u001b[0m\u001b[0;34m.\u001b[0m\u001b[0mnorm\u001b[0m\u001b[0;34m.\u001b[0m\u001b[0mpdf\u001b[0m\u001b[0;34m(\u001b[0m\u001b[0;36m100\u001b[0m\u001b[0;34m,\u001b[0m \u001b[0mmu\u001b[0m\u001b[0;34m,\u001b[0m \u001b[0msigma\u001b[0m\u001b[0;34m)\u001b[0m\u001b[0;34m\u001b[0m\u001b[0;34m\u001b[0m\u001b[0m\n\u001b[1;32m      3\u001b[0m \u001b[0mplt\u001b[0m\u001b[0;34m.\u001b[0m\u001b[0mplot\u001b[0m\u001b[0;34m(\u001b[0m\u001b[0;36m100\u001b[0m\u001b[0;34m,\u001b[0m \u001b[0mbest_fit_line\u001b[0m\u001b[0;34m)\u001b[0m\u001b[0;34m\u001b[0m\u001b[0;34m\u001b[0m\u001b[0m\n",
      "\u001b[0;31mNameError\u001b[0m: name 'scipy' is not defined"
     ]
    }
   ],
   "source": [
    "mu, sigma = scipy.stats.norm.fit(nhits,range=[0, 60])\n",
    "best_fit_line = scipy.stats.norm.pdf(100, mu, sigma)\n",
    "plt.plot(100, best_fit_line)"
   ]
  },
  {
   "cell_type": "code",
   "execution_count": 30,
   "id": "eff5b456",
   "metadata": {},
   "outputs": [
    {
     "data": {
      "text/plain": [
       "<matplotlib.image.AxesImage at 0x7febb1b00490>"
      ]
     },
     "execution_count": 30,
     "metadata": {},
     "output_type": "execute_result"
    },
    {
     "data": {
      "image/png": "[encoded data removed]",
      "text/plain": [
       "<Figure size 576x576 with 1 Axes>"
      ]
     },
     "metadata": {
      "needs_background": "light"
     },
     "output_type": "display_data"
    }
   ],
   "source": [
    "binsize=256\n",
    "xedges = np.linspace(256, 512, binsize+1)\n",
    "yedges = np.linspace(0, 256, binsize+1)\n",
    "H, xedges, yedges = np.histogram2d(x, y, bins=(xedges, yedges))\n",
    "H = H.T\n",
    "fig, ax = plt.subplots(figsize=(8,8))\n",
    "ax.imshow(\n",
    "#     H,\n",
    "     np.log(H+1),\n",
    "#       vmin=0, vmax=10,\n",
    "    interpolation='nearest',\n",
    "    origin='lower',\n",
    "    extent=[xedges[0], xedges[-1], yedges[0], yedges[-1]],\n",
    "    cmap='viridis',\n",
    "#     cmap=\"gray\",\n",
    ")"
   ]
  },
  {
   "cell_type": "code",
   "execution_count": null,
   "id": "8a30932b",
   "metadata": {},
   "outputs": [],
   "source": [
    "with h5py.File(filename_hits) as h5f:\n",
    "    x = h5f[\"hits/x\"][:]\n",
    "    y = h5f[\"hits/y\"][:]\n",
    "    tof_ns = h5f[\"hits/tof_ns\"][:]\n",
    "#     nhits = h5f[\"events/NHits\"][:]"
   ]
  },
  {
   "cell_type": "markdown",
   "id": "b58d2d15",
   "metadata": {},
   "source": [
    "# Plot data before centroiding"
   ]
  },
  {
   "cell_type": "code",
   "execution_count": null,
   "id": "8f62f7cb",
   "metadata": {},
   "outputs": [],
   "source": [
    "binsize=256\n",
    "xedges = np.linspace(256, 512, binsize+1)\n",
    "yedges = np.linspace(0, 256, binsize+1)\n",
    "H, xedges, yedges = np.histogram2d(x, y, bins=(xedges, yedges))\n",
    "H = H.T\n",
    "fig, ax = plt.subplots(figsize=(8,8))\n",
    "ax.imshow(\n",
    "#     H,\n",
    "     np.log(H+1),\n",
    "#       vmin=0, vmax=10,\n",
    "    interpolation='nearest',\n",
    "    origin='lower',\n",
    "    extent=[xedges[0], xedges[-1], yedges[0], yedges[-1]],\n",
    "    cmap='viridis',\n",
    "#     cmap=\"gray\",\n",
    ")"
   ]
  },
  {
   "cell_type": "code",
   "execution_count": null,
   "id": "0793a41d",
   "metadata": {
    "ExecuteTime": {
     "end_time": "2023-03-06T20:31:25.999645Z",
     "start_time": "2023-03-06T20:31:25.433974Z"
    }
   },
   "outputs": [],
   "source": [
    "binsize=1024\n",
    "xedges = np.linspace(0, binsize, binsize+1)\n",
    "yedges = np.linspace(0, binsize, binsize+1)\n",
    "H, xedges, yedges = np.histogram2d(x, y, bins=(xedges, yedges))\n",
    "H = H.T\n",
    "fig, ax = plt.subplots(figsize=(8,8))\n",
    "ax.imshow(\n",
    "    # H,\n",
    "    -np.log(H+1),\n",
    "    interpolation='nearest',\n",
    "    origin='lower',\n",
    "    extent=[xedges[0], xedges[-1], yedges[0], yedges[-1]],\n",
    "    cmap=\"gray\",\n",
    ")\n",
    "plt.close()"
   ]
  },
  {
   "cell_type": "code",
   "execution_count": null,
   "id": "44e47603",
   "metadata": {
    "ExecuteTime": {
     "end_time": "2023-03-06T20:31:50.905891Z",
     "start_time": "2023-03-06T20:31:44.268716Z"
    }
   },
   "outputs": [],
   "source": [
    "plt.figure()\n",
    "_ = plt.hist(nhits*1e-6, 10000)\n",
    "plt.xlabel(\"nhits\")"
   ]
  },
  {
   "cell_type": "code",
   "execution_count": null,
   "id": "78d8cf9f",
   "metadata": {
    "ExecuteTime": {
     "end_time": "2023-03-06T20:43:34.635187Z",
     "start_time": "2023-03-06T20:43:34.611267Z"
    }
   },
   "outputs": [],
   "source": [
    "filename_events = \"/Users/fumiaki/Documents/ORNL/Research/Sophyread/mcpevent2hist-main/sophiread/build/data/Zeiss.hdf5\"\n",
    "\n",
    "with h5py.File(filename_events) as h5f:\n",
    "    x = h5f[\"events/x\"][:]\n",
    "    y = h5f[\"events/y\"][:]\n",
    "    tof_ns = h5f[\"events/tof_ns\"][:]\n",
    "    nhits = h5f[\"events/NHits\"][:]"
   ]
  },
  {
   "cell_type": "code",
   "execution_count": null,
   "id": "9c7a8e37",
   "metadata": {
    "ExecuteTime": {
     "end_time": "2023-03-06T20:44:32.480556Z",
     "start_time": "2023-03-06T20:44:29.099754Z"
    }
   },
   "outputs": [],
   "source": [
    "plt.figure()\n",
    "_ = plt.hist(tof_ns*1e-6, 170)\n",
    "plt.xlabel(\"time-of-flight (ms)\")"
   ]
  },
  {
   "cell_type": "code",
   "execution_count": null,
   "id": "4b3baa2d",
   "metadata": {
    "ExecuteTime": {
     "end_time": "2023-03-07T20:59:23.971533Z",
     "start_time": "2023-03-07T20:59:23.906974Z"
    }
   },
   "outputs": [],
   "source": [
    "# filename_events = \"/Users/fumiaki/Documents/ORNL/Research/Sophyread/mcpevent2hist-main/sophiread/build/data/Zeiss.hdf5\"\n",
    "filename_events = \"/Users/fumiaki/Documents/ORNL/Research/Sophyread/mcpevent2hist-main/sophiread/build/data/Navitar_hit.h5\"\n",
    "\n",
    "with h5py.File(filename_events) as h5f:\n",
    "    x = h5f[\"hits/x\"][:]\n",
    "    y = h5f[\"hits/y\"][:]\n",
    "#     tof_ns = h5f[\"events/tof_ns\"][:]\n",
    "#     nhits = h5f[\"events/NHits\"][:]"
   ]
  },
  {
   "cell_type": "code",
   "execution_count": null,
   "id": "dd0d78ba",
   "metadata": {},
   "outputs": [],
   "source": [
    "len(x),len(y)"
   ]
  },
  {
   "cell_type": "code",
   "execution_count": null,
   "id": "ef0ef58a",
   "metadata": {
    "ExecuteTime": {
     "end_time": "2023-03-07T20:59:42.882877Z",
     "start_time": "2023-03-07T20:59:42.170674Z"
    }
   },
   "outputs": [],
   "source": [
    "binsize=256\n",
    "xedges = np.linspace(256, 512, binsize+1)\n",
    "yedges = np.linspace(0, 256, binsize+1)\n",
    "H, xedges, yedges = np.histogram2d(x, y, bins=(xedges, yedges))\n",
    "H = H.T\n",
    "fig, ax = plt.subplots(figsize=(8,8))\n",
    "ax.imshow(\n",
    "#     H,\n",
    "     np.log(H+1),\n",
    "#       vmin=0, vmax=10,\n",
    "    interpolation='nearest',\n",
    "    origin='lower',\n",
    "    extent=[xedges[0], xedges[-1], yedges[0], yedges[-1]],\n",
    "    cmap='viridis',\n",
    "#     cmap=\"gray\",\n",
    ")"
   ]
  },
  {
   "cell_type": "code",
   "execution_count": null,
   "id": "31c0122e",
   "metadata": {
    "ExecuteTime": {
     "end_time": "2023-03-07T21:00:11.608951Z",
     "start_time": "2023-03-07T20:59:59.121583Z"
    }
   },
   "outputs": [],
   "source": [
    "plt.figure()\n",
    "_ = plt.hist(tof_ns*1e-6, 17000)\n",
    "plt.xlabel(\"time-of-flight (ms)\")"
   ]
  },
  {
   "cell_type": "code",
   "execution_count": null,
   "id": "43b86e55",
   "metadata": {
    "ExecuteTime": {
     "end_time": "2023-03-07T21:00:33.427458Z",
     "start_time": "2023-03-07T21:00:33.293993Z"
    }
   },
   "outputs": [],
   "source": [
    "filename_events = \"/Users/fumiaki/Documents/ORNL/Research/Sophyread/mcpevent2hist-main/sophiread/build/data/Zeiss.hdf5\"\n",
    "\n",
    "with h5py.File(filename_events) as h5f:\n",
    "    x = h5f[\"events/x\"][:]\n",
    "    y = h5f[\"events/y\"][:]\n",
    "    tof_ns = h5f[\"events/tof_ns\"][:]\n",
    "    nhits = h5f[\"events/NHits\"][:]"
   ]
  },
  {
   "cell_type": "code",
   "execution_count": null,
   "id": "2bc2bd1f",
   "metadata": {
    "ExecuteTime": {
     "end_time": "2023-03-07T21:10:55.296987Z",
     "start_time": "2023-03-07T21:10:52.653324Z"
    }
   },
   "outputs": [],
   "source": [
    "binsize=512\n",
    "xedges = np.linspace(0, binsize, binsize+1)\n",
    "yedges = np.linspace(0, binsize, binsize+1)\n",
    "H, xedges, yedges = np.histogram2d(x, y, bins=(xedges, yedges))\n",
    "H = H.T\n",
    "fig, ax = plt.subplots(figsize=(8,8))\n",
    "ax.imshow(\n",
    "    H,\n",
    "#     -np.log(H+1),\n",
    "    interpolation='nearest',\n",
    "     vmin=0, vmax=6,\n",
    "    origin='lower',\n",
    "    extent=[xedges[0], xedges[-1], yedges[0], yedges[-1]],\n",
    "  cmap='viridis',\n",
    ")"
   ]
  },
  {
   "cell_type": "code",
   "execution_count": null,
   "id": "4670e6ac",
   "metadata": {
    "ExecuteTime": {
     "end_time": "2023-03-07T21:01:10.609440Z",
     "start_time": "2023-03-07T21:01:09.943723Z"
    }
   },
   "outputs": [],
   "source": [
    "plt.figure()\n",
    "_ = plt.hist(tof_ns*1e-6, 1700)\n",
    "plt.xlabel(\"time-of-flight (ms)\")"
   ]
  },
  {
   "cell_type": "code",
   "execution_count": null,
   "id": "20cf8c3e",
   "metadata": {},
   "outputs": [],
   "source": []
  }
 ],
 "metadata": {
  "kernelspec": {
   "display_name": "Python 3",
   "language": "python",
   "name": "python3"
  },
  "language_info": {
   "codemirror_mode": {
    "name": "ipython",
    "version": 3
   },
   "file_extension": ".py",
   "mimetype": "text/x-python",
   "name": "python",
   "nbconvert_exporter": "python",
   "pygments_lexer": "ipython3",
   "version": "3.7.16"
  }
 },
 "nbformat": 4,
 "nbformat_minor": 5
}
