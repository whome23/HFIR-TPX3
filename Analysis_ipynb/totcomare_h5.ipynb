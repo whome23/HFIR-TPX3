{
 "cells": [
  {
   "cell_type": "code",
   "execution_count": 2,
   "id": "e5df7229",
   "metadata": {
    "ExecuteTime": {
     "end_time": "2023-03-06T17:00:25.769264Z",
     "start_time": "2023-03-06T17:00:25.453388Z"
    }
   },
   "outputs": [],
   "source": [
    "# %matplotlib ipympl\n",
    "import h5py \n",
    "import numpy as np \n",
    "import matplotlib.pyplot as plt \n",
    "import sys\n",
    "import nexusformat.nexus as nx\n",
    "from matplotlib.colors import LogNorm"
   ]
  },
  {
   "cell_type": "code",
   "execution_count": 3,
   "id": "161aba9b",
   "metadata": {},
   "outputs": [],
   "source": [
    "# neutron events\n",
    "neutron_events = \"/Users/fumiaki/Documents/ORNL/Research/PTX3_Analysis/Data/0p3thickness/With_mount/Neutron_with_star_target/nhit=overnight_1.h5\"\n",
    "neutron_events_nhit_more_30 = \"/Users/fumiaki/Documents/ORNL/Research/PTX3_Analysis/Data/0p3thickness/With_mount/Neutron_with_star_target/nhit_30.h5\"\n",
    "neutron_events_nhit_more_45 = \"/Users/fumiaki/Documents/ORNL/Research/PTX3_Analysis/Data/0p3thickness/With_mount/Neutron_with_star_target/nhit_45.h5\"\n",
    "\n",
    "\n",
    "#Co event\n",
    "Co_events_nhit_more_30 = \"/Users/fumiaki/Documents/ORNL/Research/PTX3_Analysis/Data/0p3thickness/With_mount/Co/Co_nhits_30.h5\"\n",
    "Co_events_nhit_more_1 = \"/Users/fumiaki/Documents/ORNL/Research/PTX3_Analysis/Data/0p3thickness/With_mount/Co/Co_nhits_1.h5\"\n",
    "Co_events_nhit_more_45 = \"/Users/fumiaki/Documents/ORNL/Research/PTX3_Analysis/Data/0p3thickness/With_mount/Co/Co_nhits_45.h5\"\n",
    "\n",
    "# Back ground\n",
    "# Back_events_nhit_more_30 = \"/Users/fumiaki/Documents/ORNL/Research/PTX3_Analysis/Data/0p3thickness/Background/Background_nhit_morethan30.h5\"\n",
    "# Back_events_nhit_more_1 = \"/Users/fumiaki/Documents/ORNL/Research/PTX3_Analysis/Data/0p3thickness/Background/Background_nhit_morethan1.h5\"\n",
    "\n",
    "\n",
    "# Cs event\n",
    "Cs_events_nhit_more_30 =\"/Users/fumiaki/Documents/ORNL/Research/PTX3_Analysis/Data/0p3thickness/With_mount/Cs/Cs_nhits_30.h5\"\n",
    "Cs_events_nhit_more_1=\"/Users/fumiaki/Documents/ORNL/Research/PTX3_Analysis/Data/0p3thickness/With_mount/Cs/Cs_nhits_1.h5\"\n",
    "Cs_events_nhit_more_45=\"/Users/fumiaki/Documents/ORNL/Research/PTX3_Analysis/Data/0p3thickness/With_mount/Cs/Cs_nhits_45.h5\"\n",
    "\n",
    "# Am event\n",
    "# Am_events_nhit_more_30=\"/Users/fumiaki/Documents/ORNL/Research/PTX3_Analysis/Data/0p3thickness/Am/Am_nhit_morethan30.h5\"\n",
    "# Am_events_nhit_more_1=\"/Users/fumiaki/Documents/ORNL/Research/PTX3_Analysis/Data/0p3thickness/Am/Am_nhit_morethan1.h5\"\n",
    "\n",
    "# After grow\n",
    "# Aftergrow_events_nhit_more_30 = \"/Users/fumiaki/Documents/ORNL/Research/PTX3_Analysis/Data/0p3thickness/aftergrow/aftergrow_nhit_morethan30.h5\"\n",
    "# Aftergrow_events_nhit_more_1 = \"/Users/fumiaki/Documents/ORNL/Research/PTX3_Analysis/Data/0p3thickness/aftergrow/aftergrow_nhit_morethan1.h5\"\n",
    "\n",
    "\n",
    "# 0.3 mmthick\n",
    "#Co event\n",
    "# Co_events_1 = \"/Users/fumiaki/Documents/ORNL/Research/Sophyread/mcpevent2hist-main/sophiread/build/data/0p3thickness/Co60/Co60_events.h5\"\n",
    "\n",
    "\n",
    "# Cs event\n",
    "# filename_events_3 = \"/Users/fumiaki/Documents/ORNL/Research/Sophyread/mcpevent2hist-main/sophiread/build/data/0p3thickness/Cs137/Cs137_events.h5\"\n",
    "\n",
    "# Am event\n",
    "# filename_events_4 = \"/Users/fumiaki/Documents/ORNL/Research/Sophyread/mcpevent2hist-main/sophiread/build/data/0p3thickness/Am/Am_events.h5\"\n",
    "\n",
    "# # neutron events\n",
    "# filename_events = \"/Users/fumiaki/Documents/ORNL/Research/PTX3_Analysis/Data/0p3thickness/Neutron/neutron.h5\"\n",
    "# # previous one\n",
    "# filename_events_1 = \"/Users/fumiaki/Documents/ORNL/Research/PTX3_Analysis/Data/0p3thickness/Neutron/neutron_spi_50000ns.h5\"\n",
    "\n",
    "# filename_events_2 = \"/Users/fumiaki/Documents/ORNL/Research/PTX3_Analysis/Data/0p3thickness/Neutron/neutron_spi_5000ns.h5\"\n",
    "\n",
    "# Background (Put scinti in 16 hours in light tight box)\n",
    "# filename_events_5=\"/Users/fumiaki/Documents/ORNL/Research/Sophyread/mcpevent2hist-main/sophiread/build/data/0p3thickness/Background/background.h5\"\n",
    "\n",
    "\n",
    "\n",
    "\n",
    "\n",
    "\n",
    "\n",
    "\n",
    "# f = nx.nxload(filename_events)\n",
    "# print(f.tree)\n",
    "\n",
    "# ff = nx.nxload(filename_hits)\n",
    "# print(ff.tree)"
   ]
  },
  {
   "cell_type": "code",
   "execution_count": 39,
   "id": "62af4f7e",
   "metadata": {},
   "outputs": [],
   "source": [
    "# with h5py.File(filename_hits) as h5f:\n",
    "# #     x = h5f[\"hits/x\"][:]\n",
    "# #     y = h5f[\"hits/y\"][:]\n",
    "# #     tof_ns = h5f[\"hits/tof_ns\"][:]\n",
    "#     labels = h5f[\"hits/labels\"][:]\n",
    "#     spidertime_ns = h5f[\"hits/spidertime_ns\"][:]"
   ]
  },
  {
   "cell_type": "code",
   "execution_count": 40,
   "id": "212a047b",
   "metadata": {},
   "outputs": [
    {
     "name": "stderr",
     "output_type": "stream",
     "text": [
      "/Users/fumiaki/opt/anaconda3/lib/python3.7/site-packages/ipykernel_launcher.py:1: H5pyDeprecationWarning: The default file mode will change to 'r' (read-only) in h5py 3.0. To suppress this warning, pass the mode you need to h5py.File(), or set the global default h5.get_config().default_file_mode, or set the environment variable H5PY_DEFAULT_READONLY=1. Available modes are: 'r', 'r+', 'w', 'w-'/'x', 'a'. See the docs for details.\n",
      "  \"\"\"Entry point for launching an IPython kernel.\n"
     ]
    }
   ],
   "source": [
    "with h5py.File(Co_events_nhit_more_1) as h5f:\n",
    "#     x = h5f[\"events/x\"][:]\n",
    "#     y = h5f[\"events/y\"][:]\n",
    "    tot_Co_events_nhit_more_1 = h5f[\"events/tot\"][:]\n",
    "#     nhits = h5f[\"events/NHits\"][:]\n",
    "\n",
    "# with h5py.File(Co_events_nhit_more_30) as h5f:\n",
    "# #     x = h5f[\"events/x\"][:]\n",
    "# #     y = h5f[\"events/y\"][:]\n",
    "#     tot_Co_events_nhit_more_1 = h5f[\"events/tot\"][:]\n",
    "# #     nhits = h5f[\"events/NHits\"][:]\n"
   ]
  },
  {
   "cell_type": "code",
   "execution_count": 41,
   "id": "e83110e4",
   "metadata": {},
   "outputs": [
    {
     "name": "stderr",
     "output_type": "stream",
     "text": [
      "/Users/fumiaki/opt/anaconda3/lib/python3.7/site-packages/ipykernel_launcher.py:1: H5pyDeprecationWarning: The default file mode will change to 'r' (read-only) in h5py 3.0. To suppress this warning, pass the mode you need to h5py.File(), or set the global default h5.get_config().default_file_mode, or set the environment variable H5PY_DEFAULT_READONLY=1. Available modes are: 'r', 'r+', 'w', 'w-'/'x', 'a'. See the docs for details.\n",
      "  \"\"\"Entry point for launching an IPython kernel.\n"
     ]
    }
   ],
   "source": [
    "with h5py.File(Co_events_nhit_more_45) as h5f:\n",
    "#     x = h5f[\"events/x\"][:]\n",
    "#     y = h5f[\"events/y\"][:]\n",
    "    Co_events_nhit_more_45 = h5f[\"events/tot\"][:]\n",
    "#     nhits = h5f[\"events/NHits\"][:]"
   ]
  },
  {
   "cell_type": "code",
   "execution_count": 42,
   "id": "f563c0d5",
   "metadata": {},
   "outputs": [
    {
     "ename": "NameError",
     "evalue": "name 'Am_events_nhit_more_1' is not defined",
     "output_type": "error",
     "traceback": [
      "\u001b[0;31m---------------------------------------------------------------------------\u001b[0m",
      "\u001b[0;31mNameError\u001b[0m                                 Traceback (most recent call last)",
      "\u001b[0;32m<ipython-input-42-9de342bd4ee1>\u001b[0m in \u001b[0;36m<module>\u001b[0;34m\u001b[0m\n\u001b[0;32m----> 1\u001b[0;31m \u001b[0;32mwith\u001b[0m \u001b[0mh5py\u001b[0m\u001b[0;34m.\u001b[0m\u001b[0mFile\u001b[0m\u001b[0;34m(\u001b[0m\u001b[0mAm_events_nhit_more_1\u001b[0m\u001b[0;34m)\u001b[0m \u001b[0;32mas\u001b[0m \u001b[0mh5f\u001b[0m\u001b[0;34m:\u001b[0m\u001b[0;34m\u001b[0m\u001b[0;34m\u001b[0m\u001b[0m\n\u001b[0m\u001b[1;32m      2\u001b[0m \u001b[0;31m#     x = h5f[\"events/x\"][:]\u001b[0m\u001b[0;34m\u001b[0m\u001b[0;34m\u001b[0m\u001b[0;34m\u001b[0m\u001b[0m\n\u001b[1;32m      3\u001b[0m \u001b[0;31m#     y = h5f[\"events/y\"][:]\u001b[0m\u001b[0;34m\u001b[0m\u001b[0;34m\u001b[0m\u001b[0;34m\u001b[0m\u001b[0m\n\u001b[1;32m      4\u001b[0m     \u001b[0mtot_Am_nhit_more_1\u001b[0m \u001b[0;34m=\u001b[0m \u001b[0mh5f\u001b[0m\u001b[0;34m[\u001b[0m\u001b[0;34m\"events/tot\"\u001b[0m\u001b[0;34m]\u001b[0m\u001b[0;34m[\u001b[0m\u001b[0;34m:\u001b[0m\u001b[0;34m]\u001b[0m\u001b[0;34m\u001b[0m\u001b[0;34m\u001b[0m\u001b[0m\n\u001b[1;32m      5\u001b[0m \u001b[0;34m\u001b[0m\u001b[0m\n",
      "\u001b[0;31mNameError\u001b[0m: name 'Am_events_nhit_more_1' is not defined"
     ]
    }
   ],
   "source": [
    "with h5py.File(Am_events_nhit_more_1) as h5f:\n",
    "#     x = h5f[\"events/x\"][:]\n",
    "#     y = h5f[\"events/y\"][:]\n",
    "    tot_Am_nhit_more_1 = h5f[\"events/tot\"][:]\n",
    "\n",
    "with h5py.File(Am_events_nhit_more_30) as h5f:\n",
    "#     x = h5f[\"events/x\"][:]\n",
    "#     y = h5f[\"events/y\"][:]\n",
    "    tot_Am_nhit_more_30 = h5f[\"events/tot\"][:]"
   ]
  },
  {
   "cell_type": "code",
   "execution_count": 43,
   "id": "9b6c252a",
   "metadata": {},
   "outputs": [
    {
     "ename": "NameError",
     "evalue": "name 'Aftergrow_events_nhit_more_1' is not defined",
     "output_type": "error",
     "traceback": [
      "\u001b[0;31m---------------------------------------------------------------------------\u001b[0m",
      "\u001b[0;31mNameError\u001b[0m                                 Traceback (most recent call last)",
      "\u001b[0;32m<ipython-input-43-aafcc9d3dbe5>\u001b[0m in \u001b[0;36m<module>\u001b[0;34m\u001b[0m\n\u001b[0;32m----> 1\u001b[0;31m \u001b[0;32mwith\u001b[0m \u001b[0mh5py\u001b[0m\u001b[0;34m.\u001b[0m\u001b[0mFile\u001b[0m\u001b[0;34m(\u001b[0m\u001b[0mAftergrow_events_nhit_more_1\u001b[0m\u001b[0;34m)\u001b[0m \u001b[0;32mas\u001b[0m \u001b[0mh5f\u001b[0m\u001b[0;34m:\u001b[0m\u001b[0;34m\u001b[0m\u001b[0;34m\u001b[0m\u001b[0m\n\u001b[0m\u001b[1;32m      2\u001b[0m \u001b[0;31m#     x = h5f[\"events/x\"][:]\u001b[0m\u001b[0;34m\u001b[0m\u001b[0;34m\u001b[0m\u001b[0;34m\u001b[0m\u001b[0m\n\u001b[1;32m      3\u001b[0m \u001b[0;31m#     y = h5f[\"events/y\"][:]\u001b[0m\u001b[0;34m\u001b[0m\u001b[0;34m\u001b[0m\u001b[0;34m\u001b[0m\u001b[0m\n\u001b[1;32m      4\u001b[0m     \u001b[0mtot_Aftergrow_nhit_more_1\u001b[0m \u001b[0;34m=\u001b[0m \u001b[0mh5f\u001b[0m\u001b[0;34m[\u001b[0m\u001b[0;34m\"events/tot\"\u001b[0m\u001b[0;34m]\u001b[0m\u001b[0;34m[\u001b[0m\u001b[0;34m:\u001b[0m\u001b[0;34m]\u001b[0m\u001b[0;34m\u001b[0m\u001b[0;34m\u001b[0m\u001b[0m\n\u001b[1;32m      5\u001b[0m \u001b[0;34m\u001b[0m\u001b[0m\n",
      "\u001b[0;31mNameError\u001b[0m: name 'Aftergrow_events_nhit_more_1' is not defined"
     ]
    }
   ],
   "source": [
    "with h5py.File(Aftergrow_events_nhit_more_1) as h5f:\n",
    "#     x = h5f[\"events/x\"][:]\n",
    "#     y = h5f[\"events/y\"][:]\n",
    "    tot_Aftergrow_nhit_more_1 = h5f[\"events/tot\"][:]\n",
    "\n",
    "with h5py.File(Aftergrow_events_nhit_more_30) as h5f:\n",
    "#     x = h5f[\"events/x\"][:]\n",
    "#     y = h5f[\"events/y\"][:]\n",
    "    tot_Aftergrow_nhit_more_30 = h5f[\"events/tot\"][:]"
   ]
  },
  {
   "cell_type": "code",
   "execution_count": 4,
   "id": "c442eb16",
   "metadata": {},
   "outputs": [
    {
     "name": "stderr",
     "output_type": "stream",
     "text": [
      "/Users/fumiaki/opt/anaconda3/lib/python3.7/site-packages/ipykernel_launcher.py:1: H5pyDeprecationWarning: The default file mode will change to 'r' (read-only) in h5py 3.0. To suppress this warning, pass the mode you need to h5py.File(), or set the global default h5.get_config().default_file_mode, or set the environment variable H5PY_DEFAULT_READONLY=1. Available modes are: 'r', 'r+', 'w', 'w-'/'x', 'a'. See the docs for details.\n",
      "  \"\"\"Entry point for launching an IPython kernel.\n"
     ]
    }
   ],
   "source": [
    "with h5py.File(neutron_events) as h5f:\n",
    "#     x = h5f[\"events/x\"][:]\n",
    "#     y = h5f[\"events/y\"][:]\n",
    "    tot_neutron_event = h5f[\"events/tot\"][:]"
   ]
  },
  {
   "cell_type": "code",
   "execution_count": 45,
   "id": "e0838173",
   "metadata": {},
   "outputs": [
    {
     "name": "stderr",
     "output_type": "stream",
     "text": [
      "/Users/fumiaki/opt/anaconda3/lib/python3.7/site-packages/ipykernel_launcher.py:1: H5pyDeprecationWarning: The default file mode will change to 'r' (read-only) in h5py 3.0. To suppress this warning, pass the mode you need to h5py.File(), or set the global default h5.get_config().default_file_mode, or set the environment variable H5PY_DEFAULT_READONLY=1. Available modes are: 'r', 'r+', 'w', 'w-'/'x', 'a'. See the docs for details.\n",
      "  \"\"\"Entry point for launching an IPython kernel.\n"
     ]
    }
   ],
   "source": [
    "with h5py.File(neutron_events_nhit_more_30) as h5f:\n",
    "#     x = h5f[\"events/x\"][:]\n",
    "#     y = h5f[\"events/y\"][:]\n",
    "    tot_neutron_events_nhit_more_30 = h5f[\"events/tot\"][:]"
   ]
  },
  {
   "cell_type": "code",
   "execution_count": 46,
   "id": "7bd24438",
   "metadata": {},
   "outputs": [
    {
     "name": "stderr",
     "output_type": "stream",
     "text": [
      "/Users/fumiaki/opt/anaconda3/lib/python3.7/site-packages/ipykernel_launcher.py:1: H5pyDeprecationWarning: The default file mode will change to 'r' (read-only) in h5py 3.0. To suppress this warning, pass the mode you need to h5py.File(), or set the global default h5.get_config().default_file_mode, or set the environment variable H5PY_DEFAULT_READONLY=1. Available modes are: 'r', 'r+', 'w', 'w-'/'x', 'a'. See the docs for details.\n",
      "  \"\"\"Entry point for launching an IPython kernel.\n"
     ]
    }
   ],
   "source": [
    "with h5py.File(neutron_events_nhit_more_45) as h5f:\n",
    "#     x = h5f[\"events/x\"][:]\n",
    "#     y = h5f[\"events/y\"][:]\n",
    "    tot_neutron_events_nhit_more_45 = h5f[\"events/tot\"][:]"
   ]
  },
  {
   "cell_type": "code",
   "execution_count": 47,
   "id": "24c0aaf3",
   "metadata": {},
   "outputs": [
    {
     "name": "stderr",
     "output_type": "stream",
     "text": [
      "/Users/fumiaki/opt/anaconda3/lib/python3.7/site-packages/ipykernel_launcher.py:1: H5pyDeprecationWarning: The default file mode will change to 'r' (read-only) in h5py 3.0. To suppress this warning, pass the mode you need to h5py.File(), or set the global default h5.get_config().default_file_mode, or set the environment variable H5PY_DEFAULT_READONLY=1. Available modes are: 'r', 'r+', 'w', 'w-'/'x', 'a'. See the docs for details.\n",
      "  \"\"\"Entry point for launching an IPython kernel.\n",
      "/Users/fumiaki/opt/anaconda3/lib/python3.7/site-packages/ipykernel_launcher.py:6: H5pyDeprecationWarning: The default file mode will change to 'r' (read-only) in h5py 3.0. To suppress this warning, pass the mode you need to h5py.File(), or set the global default h5.get_config().default_file_mode, or set the environment variable H5PY_DEFAULT_READONLY=1. Available modes are: 'r', 'r+', 'w', 'w-'/'x', 'a'. See the docs for details.\n",
      "  \n",
      "/Users/fumiaki/opt/anaconda3/lib/python3.7/site-packages/ipykernel_launcher.py:11: H5pyDeprecationWarning: The default file mode will change to 'r' (read-only) in h5py 3.0. To suppress this warning, pass the mode you need to h5py.File(), or set the global default h5.get_config().default_file_mode, or set the environment variable H5PY_DEFAULT_READONLY=1. Available modes are: 'r', 'r+', 'w', 'w-'/'x', 'a'. See the docs for details.\n",
      "  # This is added back by InteractiveShellApp.init_path()\n"
     ]
    }
   ],
   "source": [
    "with h5py.File(Cs_events_nhit_more_30) as h5f:\n",
    "#     x = h5f[\"events/x\"][:]\n",
    "#     y = h5f[\"events/y\"][:]\n",
    "    tot_Cs_events_nhit_more_30  = h5f[\"events/tot\"][:]\n",
    "    \n",
    "with h5py.File(Cs_events_nhit_more_1) as h5f:\n",
    "#     x = h5f[\"events/x\"][:]\n",
    "#     y = h5f[\"events/y\"][:]\n",
    "    tot_Cs_events_nhit_more_1  = h5f[\"events/tot\"][:]\n",
    "    \n",
    "with h5py.File(Cs_events_nhit_more_45) as h5f:\n",
    "#     x = h5f[\"events/x\"][:]\n",
    "#     y = h5f[\"events/y\"][:]\n",
    "    tot_Cs_events_nhit_more_45  = h5f[\"events/tot\"][:]"
   ]
  },
  {
   "cell_type": "code",
   "execution_count": 48,
   "id": "06b37a74",
   "metadata": {},
   "outputs": [
    {
     "ename": "NameError",
     "evalue": "name 'Am_events' is not defined",
     "output_type": "error",
     "traceback": [
      "\u001b[0;31m---------------------------------------------------------------------------\u001b[0m",
      "\u001b[0;31mNameError\u001b[0m                                 Traceback (most recent call last)",
      "\u001b[0;32m<ipython-input-48-a1bd31bf1869>\u001b[0m in \u001b[0;36m<module>\u001b[0;34m\u001b[0m\n\u001b[0;32m----> 1\u001b[0;31m \u001b[0;32mwith\u001b[0m \u001b[0mh5py\u001b[0m\u001b[0;34m.\u001b[0m\u001b[0mFile\u001b[0m\u001b[0;34m(\u001b[0m\u001b[0mAm_events\u001b[0m\u001b[0;34m)\u001b[0m \u001b[0;32mas\u001b[0m \u001b[0mh5f\u001b[0m\u001b[0;34m:\u001b[0m\u001b[0;34m\u001b[0m\u001b[0;34m\u001b[0m\u001b[0m\n\u001b[0m\u001b[1;32m      2\u001b[0m \u001b[0;31m#     x = h5f[\"events/x\"][:]\u001b[0m\u001b[0;34m\u001b[0m\u001b[0;34m\u001b[0m\u001b[0;34m\u001b[0m\u001b[0m\n\u001b[1;32m      3\u001b[0m \u001b[0;31m#     y = h5f[\"events/y\"][:]\u001b[0m\u001b[0;34m\u001b[0m\u001b[0;34m\u001b[0m\u001b[0;34m\u001b[0m\u001b[0m\n\u001b[1;32m      4\u001b[0m     \u001b[0mtot_Am_events\u001b[0m \u001b[0;34m=\u001b[0m \u001b[0mh5f\u001b[0m\u001b[0;34m[\u001b[0m\u001b[0;34m\"events/tot\"\u001b[0m\u001b[0;34m]\u001b[0m\u001b[0;34m[\u001b[0m\u001b[0;34m:\u001b[0m\u001b[0;34m]\u001b[0m\u001b[0;34m\u001b[0m\u001b[0;34m\u001b[0m\u001b[0m\n",
      "\u001b[0;31mNameError\u001b[0m: name 'Am_events' is not defined"
     ]
    }
   ],
   "source": [
    "with h5py.File(Am_events) as h5f:\n",
    "#     x = h5f[\"events/x\"][:]\n",
    "#     y = h5f[\"events/y\"][:]\n",
    "    tot_Am_events = h5f[\"events/tot\"][:]"
   ]
  },
  {
   "cell_type": "code",
   "execution_count": 49,
   "id": "bf93d4eb",
   "metadata": {},
   "outputs": [
    {
     "name": "stderr",
     "output_type": "stream",
     "text": [
      "/Users/fumiaki/opt/anaconda3/lib/python3.7/site-packages/ipykernel_launcher.py:1: H5pyDeprecationWarning: The default file mode will change to 'r' (read-only) in h5py 3.0. To suppress this warning, pass the mode you need to h5py.File(), or set the global default h5.get_config().default_file_mode, or set the environment variable H5PY_DEFAULT_READONLY=1. Available modes are: 'r', 'r+', 'w', 'w-'/'x', 'a'. See the docs for details.\n",
      "  \"\"\"Entry point for launching an IPython kernel.\n"
     ]
    }
   ],
   "source": [
    "with h5py.File(Co_events_nhit_more_1 ) as h5f:\n",
    "#     x = h5f[\"events/x\"][:]\n",
    "#     y = h5f[\"events/y\"][:]\n",
    "    tot_Co_events_nhit_more1 = h5f[\"events/tot\"][:]"
   ]
  },
  {
   "cell_type": "code",
   "execution_count": 50,
   "id": "77b6b6bd",
   "metadata": {},
   "outputs": [
    {
     "ename": "NameError",
     "evalue": "name 'Co_events' is not defined",
     "output_type": "error",
     "traceback": [
      "\u001b[0;31m---------------------------------------------------------------------------\u001b[0m",
      "\u001b[0;31mNameError\u001b[0m                                 Traceback (most recent call last)",
      "\u001b[0;32m<ipython-input-50-fb9141065128>\u001b[0m in \u001b[0;36m<module>\u001b[0;34m\u001b[0m\n\u001b[0;32m----> 1\u001b[0;31m \u001b[0;32mwith\u001b[0m \u001b[0mh5py\u001b[0m\u001b[0;34m.\u001b[0m\u001b[0mFile\u001b[0m\u001b[0;34m(\u001b[0m\u001b[0mCo_events\u001b[0m\u001b[0;34m)\u001b[0m \u001b[0;32mas\u001b[0m \u001b[0mh5f\u001b[0m\u001b[0;34m:\u001b[0m\u001b[0;34m\u001b[0m\u001b[0;34m\u001b[0m\u001b[0m\n\u001b[0m\u001b[1;32m      2\u001b[0m \u001b[0;31m#     x = h5f[\"events/x\"][:]\u001b[0m\u001b[0;34m\u001b[0m\u001b[0;34m\u001b[0m\u001b[0;34m\u001b[0m\u001b[0m\n\u001b[1;32m      3\u001b[0m \u001b[0;31m#     y = h5f[\"events/y\"][:]\u001b[0m\u001b[0;34m\u001b[0m\u001b[0;34m\u001b[0m\u001b[0;34m\u001b[0m\u001b[0m\n\u001b[1;32m      4\u001b[0m     \u001b[0mtot_Co_events\u001b[0m \u001b[0;34m=\u001b[0m \u001b[0mh5f\u001b[0m\u001b[0;34m[\u001b[0m\u001b[0;34m\"events/tot\"\u001b[0m\u001b[0;34m]\u001b[0m\u001b[0;34m[\u001b[0m\u001b[0;34m:\u001b[0m\u001b[0;34m]\u001b[0m\u001b[0;34m\u001b[0m\u001b[0;34m\u001b[0m\u001b[0m\n",
      "\u001b[0;31mNameError\u001b[0m: name 'Co_events' is not defined"
     ]
    }
   ],
   "source": [
    "with h5py.File(Co_events) as h5f:\n",
    "#     x = h5f[\"events/x\"][:]\n",
    "#     y = h5f[\"events/y\"][:]\n",
    "    tot_Co_events = h5f[\"events/tot\"][:]"
   ]
  },
  {
   "cell_type": "code",
   "execution_count": 51,
   "id": "c72c3fca",
   "metadata": {
    "ExecuteTime": {
     "end_time": "2023-03-06T20:26:10.110593Z",
     "start_time": "2023-03-06T20:26:10.055483Z"
    },
    "scrolled": false
   },
   "outputs": [
    {
     "ename": "NameError",
     "evalue": "name 'Back_events_nhit_more_30' is not defined",
     "output_type": "error",
     "traceback": [
      "\u001b[0;31m---------------------------------------------------------------------------\u001b[0m",
      "\u001b[0;31mNameError\u001b[0m                                 Traceback (most recent call last)",
      "\u001b[0;32m<ipython-input-51-c8ca3dad8ad6>\u001b[0m in \u001b[0;36m<module>\u001b[0;34m\u001b[0m\n\u001b[0;32m----> 1\u001b[0;31m \u001b[0;32mwith\u001b[0m \u001b[0mh5py\u001b[0m\u001b[0;34m.\u001b[0m\u001b[0mFile\u001b[0m\u001b[0;34m(\u001b[0m\u001b[0mBack_events_nhit_more_30\u001b[0m\u001b[0;34m)\u001b[0m \u001b[0;32mas\u001b[0m \u001b[0mh5f\u001b[0m\u001b[0;34m:\u001b[0m\u001b[0;34m\u001b[0m\u001b[0;34m\u001b[0m\u001b[0m\n\u001b[0m\u001b[1;32m      2\u001b[0m \u001b[0;31m#     x = h5f[\"events/x\"][:]\u001b[0m\u001b[0;34m\u001b[0m\u001b[0;34m\u001b[0m\u001b[0;34m\u001b[0m\u001b[0m\n\u001b[1;32m      3\u001b[0m \u001b[0;31m#     y = h5f[\"events/y\"][:]\u001b[0m\u001b[0;34m\u001b[0m\u001b[0;34m\u001b[0m\u001b[0;34m\u001b[0m\u001b[0m\n\u001b[1;32m      4\u001b[0m     \u001b[0mtot_Back_events_nhit_more_30\u001b[0m \u001b[0;34m=\u001b[0m \u001b[0mh5f\u001b[0m\u001b[0;34m[\u001b[0m\u001b[0;34m\"events/tot\"\u001b[0m\u001b[0;34m]\u001b[0m\u001b[0;34m[\u001b[0m\u001b[0;34m:\u001b[0m\u001b[0;34m]\u001b[0m\u001b[0;34m\u001b[0m\u001b[0;34m\u001b[0m\u001b[0m\n\u001b[1;32m      5\u001b[0m \u001b[0;31m#     nhits = h5f[\"events/NHits\"][:]\u001b[0m\u001b[0;34m\u001b[0m\u001b[0;34m\u001b[0m\u001b[0;34m\u001b[0m\u001b[0m\n",
      "\u001b[0;31mNameError\u001b[0m: name 'Back_events_nhit_more_30' is not defined"
     ]
    }
   ],
   "source": [
    "with h5py.File(Back_events_nhit_more_30) as h5f:\n",
    "#     x = h5f[\"events/x\"][:]\n",
    "#     y = h5f[\"events/y\"][:]\n",
    "    tot_Back_events_nhit_more_30 = h5f[\"events/tot\"][:]\n",
    "#     nhits = h5f[\"events/NHits\"][:]\n",
    "\n",
    "with h5py.File(Back_events_nhit_more_1) as h5f:\n",
    "#     x = h5f[\"events/x\"][:]\n",
    "#     y = h5f[\"events/y\"][:]\n",
    "    tot_Back_events_nhit_more_1 = h5f[\"events/tot\"][:]"
   ]
  },
  {
   "cell_type": "code",
   "execution_count": 57,
   "id": "f1e13f37",
   "metadata": {},
   "outputs": [
    {
     "data": {
      "text/plain": [
       "Text(0.5, 0, 'TOT')"
      ]
     },
     "execution_count": 57,
     "metadata": {},
     "output_type": "execute_result"
    },
    {
     "data": {
      "image/png": "[encoded data removed]",
      "text/plain": [
       "<Figure size 432x288 with 1 Axes>"
      ]
     },
     "metadata": {
      "needs_background": "light"
     },
     "output_type": "display_data"
    }
   ],
   "source": [
    "plt.figure()\n",
    "_ = plt.hist(tot_neutron_event, 1500,range=[0, 10000],alpha = 0.2, label='Neutron(nhit>1)' )\n",
    "_ = plt.hist(tot_neutron_events_nhit_more_45, 1500,range=[0, 10000],alpha = 0.2, label='Neutron(nhit>45)' )\n",
    "_ = plt.hist(tot_Cs_events_nhit_more_1, 1500,range=[0, 10000],alpha = 0.2, label='Cs137(nhit>1)' )\n",
    "_ = plt.hist(tot_Cs_events_nhit_more_45, 1500,range=[0, 10000],alpha = 0.5, label='Cs137(nhit>45)' )\n",
    "\n",
    "\n",
    "# _ = plt.hist(tot_Am_events, 1500,range=[0, 1500],alpha = 0.5, label='Am' )\n",
    "# _ = plt.hist(tot_Aftergrow_events, 1500,range=[0, 1500],alpha = 0.3, label='After glow' )\n",
    "# _ = plt.hist(tot_Back_events, 1500,range=[0, 1500],alpha = 0.3, label='Background')\n",
    "# _ = plt.hist(nhits_5, 120,range=[0, 120],alpha = 0.3, label='After glow(16 h later)' )\n",
    "\n",
    "plt.yscale('log', nonposy='clip')\n",
    "plt.legend(loc='upper right')\n",
    "plt.xlabel(\"TOT\")"
   ]
  },
  {
   "cell_type": "code",
   "execution_count": 53,
   "id": "233a1b3c",
   "metadata": {},
   "outputs": [
    {
     "ename": "NameError",
     "evalue": "name 'tot_Aftergrow_nhit_more_1' is not defined",
     "output_type": "error",
     "traceback": [
      "\u001b[0;31m---------------------------------------------------------------------------\u001b[0m",
      "\u001b[0;31mNameError\u001b[0m                                 Traceback (most recent call last)",
      "\u001b[0;32m<ipython-input-53-958f5e7af878>\u001b[0m in \u001b[0;36m<module>\u001b[0;34m\u001b[0m\n\u001b[1;32m      2\u001b[0m \u001b[0m_\u001b[0m \u001b[0;34m=\u001b[0m \u001b[0mplt\u001b[0m\u001b[0;34m.\u001b[0m\u001b[0mhist\u001b[0m\u001b[0;34m(\u001b[0m\u001b[0mtot_neutron_event\u001b[0m\u001b[0;34m,\u001b[0m \u001b[0;36m1500\u001b[0m\u001b[0;34m,\u001b[0m\u001b[0mrange\u001b[0m\u001b[0;34m=\u001b[0m\u001b[0;34m[\u001b[0m\u001b[0;36m0\u001b[0m\u001b[0;34m,\u001b[0m \u001b[0;36m1500\u001b[0m\u001b[0;34m]\u001b[0m\u001b[0;34m,\u001b[0m\u001b[0malpha\u001b[0m \u001b[0;34m=\u001b[0m \u001b[0;36m0.2\u001b[0m\u001b[0;34m,\u001b[0m \u001b[0mlabel\u001b[0m\u001b[0;34m=\u001b[0m\u001b[0;34m'Neutron(nhit>1)'\u001b[0m \u001b[0;34m)\u001b[0m\u001b[0;34m\u001b[0m\u001b[0;34m\u001b[0m\u001b[0m\n\u001b[1;32m      3\u001b[0m \u001b[0m_\u001b[0m \u001b[0;34m=\u001b[0m \u001b[0mplt\u001b[0m\u001b[0;34m.\u001b[0m\u001b[0mhist\u001b[0m\u001b[0;34m(\u001b[0m\u001b[0mtot_neutron_events_nhit_more_30\u001b[0m\u001b[0;34m,\u001b[0m \u001b[0;36m1500\u001b[0m\u001b[0;34m,\u001b[0m\u001b[0mrange\u001b[0m\u001b[0;34m=\u001b[0m\u001b[0;34m[\u001b[0m\u001b[0;36m0\u001b[0m\u001b[0;34m,\u001b[0m \u001b[0;36m1500\u001b[0m\u001b[0;34m]\u001b[0m\u001b[0;34m,\u001b[0m\u001b[0malpha\u001b[0m \u001b[0;34m=\u001b[0m \u001b[0;36m0.2\u001b[0m\u001b[0;34m,\u001b[0m \u001b[0mlabel\u001b[0m\u001b[0;34m=\u001b[0m\u001b[0;34m'Neutron(nhit>30)'\u001b[0m \u001b[0;34m)\u001b[0m\u001b[0;34m\u001b[0m\u001b[0;34m\u001b[0m\u001b[0m\n\u001b[0;32m----> 4\u001b[0;31m \u001b[0m_\u001b[0m \u001b[0;34m=\u001b[0m \u001b[0mplt\u001b[0m\u001b[0;34m.\u001b[0m\u001b[0mhist\u001b[0m\u001b[0;34m(\u001b[0m\u001b[0mtot_Aftergrow_nhit_more_1\u001b[0m\u001b[0;34m,\u001b[0m \u001b[0;36m1500\u001b[0m\u001b[0;34m,\u001b[0m\u001b[0mrange\u001b[0m\u001b[0;34m=\u001b[0m\u001b[0;34m[\u001b[0m\u001b[0;36m0\u001b[0m\u001b[0;34m,\u001b[0m \u001b[0;36m1500\u001b[0m\u001b[0;34m]\u001b[0m\u001b[0;34m,\u001b[0m\u001b[0malpha\u001b[0m \u001b[0;34m=\u001b[0m \u001b[0;36m0.2\u001b[0m\u001b[0;34m,\u001b[0m \u001b[0mlabel\u001b[0m\u001b[0;34m=\u001b[0m\u001b[0;34m'After grow(nhit>1)'\u001b[0m \u001b[0;34m)\u001b[0m\u001b[0;34m\u001b[0m\u001b[0;34m\u001b[0m\u001b[0m\n\u001b[0m\u001b[1;32m      5\u001b[0m \u001b[0m_\u001b[0m \u001b[0;34m=\u001b[0m \u001b[0mplt\u001b[0m\u001b[0;34m.\u001b[0m\u001b[0mhist\u001b[0m\u001b[0;34m(\u001b[0m\u001b[0mtot_Aftergrow_nhit_more_30\u001b[0m\u001b[0;34m,\u001b[0m \u001b[0;36m1500\u001b[0m\u001b[0;34m,\u001b[0m\u001b[0mrange\u001b[0m\u001b[0;34m=\u001b[0m\u001b[0;34m[\u001b[0m\u001b[0;36m0\u001b[0m\u001b[0;34m,\u001b[0m \u001b[0;36m1500\u001b[0m\u001b[0;34m]\u001b[0m\u001b[0;34m,\u001b[0m\u001b[0malpha\u001b[0m \u001b[0;34m=\u001b[0m \u001b[0;36m0.5\u001b[0m\u001b[0;34m,\u001b[0m \u001b[0mlabel\u001b[0m\u001b[0;34m=\u001b[0m\u001b[0;34m'After grow(nhit>30)'\u001b[0m \u001b[0;34m)\u001b[0m\u001b[0;34m\u001b[0m\u001b[0;34m\u001b[0m\u001b[0m\n\u001b[1;32m      6\u001b[0m \u001b[0;34m\u001b[0m\u001b[0m\n",
      "\u001b[0;31mNameError\u001b[0m: name 'tot_Aftergrow_nhit_more_1' is not defined"
     ]
    },
    {
     "data": {
      "image/png": "[encoded data removed]",
      "text/plain": [
       "<Figure size 432x288 with 1 Axes>"
      ]
     },
     "metadata": {
      "needs_background": "light"
     },
     "output_type": "display_data"
    }
   ],
   "source": [
    "plt.figure()\n",
    "_ = plt.hist(tot_neutron_event, 1500,range=[0, 1500],alpha = 0.2, label='Neutron(nhit>1)' )\n",
    "_ = plt.hist(tot_neutron_events_nhit_more_30, 1500,range=[0, 1500],alpha = 0.2, label='Neutron(nhit>30)' )\n",
    "_ = plt.hist(tot_Aftergrow_nhit_more_1, 1500,range=[0, 1500],alpha = 0.2, label='After grow(nhit>1)' )\n",
    "_ = plt.hist(tot_Aftergrow_nhit_more_30, 1500,range=[0, 1500],alpha = 0.5, label='After grow(nhit>30)' )\n",
    "\n",
    "\n",
    "# _ = plt.hist(tot_Am_events, 1500,range=[0, 1500],alpha = 0.5, label='Am' )\n",
    "# _ = plt.hist(tot_Aftergrow_events, 1500,range=[0, 1500],alpha = 0.3, label='After glow' )\n",
    "# _ = plt.hist(tot_Back_events, 1500,range=[0, 1500],alpha = 0.3, label='Background')\n",
    "# _ = plt.hist(nhits_5, 120,range=[0, 120],alpha = 0.3, label='After glow(16 h later)' )\n",
    "\n",
    "plt.yscale('log', nonposy='clip')\n",
    "plt.legend(loc='upper right')\n",
    "plt.xlabel(\"TOT\")"
   ]
  },
  {
   "cell_type": "code",
   "execution_count": 41,
   "id": "b170446c",
   "metadata": {},
   "outputs": [
    {
     "data": {
      "text/plain": [
       "Text(0.5, 0, 'TOT')"
      ]
     },
     "execution_count": 41,
     "metadata": {},
     "output_type": "execute_result"
    },
    {
     "data": {
      "image/png": "[encoded data removed]",
      "text/plain": [
       "<Figure size 432x288 with 1 Axes>"
      ]
     },
     "metadata": {
      "needs_background": "light"
     },
     "output_type": "display_data"
    }
   ],
   "source": [
    "plt.figure()\n",
    "_ = plt.hist(tot_neutron_event, 1500,range=[0, 1500],alpha = 0.2, label='Neutron(nhit>1)' )\n",
    "_ = plt.hist(tot_neutron_events_nhit_more_30, 1500,range=[0, 1500],alpha = 0.2, label='Neutron(nhit>30)' )\n",
    "_ = plt.hist(tot_Back_events_nhit_more_1, 1500,range=[0, 1500],alpha = 0.2, label='Background(nhit>1)' )\n",
    "_ = plt.hist(tot_Back_events_nhit_more_30, 1500,range=[0, 1500],alpha = 0.5, label='Background(nhit>30)' )\n",
    "\n",
    "\n",
    "# _ = plt.hist(tot_Am_events, 1500,range=[0, 1500],alpha = 0.5, label='Am' )\n",
    "# _ = plt.hist(tot_Aftergrow_events, 1500,range=[0, 1500],alpha = 0.3, label='After glow' )\n",
    "# _ = plt.hist(tot_Back_events, 1500,range=[0, 1500],alpha = 0.3, label='Background')\n",
    "# _ = plt.hist(nhits_5, 120,range=[0, 120],alpha = 0.3, label='After glow(16 h later)' )\n",
    "\n",
    "plt.yscale('log', nonposy='clip')\n",
    "plt.legend(loc='upper right')\n",
    "plt.xlabel(\"TOT\")"
   ]
  },
  {
   "cell_type": "code",
   "execution_count": null,
   "id": "789f37a2",
   "metadata": {},
   "outputs": [],
   "source": [
    "plt.figure()\n",
    "_ = plt.hist(tot_neutron_event, 1500,range=[0, 500],alpha = 0.2, label='Neutron(nhit>1)' )\n",
    "_ = plt.hist(tot_neutron_events_nhit_more_30, 1500,range=[0, 1500],alpha = 0.2, label='Neutron(nhit>30)' )\n",
    "_ = plt.hist(tot_Am_nhit_more_1 , 1500,range=[0, 1500],alpha = 0.2, label='Am(nhit>1)' )\n",
    "_ = plt.hist(tot_Am_nhit_more_30, 1500,range=[0, 1500],alpha = 0.5, label='Am(nhit>30)' )\n",
    "\n",
    "\n",
    "# _ = plt.hist(tot_Am_events, 1500,range=[0, 1500],alpha = 0.5, label='Am' )\n",
    "# _ = plt.hist(tot_Aftergrow_events, 1500,range=[0, 1500],alpha = 0.3, label='After glow' )\n",
    "# _ = plt.hist(tot_Back_events, 1500,range=[0, 1500],alpha = 0.3, label='Background')\n",
    "# _ = plt.hist(nhits_5, 120,range=[0, 120],alpha = 0.3, label='After glow(16 h later)' )\n",
    "\n",
    "plt.yscale('log', nonposy='clip')\n",
    "plt.legend(loc='upper right')\n",
    "plt.xlabel(\"TOT\")"
   ]
  },
  {
   "cell_type": "code",
   "execution_count": 58,
   "id": "2d3f4104",
   "metadata": {},
   "outputs": [
    {
     "data": {
      "text/plain": [
       "Text(0.5, 0, 'TOT')"
      ]
     },
     "execution_count": 58,
     "metadata": {},
     "output_type": "execute_result"
    },
    {
     "data": {
      "image/png": "[encoded data removed]",
      "text/plain": [
       "<Figure size 432x288 with 1 Axes>"
      ]
     },
     "metadata": {
      "needs_background": "light"
     },
     "output_type": "display_data"
    }
   ],
   "source": [
    "### plt.figure()\n",
    "_ = plt.hist(tot_neutron_event, 1500,range=[0, 10000],alpha = 0.2, label='Neutron(nhit>1)' )\n",
    "_ = plt.hist(tot_neutron_events_nhit_more_45, 1500,range=[0, 10000],alpha = 0.2, label='Neutron(nhit>45)' )\n",
    "_ = plt.hist(tot_Co_events_nhit_more1, 1500,range=[0, 10000],alpha = 0.2, label='Co60(nhit>1)' )\n",
    "_ = plt.hist(Co_events_nhit_more_45, 1500,range=[0, 10000],alpha = 0.5, label='Co60(nhit>45)' )\n",
    "\n",
    "\n",
    "# _ = plt.hist(tot_Am_events, 1500,range=[0, 1500],alpha = 0.5, label='Am' )\n",
    "# _ = plt.hist(tot_Aftergrow_events, 1500,range=[0, 1500],alpha = 0.3, label='After glow' )\n",
    "# _ = plt.hist(tot_Back_events, 1500,range=[0, 1500],alpha = 0.3, label='Background')\n",
    "# _ = plt.hist(nhits_5, 120,range=[0, 120],alpha = 0.3, label='After glow(16 h later)' )\n",
    "\n",
    "plt.yscale('log', nonposy='clip')\n",
    "plt.legend(loc='upper right')\n",
    "plt.xlabel(\"TOT\")"
   ]
  },
  {
   "cell_type": "code",
   "execution_count": null,
   "id": "4e70a808",
   "metadata": {},
   "outputs": [],
   "source": [
    "plt.figure()\n",
    "_ = plt.hist2d(nhits, tot, bins=150, range=np.array([(0, 150), (0, 2500)]),norm=LogNorm())\n",
    "plt.colorbar()\n",
    "# ax.set_ylabel('Y')\n",
    "# plt.yscale('log', nonposy='clip')\n",
    "# plt.legend(loc='upper right')\n",
    "plt.xlabel(\"nhits\")\n",
    "plt.ylabel(\"TOT\")"
   ]
  },
  {
   "cell_type": "code",
   "execution_count": null,
   "id": "7f71dd2c",
   "metadata": {},
   "outputs": [],
   "source": [
    "with h5py.File(filename_events_1) as h5f:\n",
    "#     x = h5f[\"events/x\"][:]\n",
    "#     y = h5f[\"events/y\"][:]\n",
    "#     tof_ns = h5f[\"events/tof_ns\"][:]\n",
    "    nhits_1 = h5f[\"events/NHits\"][:]"
   ]
  },
  {
   "cell_type": "code",
   "execution_count": null,
   "id": "77daa832",
   "metadata": {},
   "outputs": [],
   "source": [
    "with h5py.File(filename_events_5) as h5f:\n",
    "#     x = h5f[\"events/x\"][:]\n",
    "#     y = h5f[\"events/y\"][:]\n",
    "#     tof_ns = h5f[\"events/tof_ns\"][:]\n",
    "    nhits_5 = h5f[\"events/NHits\"][:]"
   ]
  },
  {
   "cell_type": "code",
   "execution_count": null,
   "id": "9543a37f",
   "metadata": {},
   "outputs": [],
   "source": [
    "with h5py.File(filename_events_2) as h5f:\n",
    "#     x = h5f[\"events/x\"][:]\n",
    "#     y = h5f[\"events/y\"][:]\n",
    "#     tof_ns = h5f[\"events/tof_ns\"][:]\n",
    "    nhits_2 = h5f[\"events/NHits\"][:]"
   ]
  },
  {
   "cell_type": "code",
   "execution_count": null,
   "id": "dd06da44",
   "metadata": {
    "scrolled": true
   },
   "outputs": [],
   "source": [
    "with h5py.File(filename_events_3) as h5f:\n",
    "#     x = h5f[\"events/x\"][:]\n",
    "#     y = h5f[\"events/y\"][:]\n",
    "#     tof_ns = h5f[\"events/tof_ns\"][:]\n",
    "    nhits_3 = h5f[\"events/NHits\"][:]"
   ]
  },
  {
   "cell_type": "code",
   "execution_count": null,
   "id": "30e9110e",
   "metadata": {},
   "outputs": [],
   "source": [
    "with h5py.File(filename_events_4) as h5f:\n",
    "#     x = h5f[\"events/x\"][:]\n",
    "#     y = h5f[\"events/y\"][:]\n",
    "#     tof_ns = h5f[\"events/tof_ns\"][:]\n",
    "    nhits_4 = h5f[\"events/NHits\"][:]"
   ]
  },
  {
   "cell_type": "code",
   "execution_count": null,
   "id": "04eb3634",
   "metadata": {},
   "outputs": [],
   "source": [
    "plt.figure()\n",
    "_ = plt.hist(nhits, 150,range=[0, 150],alpha = 0.5, label='Neutron: Spider time 500000 ns' )\n",
    "_ = plt.hist(nhits_1, 150,range=[0, 150],alpha = 0.5, label='Neutron: Spider time 50000 ns' )\n",
    "# _ = plt.hist(nhits_3, 120,range=[0, 120],alpha = 0.5, label='Cs137' )\n",
    "# _ = plt.hist(nhits_4, 120,range=[0, 120],alpha = 0.3, label='Am' )\n",
    "_ = plt.hist(nhits_2, 150,range=[0, 150],alpha = 0.3, label='Neutron: Spider time 5000 ns')\n",
    "# _ = plt.hist(nhits_5, 120,range=[0, 120],alpha = 0.3, label='After glow(16 h later)' )\n",
    "\n",
    "plt.yscale('log', nonposy='clip')\n",
    "plt.legend(loc='upper right')\n",
    "plt.xlabel(\"nhits\")"
   ]
  },
  {
   "cell_type": "markdown",
   "id": "ec479609",
   "metadata": {},
   "source": [
    "## Plot data after centroiding"
   ]
  },
  {
   "cell_type": "code",
   "execution_count": 5,
   "id": "c16c58d0",
   "metadata": {},
   "outputs": [
    {
     "ename": "NameError",
     "evalue": "name 'scipy' is not defined",
     "output_type": "error",
     "traceback": [
      "\u001b[0;31m---------------------------------------------------------------------------\u001b[0m",
      "\u001b[0;31mNameError\u001b[0m                                 Traceback (most recent call last)",
      "\u001b[0;32m<ipython-input-5-91a7e0d43afe>\u001b[0m in \u001b[0;36m<module>\u001b[0;34m\u001b[0m\n\u001b[0;32m----> 1\u001b[0;31m \u001b[0mmu\u001b[0m\u001b[0;34m,\u001b[0m \u001b[0msigma\u001b[0m \u001b[0;34m=\u001b[0m \u001b[0mscipy\u001b[0m\u001b[0;34m.\u001b[0m\u001b[0mstats\u001b[0m\u001b[0;34m.\u001b[0m\u001b[0mnorm\u001b[0m\u001b[0;34m.\u001b[0m\u001b[0mfit\u001b[0m\u001b[0;34m(\u001b[0m\u001b[0mnhits\u001b[0m\u001b[0;34m,\u001b[0m\u001b[0mrange\u001b[0m\u001b[0;34m=\u001b[0m\u001b[0;34m[\u001b[0m\u001b[0;36m0\u001b[0m\u001b[0;34m,\u001b[0m \u001b[0;36m60\u001b[0m\u001b[0;34m]\u001b[0m\u001b[0;34m)\u001b[0m\u001b[0;34m\u001b[0m\u001b[0;34m\u001b[0m\u001b[0m\n\u001b[0m\u001b[1;32m      2\u001b[0m \u001b[0mbest_fit_line\u001b[0m \u001b[0;34m=\u001b[0m \u001b[0mscipy\u001b[0m\u001b[0;34m.\u001b[0m\u001b[0mstats\u001b[0m\u001b[0;34m.\u001b[0m\u001b[0mnorm\u001b[0m\u001b[0;34m.\u001b[0m\u001b[0mpdf\u001b[0m\u001b[0;34m(\u001b[0m\u001b[0;36m100\u001b[0m\u001b[0;34m,\u001b[0m \u001b[0mmu\u001b[0m\u001b[0;34m,\u001b[0m \u001b[0msigma\u001b[0m\u001b[0;34m)\u001b[0m\u001b[0;34m\u001b[0m\u001b[0;34m\u001b[0m\u001b[0m\n\u001b[1;32m      3\u001b[0m \u001b[0mplt\u001b[0m\u001b[0;34m.\u001b[0m\u001b[0mplot\u001b[0m\u001b[0;34m(\u001b[0m\u001b[0;36m100\u001b[0m\u001b[0;34m,\u001b[0m \u001b[0mbest_fit_line\u001b[0m\u001b[0;34m)\u001b[0m\u001b[0;34m\u001b[0m\u001b[0;34m\u001b[0m\u001b[0m\n",
      "\u001b[0;31mNameError\u001b[0m: name 'scipy' is not defined"
     ]
    }
   ],
   "source": [
    "mu, sigma = scipy.stats.norm.fit(nhits,range=[0, 60])\n",
    "best_fit_line = scipy.stats.norm.pdf(100, mu, sigma)\n",
    "plt.plot(100, best_fit_line)"
   ]
  },
  {
   "cell_type": "code",
   "execution_count": null,
   "id": "41b46217",
   "metadata": {},
   "outputs": [],
   "source": [
    "binsize=256\n",
    "xedges = np.linspace(256, 512, binsize+1)\n",
    "yedges = np.linspace(0, 256, binsize+1)\n",
    "H, xedges, yedges = np.histogram2d(x, y, bins=(xedges, yedges))\n",
    "H = H.T\n",
    "fig, ax = plt.subplots(figsize=(8,8))\n",
    "ax.imshow(\n",
    "#     H,\n",
    "     np.log(H+1),\n",
    "#       vmin=0, vmax=10,\n",
    "    interpolation='nearest',\n",
    "    origin='lower',\n",
    "    extent=[xedges[0], xedges[-1], yedges[0], yedges[-1]],\n",
    "    cmap='viridis',\n",
    "#     cmap=\"gray\",\n",
    ")"
   ]
  },
  {
   "cell_type": "code",
   "execution_count": null,
   "id": "992f56be",
   "metadata": {},
   "outputs": [],
   "source": [
    "with h5py.File(filename_hits) as h5f:\n",
    "    x = h5f[\"hits/x\"][:]\n",
    "    y = h5f[\"hits/y\"][:]\n",
    "    tof_ns = h5f[\"hits/tof_ns\"][:]\n",
    "#     nhits = h5f[\"events/NHits\"][:]"
   ]
  },
  {
   "cell_type": "markdown",
   "id": "c97794e9",
   "metadata": {},
   "source": [
    "# Plot data before centroiding"
   ]
  },
  {
   "cell_type": "code",
   "execution_count": null,
   "id": "80476c51",
   "metadata": {},
   "outputs": [],
   "source": [
    "binsize=256\n",
    "xedges = np.linspace(256, 512, binsize+1)\n",
    "yedges = np.linspace(0, 256, binsize+1)\n",
    "H, xedges, yedges = np.histogram2d(x, y, bins=(xedges, yedges))\n",
    "H = H.T\n",
    "fig, ax = plt.subplots(figsize=(8,8))\n",
    "ax.imshow(\n",
    "#     H,\n",
    "     np.log(H+1),\n",
    "#       vmin=0, vmax=10,\n",
    "    interpolation='nearest',\n",
    "    origin='lower',\n",
    "    extent=[xedges[0], xedges[-1], yedges[0], yedges[-1]],\n",
    "    cmap='viridis',\n",
    "#     cmap=\"gray\",\n",
    ")"
   ]
  },
  {
   "cell_type": "code",
   "execution_count": null,
   "id": "517b10bc",
   "metadata": {
    "ExecuteTime": {
     "end_time": "2023-03-06T20:31:25.999645Z",
     "start_time": "2023-03-06T20:31:25.433974Z"
    }
   },
   "outputs": [],
   "source": [
    "binsize=1024\n",
    "xedges = np.linspace(0, binsize, binsize+1)\n",
    "yedges = np.linspace(0, binsize, binsize+1)\n",
    "H, xedges, yedges = np.histogram2d(x, y, bins=(xedges, yedges))\n",
    "H = H.T\n",
    "fig, ax = plt.subplots(figsize=(8,8))\n",
    "ax.imshow(\n",
    "    # H,\n",
    "    -np.log(H+1),\n",
    "    interpolation='nearest',\n",
    "    origin='lower',\n",
    "    extent=[xedges[0], xedges[-1], yedges[0], yedges[-1]],\n",
    "    cmap=\"gray\",\n",
    ")\n",
    "plt.close()"
   ]
  },
  {
   "cell_type": "code",
   "execution_count": null,
   "id": "81b03643",
   "metadata": {
    "ExecuteTime": {
     "end_time": "2023-03-06T20:31:50.905891Z",
     "start_time": "2023-03-06T20:31:44.268716Z"
    }
   },
   "outputs": [],
   "source": [
    "plt.figure()\n",
    "_ = plt.hist(nhits*1e-6, 10000)\n",
    "plt.xlabel(\"nhits\")"
   ]
  },
  {
   "cell_type": "code",
   "execution_count": null,
   "id": "b75b8c12",
   "metadata": {
    "ExecuteTime": {
     "end_time": "2023-03-06T20:43:34.635187Z",
     "start_time": "2023-03-06T20:43:34.611267Z"
    }
   },
   "outputs": [],
   "source": [
    "filename_events = \"/Users/fumiaki/Documents/ORNL/Research/Sophyread/mcpevent2hist-main/sophiread/build/data/Zeiss.hdf5\"\n",
    "\n",
    "with h5py.File(filename_events) as h5f:\n",
    "    x = h5f[\"events/x\"][:]\n",
    "    y = h5f[\"events/y\"][:]\n",
    "    tof_ns = h5f[\"events/tof_ns\"][:]\n",
    "    nhits = h5f[\"events/NHits\"][:]"
   ]
  },
  {
   "cell_type": "code",
   "execution_count": null,
   "id": "cf66a082",
   "metadata": {
    "ExecuteTime": {
     "end_time": "2023-03-06T20:44:32.480556Z",
     "start_time": "2023-03-06T20:44:29.099754Z"
    }
   },
   "outputs": [],
   "source": [
    "plt.figure()\n",
    "_ = plt.hist(tof_ns*1e-6, 170)\n",
    "plt.xlabel(\"time-of-flight (ms)\")"
   ]
  },
  {
   "cell_type": "code",
   "execution_count": null,
   "id": "eb3ede3c",
   "metadata": {
    "ExecuteTime": {
     "end_time": "2023-03-07T20:59:23.971533Z",
     "start_time": "2023-03-07T20:59:23.906974Z"
    }
   },
   "outputs": [],
   "source": [
    "# filename_events = \"/Users/fumiaki/Documents/ORNL/Research/Sophyread/mcpevent2hist-main/sophiread/build/data/Zeiss.hdf5\"\n",
    "filename_events = \"/Users/fumiaki/Documents/ORNL/Research/Sophyread/mcpevent2hist-main/sophiread/build/data/Navitar_hit.h5\"\n",
    "\n",
    "with h5py.File(filename_events) as h5f:\n",
    "    x = h5f[\"hits/x\"][:]\n",
    "    y = h5f[\"hits/y\"][:]\n",
    "#     tof_ns = h5f[\"events/tof_ns\"][:]\n",
    "#     nhits = h5f[\"events/NHits\"][:]"
   ]
  },
  {
   "cell_type": "code",
   "execution_count": null,
   "id": "5a62c519",
   "metadata": {},
   "outputs": [],
   "source": [
    "len(x),len(y)"
   ]
  },
  {
   "cell_type": "code",
   "execution_count": null,
   "id": "d7f75035",
   "metadata": {
    "ExecuteTime": {
     "end_time": "2023-03-07T20:59:42.882877Z",
     "start_time": "2023-03-07T20:59:42.170674Z"
    }
   },
   "outputs": [],
   "source": [
    "binsize=256\n",
    "xedges = np.linspace(256, 512, binsize+1)\n",
    "yedges = np.linspace(0, 256, binsize+1)\n",
    "H, xedges, yedges = np.histogram2d(x, y, bins=(xedges, yedges))\n",
    "H = H.T\n",
    "fig, ax = plt.subplots(figsize=(8,8))\n",
    "ax.imshow(\n",
    "#     H,\n",
    "     np.log(H+1),\n",
    "#       vmin=0, vmax=10,\n",
    "    interpolation='nearest',\n",
    "    origin='lower',\n",
    "    extent=[xedges[0], xedges[-1], yedges[0], yedges[-1]],\n",
    "    cmap='viridis',\n",
    "#     cmap=\"gray\",\n",
    ")"
   ]
  },
  {
   "cell_type": "code",
   "execution_count": null,
   "id": "52f77136",
   "metadata": {
    "ExecuteTime": {
     "end_time": "2023-03-07T21:00:11.608951Z",
     "start_time": "2023-03-07T20:59:59.121583Z"
    }
   },
   "outputs": [],
   "source": [
    "plt.figure()\n",
    "_ = plt.hist(tof_ns*1e-6, 17000)\n",
    "plt.xlabel(\"time-of-flight (ms)\")"
   ]
  },
  {
   "cell_type": "code",
   "execution_count": null,
   "id": "fad50c62",
   "metadata": {
    "ExecuteTime": {
     "end_time": "2023-03-07T21:00:33.427458Z",
     "start_time": "2023-03-07T21:00:33.293993Z"
    }
   },
   "outputs": [],
   "source": [
    "filename_events = \"/Users/fumiaki/Documents/ORNL/Research/Sophyread/mcpevent2hist-main/sophiread/build/data/Zeiss.hdf5\"\n",
    "\n",
    "with h5py.File(filename_events) as h5f:\n",
    "    x = h5f[\"events/x\"][:]\n",
    "    y = h5f[\"events/y\"][:]\n",
    "    tof_ns = h5f[\"events/tof_ns\"][:]\n",
    "    nhits = h5f[\"events/NHits\"][:]"
   ]
  },
  {
   "cell_type": "code",
   "execution_count": null,
   "id": "e132cad8",
   "metadata": {
    "ExecuteTime": {
     "end_time": "2023-03-07T21:10:55.296987Z",
     "start_time": "2023-03-07T21:10:52.653324Z"
    }
   },
   "outputs": [],
   "source": [
    "binsize=512\n",
    "xedges = np.linspace(0, binsize, binsize+1)\n",
    "yedges = np.linspace(0, binsize, binsize+1)\n",
    "H, xedges, yedges = np.histogram2d(x, y, bins=(xedges, yedges))\n",
    "H = H.T\n",
    "fig, ax = plt.subplots(figsize=(8,8))\n",
    "ax.imshow(\n",
    "    H,\n",
    "#     -np.log(H+1),\n",
    "    interpolation='nearest',\n",
    "     vmin=0, vmax=6,\n",
    "    origin='lower',\n",
    "    extent=[xedges[0], xedges[-1], yedges[0], yedges[-1]],\n",
    "  cmap='viridis',\n",
    ")"
   ]
  },
  {
   "cell_type": "code",
   "execution_count": null,
   "id": "371c90c0",
   "metadata": {
    "ExecuteTime": {
     "end_time": "2023-03-07T21:01:10.609440Z",
     "start_time": "2023-03-07T21:01:09.943723Z"
    }
   },
   "outputs": [],
   "source": [
    "plt.figure()\n",
    "_ = plt.hist(tof_ns*1e-6, 1700)\n",
    "plt.xlabel(\"time-of-flight (ms)\")"
   ]
  },
  {
   "cell_type": "code",
   "execution_count": null,
   "id": "726e331d",
   "metadata": {},
   "outputs": [],
   "source": []
  }
 ],
 "metadata": {
  "kernelspec": {
   "display_name": "Python 3",
   "language": "python",
   "name": "python3"
  },
  "language_info": {
   "codemirror_mode": {
    "name": "ipython",
    "version": 3
   },
   "file_extension": ".py",
   "mimetype": "text/x-python",
   "name": "python",
   "nbconvert_exporter": "python",
   "pygments_lexer": "ipython3",
   "version": "3.7.16"
  }
 },
 "nbformat": 4,
 "nbformat_minor": 5
}
