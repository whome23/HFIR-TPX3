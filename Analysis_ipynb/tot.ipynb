{
 "cells": [
  {
   "cell_type": "code",
   "execution_count": 1,
   "id": "25a2949f",
   "metadata": {
    "ExecuteTime": {
     "end_time": "2023-03-06T17:00:25.769264Z",
     "start_time": "2023-03-06T17:00:25.453388Z"
    }
   },
   "outputs": [],
   "source": [
    "# %matplotlib ipympl\n",
    "import h5py \n",
    "import numpy as np \n",
    "import matplotlib.pyplot as plt \n",
    "import sys\n",
    "import nexusformat.nexus as nx\n",
    "from matplotlib.colors import LogNorm"
   ]
  },
  {
   "cell_type": "code",
   "execution_count": 2,
   "id": "30579760",
   "metadata": {},
   "outputs": [],
   "source": [
    "# neutron events\n",
    "neutron_events = \"/Users/fumiaki/Documents/ORNL/Research/PTX3_Analysis/Data/0p3thickness/With_mount/Neutron_with_star_target/frames_000000.h5\"\n",
    "# neutron_events_nhit_more_30 = \"/Users/fumiaki/Documents/ORNL/Research/PTX3_Analysis/Data/0p3thickness/Neutron/nhitmorethan30.h5\"\n",
    "\n",
    "\n",
    "# #Co event\n",
    "# Co_events_nhit_more_30 = \"/Users/fumiaki/Documents/ORNL/Research/PTX3_Analysis/Data/0p3thickness/Co60/Co_nhit_morethan30.h5\"\n",
    "# Co_events_nhit_more_1 = \"/Users/fumiaki/Documents/ORNL/Research/PTX3_Analysis/Data/0p3thickness/Co60/Co_nhit_morethan1.h5\"\n",
    "\n",
    "# # Back ground\n",
    "# Back_events_nhit_more_30 = \"/Users/fumiaki/Documents/ORNL/Research/PTX3_Analysis/Data/0p3thickness/Background/Background_nhit_morethan30.h5\"\n",
    "# Back_events_nhit_more_1 = \"/Users/fumiaki/Documents/ORNL/Research/PTX3_Analysis/Data/0p3thickness/Background/Background_nhit_morethan1.h5\"\n",
    "\n",
    "\n",
    "# # Cs event\n",
    "# Cs_events_nhit_more_30 =\"/Users/fumiaki/Documents/ORNL/Research/PTX3_Analysis/Data/0p3thickness/Cs137/Cs_nhits_morethan30.h5\"\n",
    "# Cs_events_nhit_more_1=\"/Users/fumiaki/Documents/ORNL/Research/PTX3_Analysis/Data/0p3thickness/Cs137/Cs_nhits_morethan1.h5\"\n",
    "\n",
    "# # Am event\n",
    "# Am_events_nhit_more_30=\"/Users/fumiaki/Documents/ORNL/Research/PTX3_Analysis/Data/0p3thickness/Am/Am_nhit_morethan30.h5\"\n",
    "# Am_events_nhit_more_1=\"/Users/fumiaki/Documents/ORNL/Research/PTX3_Analysis/Data/0p3thickness/Am/Am_nhit_morethan1.h5\"\n",
    "\n",
    "# # After grow\n",
    "# Aftergrow_events_nhit_more_30 = \"/Users/fumiaki/Documents/ORNL/Research/PTX3_Analysis/Data/0p3thickness/aftergrow/aftergrow_nhit_morethan30.h5\"\n",
    "# Aftergrow_events_nhit_more_1 = \"/Users/fumiaki/Documents/ORNL/Research/PTX3_Analysis/Data/0p3thickness/aftergrow/aftergrow_nhit_morethan1.h5\"\n",
    "\n",
    "\n",
    "# 0.3 mmthick\n",
    "#Co event\n",
    "# Co_events_1 = \"/Users/fumiaki/Documents/ORNL/Research/Sophyread/mcpevent2hist-main/sophiread/build/data/0p3thickness/Co60/Co60_events.h5\"\n",
    "\n",
    "\n",
    "# Cs event\n",
    "# filename_events_3 = \"/Users/fumiaki/Documents/ORNL/Research/Sophyread/mcpevent2hist-main/sophiread/build/data/0p3thickness/Cs137/Cs137_events.h5\"\n",
    "\n",
    "# Am event\n",
    "# filename_events_4 = \"/Users/fumiaki/Documents/ORNL/Research/Sophyread/mcpevent2hist-main/sophiread/build/data/0p3thickness/Am/Am_events.h5\"\n",
    "\n",
    "# # neutron events\n",
    "# filename_events = \"/Users/fumiaki/Documents/ORNL/Research/PTX3_Analysis/Data/0p3thickness/Neutron/neutron.h5\"\n",
    "# # previous one\n",
    "# filename_events_1 = \"/Users/fumiaki/Documents/ORNL/Research/PTX3_Analysis/Data/0p3thickness/Neutron/neutron_spi_50000ns.h5\"\n",
    "\n",
    "# filename_events_2 = \"/Users/fumiaki/Documents/ORNL/Research/PTX3_Analysis/Data/0p3thickness/Neutron/neutron_spi_5000ns.h5\"\n",
    "\n",
    "# Background (Put scinti in 16 hours in light tight box)\n",
    "# filename_events_5=\"/Users/fumiaki/Documents/ORNL/Research/Sophyread/mcpevent2hist-main/sophiread/build/data/0p3thickness/Background/background.h5\"\n",
    "\n",
    "\n",
    "\n",
    "\n",
    "\n",
    "\n",
    "\n",
    "\n",
    "# f = nx.nxload(filename_events)\n",
    "# print(f.tree)\n",
    "\n",
    "# ff = nx.nxload(filename_hits)\n",
    "# print(ff.tree)"
   ]
  },
  {
   "cell_type": "code",
   "execution_count": 19,
   "id": "253cd3d2",
   "metadata": {},
   "outputs": [],
   "source": [
    "# with h5py.File(filename_hits) as h5f:\n",
    "# #     x = h5f[\"hits/x\"][:]\n",
    "# #     y = h5f[\"hits/y\"][:]\n",
    "# #     tof_ns = h5f[\"hits/tof_ns\"][:]\n",
    "#     labels = h5f[\"hits/labels\"][:]\n",
    "#     spidertime_ns = h5f[\"hits/spidertime_ns\"][:]"
   ]
  },
  {
   "cell_type": "code",
   "execution_count": 20,
   "id": "3f947247",
   "metadata": {},
   "outputs": [
    {
     "name": "stderr",
     "output_type": "stream",
     "text": [
      "/Users/fumiaki/opt/anaconda3/lib/python3.7/site-packages/ipykernel_launcher.py:1: H5pyDeprecationWarning: The default file mode will change to 'r' (read-only) in h5py 3.0. To suppress this warning, pass the mode you need to h5py.File(), or set the global default h5.get_config().default_file_mode, or set the environment variable H5PY_DEFAULT_READONLY=1. Available modes are: 'r', 'r+', 'w', 'w-'/'x', 'a'. See the docs for details.\n",
      "  \"\"\"Entry point for launching an IPython kernel.\n"
     ]
    }
   ],
   "source": [
    "with h5py.File(Co_events_nhit_more_1) as h5f:\n",
    "#     x = h5f[\"events/x\"][:]\n",
    "#     y = h5f[\"events/y\"][:]\n",
    "    tot_Co_events_nhit_more_1 = h5f[\"events/tot\"][:]\n",
    "#     nhits = h5f[\"events/NHits\"][:]\n",
    "\n",
    "# with h5py.File(Co_events_nhit_more_30) as h5f:\n",
    "# #     x = h5f[\"events/x\"][:]\n",
    "# #     y = h5f[\"events/y\"][:]\n",
    "#     tot_Co_events_nhit_more_1 = h5f[\"events/tot\"][:]\n",
    "# #     nhits = h5f[\"events/NHits\"][:]\n"
   ]
  },
  {
   "cell_type": "code",
   "execution_count": 21,
   "id": "ef57d4b7",
   "metadata": {},
   "outputs": [
    {
     "name": "stderr",
     "output_type": "stream",
     "text": [
      "/Users/fumiaki/opt/anaconda3/lib/python3.7/site-packages/ipykernel_launcher.py:1: H5pyDeprecationWarning: The default file mode will change to 'r' (read-only) in h5py 3.0. To suppress this warning, pass the mode you need to h5py.File(), or set the global default h5.get_config().default_file_mode, or set the environment variable H5PY_DEFAULT_READONLY=1. Available modes are: 'r', 'r+', 'w', 'w-'/'x', 'a'. See the docs for details.\n",
      "  \"\"\"Entry point for launching an IPython kernel.\n"
     ]
    }
   ],
   "source": [
    "with h5py.File(Co_events_nhit_more_30) as h5f:\n",
    "#     x = h5f[\"events/x\"][:]\n",
    "#     y = h5f[\"events/y\"][:]\n",
    "    Co_events_nhit_more_30 = h5f[\"events/tot\"][:]\n",
    "#     nhits = h5f[\"events/NHits\"][:]"
   ]
  },
  {
   "cell_type": "code",
   "execution_count": 33,
   "id": "bf305543",
   "metadata": {},
   "outputs": [
    {
     "name": "stderr",
     "output_type": "stream",
     "text": [
      "/Users/fumiaki/opt/anaconda3/lib/python3.7/site-packages/ipykernel_launcher.py:1: H5pyDeprecationWarning: The default file mode will change to 'r' (read-only) in h5py 3.0. To suppress this warning, pass the mode you need to h5py.File(), or set the global default h5.get_config().default_file_mode, or set the environment variable H5PY_DEFAULT_READONLY=1. Available modes are: 'r', 'r+', 'w', 'w-'/'x', 'a'. See the docs for details.\n",
      "  \"\"\"Entry point for launching an IPython kernel.\n",
      "/Users/fumiaki/opt/anaconda3/lib/python3.7/site-packages/ipykernel_launcher.py:6: H5pyDeprecationWarning: The default file mode will change to 'r' (read-only) in h5py 3.0. To suppress this warning, pass the mode you need to h5py.File(), or set the global default h5.get_config().default_file_mode, or set the environment variable H5PY_DEFAULT_READONLY=1. Available modes are: 'r', 'r+', 'w', 'w-'/'x', 'a'. See the docs for details.\n",
      "  \n"
     ]
    }
   ],
   "source": [
    "with h5py.File(Am_events_nhit_more_1) as h5f:\n",
    "#     x = h5f[\"events/x\"][:]\n",
    "#     y = h5f[\"events/y\"][:]\n",
    "    tot_Am_nhit_more_1 = h5f[\"events/tot\"][:]\n",
    "\n",
    "with h5py.File(Am_events_nhit_more_30) as h5f:\n",
    "#     x = h5f[\"events/x\"][:]\n",
    "#     y = h5f[\"events/y\"][:]\n",
    "    tot_Am_nhit_more_30 = h5f[\"events/tot\"][:]"
   ]
  },
  {
   "cell_type": "code",
   "execution_count": 23,
   "id": "be8dfb0b",
   "metadata": {},
   "outputs": [
    {
     "name": "stderr",
     "output_type": "stream",
     "text": [
      "/Users/fumiaki/opt/anaconda3/lib/python3.7/site-packages/ipykernel_launcher.py:1: H5pyDeprecationWarning: The default file mode will change to 'r' (read-only) in h5py 3.0. To suppress this warning, pass the mode you need to h5py.File(), or set the global default h5.get_config().default_file_mode, or set the environment variable H5PY_DEFAULT_READONLY=1. Available modes are: 'r', 'r+', 'w', 'w-'/'x', 'a'. See the docs for details.\n",
      "  \"\"\"Entry point for launching an IPython kernel.\n",
      "/Users/fumiaki/opt/anaconda3/lib/python3.7/site-packages/ipykernel_launcher.py:6: H5pyDeprecationWarning: The default file mode will change to 'r' (read-only) in h5py 3.0. To suppress this warning, pass the mode you need to h5py.File(), or set the global default h5.get_config().default_file_mode, or set the environment variable H5PY_DEFAULT_READONLY=1. Available modes are: 'r', 'r+', 'w', 'w-'/'x', 'a'. See the docs for details.\n",
      "  \n"
     ]
    }
   ],
   "source": [
    "with h5py.File(Aftergrow_events_nhit_more_1) as h5f:\n",
    "#     x = h5f[\"events/x\"][:]\n",
    "#     y = h5f[\"events/y\"][:]\n",
    "    tot_Aftergrow_nhit_more_1 = h5f[\"events/tot\"][:]\n",
    "\n",
    "with h5py.File(Aftergrow_events_nhit_more_30) as h5f:\n",
    "#     x = h5f[\"events/x\"][:]\n",
    "#     y = h5f[\"events/y\"][:]\n",
    "    tot_Aftergrow_nhit_more_30 = h5f[\"events/tot\"][:]"
   ]
  },
  {
   "cell_type": "code",
   "execution_count": 3,
   "id": "153daa67",
   "metadata": {},
   "outputs": [
    {
     "name": "stderr",
     "output_type": "stream",
     "text": [
      "/Users/fumiaki/opt/anaconda3/lib/python3.7/site-packages/ipykernel_launcher.py:1: H5pyDeprecationWarning: The default file mode will change to 'r' (read-only) in h5py 3.0. To suppress this warning, pass the mode you need to h5py.File(), or set the global default h5.get_config().default_file_mode, or set the environment variable H5PY_DEFAULT_READONLY=1. Available modes are: 'r', 'r+', 'w', 'w-'/'x', 'a'. See the docs for details.\n",
      "  \"\"\"Entry point for launching an IPython kernel.\n"
     ]
    }
   ],
   "source": [
    "with h5py.File(neutron_events) as h5f:\n",
    "#     x = h5f[\"events/x\"][:]\n",
    "#     y = h5f[\"events/y\"][:]\n",
    "    tot_neutron_event = h5f[\"events/tot\"][:]"
   ]
  },
  {
   "cell_type": "code",
   "execution_count": 25,
   "id": "cb12aa76",
   "metadata": {},
   "outputs": [
    {
     "name": "stderr",
     "output_type": "stream",
     "text": [
      "/Users/fumiaki/opt/anaconda3/lib/python3.7/site-packages/ipykernel_launcher.py:1: H5pyDeprecationWarning: The default file mode will change to 'r' (read-only) in h5py 3.0. To suppress this warning, pass the mode you need to h5py.File(), or set the global default h5.get_config().default_file_mode, or set the environment variable H5PY_DEFAULT_READONLY=1. Available modes are: 'r', 'r+', 'w', 'w-'/'x', 'a'. See the docs for details.\n",
      "  \"\"\"Entry point for launching an IPython kernel.\n"
     ]
    }
   ],
   "source": [
    "with h5py.File(neutron_events_nhit_more_30) as h5f:\n",
    "#     x = h5f[\"events/x\"][:]\n",
    "#     y = h5f[\"events/y\"][:]\n",
    "    tot_neutron_events_nhit_more_30 = h5f[\"events/tot\"][:]"
   ]
  },
  {
   "cell_type": "code",
   "execution_count": 26,
   "id": "bc738bc4",
   "metadata": {},
   "outputs": [
    {
     "name": "stderr",
     "output_type": "stream",
     "text": [
      "/Users/fumiaki/opt/anaconda3/lib/python3.7/site-packages/ipykernel_launcher.py:1: H5pyDeprecationWarning: The default file mode will change to 'r' (read-only) in h5py 3.0. To suppress this warning, pass the mode you need to h5py.File(), or set the global default h5.get_config().default_file_mode, or set the environment variable H5PY_DEFAULT_READONLY=1. Available modes are: 'r', 'r+', 'w', 'w-'/'x', 'a'. See the docs for details.\n",
      "  \"\"\"Entry point for launching an IPython kernel.\n",
      "/Users/fumiaki/opt/anaconda3/lib/python3.7/site-packages/ipykernel_launcher.py:6: H5pyDeprecationWarning: The default file mode will change to 'r' (read-only) in h5py 3.0. To suppress this warning, pass the mode you need to h5py.File(), or set the global default h5.get_config().default_file_mode, or set the environment variable H5PY_DEFAULT_READONLY=1. Available modes are: 'r', 'r+', 'w', 'w-'/'x', 'a'. See the docs for details.\n",
      "  \n"
     ]
    }
   ],
   "source": [
    "with h5py.File(Cs_events_nhit_more_30) as h5f:\n",
    "#     x = h5f[\"events/x\"][:]\n",
    "#     y = h5f[\"events/y\"][:]\n",
    "    tot_Cs_events_nhit_more_30  = h5f[\"events/tot\"][:]\n",
    "    \n",
    "with h5py.File(Cs_events_nhit_more_1) as h5f:\n",
    "#     x = h5f[\"events/x\"][:]\n",
    "#     y = h5f[\"events/y\"][:]\n",
    "    tot_Cs_events_nhit_more_1  = h5f[\"events/tot\"][:]"
   ]
  },
  {
   "cell_type": "code",
   "execution_count": 27,
   "id": "5c0e90a4",
   "metadata": {},
   "outputs": [
    {
     "ename": "NameError",
     "evalue": "name 'Am_events' is not defined",
     "output_type": "error",
     "traceback": [
      "\u001b[0;31m---------------------------------------------------------------------------\u001b[0m",
      "\u001b[0;31mNameError\u001b[0m                                 Traceback (most recent call last)",
      "\u001b[0;32m<ipython-input-27-a1bd31bf1869>\u001b[0m in \u001b[0;36m<module>\u001b[0;34m\u001b[0m\n\u001b[0;32m----> 1\u001b[0;31m \u001b[0;32mwith\u001b[0m \u001b[0mh5py\u001b[0m\u001b[0;34m.\u001b[0m\u001b[0mFile\u001b[0m\u001b[0;34m(\u001b[0m\u001b[0mAm_events\u001b[0m\u001b[0;34m)\u001b[0m \u001b[0;32mas\u001b[0m \u001b[0mh5f\u001b[0m\u001b[0;34m:\u001b[0m\u001b[0;34m\u001b[0m\u001b[0;34m\u001b[0m\u001b[0m\n\u001b[0m\u001b[1;32m      2\u001b[0m \u001b[0;31m#     x = h5f[\"events/x\"][:]\u001b[0m\u001b[0;34m\u001b[0m\u001b[0;34m\u001b[0m\u001b[0;34m\u001b[0m\u001b[0m\n\u001b[1;32m      3\u001b[0m \u001b[0;31m#     y = h5f[\"events/y\"][:]\u001b[0m\u001b[0;34m\u001b[0m\u001b[0;34m\u001b[0m\u001b[0;34m\u001b[0m\u001b[0m\n\u001b[1;32m      4\u001b[0m     \u001b[0mtot_Am_events\u001b[0m \u001b[0;34m=\u001b[0m \u001b[0mh5f\u001b[0m\u001b[0;34m[\u001b[0m\u001b[0;34m\"events/tot\"\u001b[0m\u001b[0;34m]\u001b[0m\u001b[0;34m[\u001b[0m\u001b[0;34m:\u001b[0m\u001b[0;34m]\u001b[0m\u001b[0;34m\u001b[0m\u001b[0;34m\u001b[0m\u001b[0m\n",
      "\u001b[0;31mNameError\u001b[0m: name 'Am_events' is not defined"
     ]
    }
   ],
   "source": [
    "with h5py.File(Am_events) as h5f:\n",
    "#     x = h5f[\"events/x\"][:]\n",
    "#     y = h5f[\"events/y\"][:]\n",
    "    tot_Am_events = h5f[\"events/tot\"][:]"
   ]
  },
  {
   "cell_type": "code",
   "execution_count": 28,
   "id": "ed713c1c",
   "metadata": {},
   "outputs": [
    {
     "name": "stderr",
     "output_type": "stream",
     "text": [
      "/Users/fumiaki/opt/anaconda3/lib/python3.7/site-packages/ipykernel_launcher.py:1: H5pyDeprecationWarning: The default file mode will change to 'r' (read-only) in h5py 3.0. To suppress this warning, pass the mode you need to h5py.File(), or set the global default h5.get_config().default_file_mode, or set the environment variable H5PY_DEFAULT_READONLY=1. Available modes are: 'r', 'r+', 'w', 'w-'/'x', 'a'. See the docs for details.\n",
      "  \"\"\"Entry point for launching an IPython kernel.\n"
     ]
    }
   ],
   "source": [
    "with h5py.File(Co_events_nhit_more_1 ) as h5f:\n",
    "#     x = h5f[\"events/x\"][:]\n",
    "#     y = h5f[\"events/y\"][:]\n",
    "    tot_Co_events_nhit_more1 = h5f[\"events/tot\"][:]"
   ]
  },
  {
   "cell_type": "code",
   "execution_count": 29,
   "id": "1be6f3e8",
   "metadata": {},
   "outputs": [
    {
     "ename": "NameError",
     "evalue": "name 'Co_events' is not defined",
     "output_type": "error",
     "traceback": [
      "\u001b[0;31m---------------------------------------------------------------------------\u001b[0m",
      "\u001b[0;31mNameError\u001b[0m                                 Traceback (most recent call last)",
      "\u001b[0;32m<ipython-input-29-fb9141065128>\u001b[0m in \u001b[0;36m<module>\u001b[0;34m\u001b[0m\n\u001b[0;32m----> 1\u001b[0;31m \u001b[0;32mwith\u001b[0m \u001b[0mh5py\u001b[0m\u001b[0;34m.\u001b[0m\u001b[0mFile\u001b[0m\u001b[0;34m(\u001b[0m\u001b[0mCo_events\u001b[0m\u001b[0;34m)\u001b[0m \u001b[0;32mas\u001b[0m \u001b[0mh5f\u001b[0m\u001b[0;34m:\u001b[0m\u001b[0;34m\u001b[0m\u001b[0;34m\u001b[0m\u001b[0m\n\u001b[0m\u001b[1;32m      2\u001b[0m \u001b[0;31m#     x = h5f[\"events/x\"][:]\u001b[0m\u001b[0;34m\u001b[0m\u001b[0;34m\u001b[0m\u001b[0;34m\u001b[0m\u001b[0m\n\u001b[1;32m      3\u001b[0m \u001b[0;31m#     y = h5f[\"events/y\"][:]\u001b[0m\u001b[0;34m\u001b[0m\u001b[0;34m\u001b[0m\u001b[0;34m\u001b[0m\u001b[0m\n\u001b[1;32m      4\u001b[0m     \u001b[0mtot_Co_events\u001b[0m \u001b[0;34m=\u001b[0m \u001b[0mh5f\u001b[0m\u001b[0;34m[\u001b[0m\u001b[0;34m\"events/tot\"\u001b[0m\u001b[0;34m]\u001b[0m\u001b[0;34m[\u001b[0m\u001b[0;34m:\u001b[0m\u001b[0;34m]\u001b[0m\u001b[0;34m\u001b[0m\u001b[0;34m\u001b[0m\u001b[0m\n",
      "\u001b[0;31mNameError\u001b[0m: name 'Co_events' is not defined"
     ]
    }
   ],
   "source": [
    "with h5py.File(Co_events) as h5f:\n",
    "#     x = h5f[\"events/x\"][:]\n",
    "#     y = h5f[\"events/y\"][:]\n",
    "    tot_Co_events = h5f[\"events/tot\"][:]"
   ]
  },
  {
   "cell_type": "code",
   "execution_count": 40,
   "id": "e55ec169",
   "metadata": {
    "ExecuteTime": {
     "end_time": "2023-03-06T20:26:10.110593Z",
     "start_time": "2023-03-06T20:26:10.055483Z"
    },
    "scrolled": false
   },
   "outputs": [
    {
     "name": "stderr",
     "output_type": "stream",
     "text": [
      "/Users/fumiaki/opt/anaconda3/lib/python3.7/site-packages/ipykernel_launcher.py:1: H5pyDeprecationWarning: The default file mode will change to 'r' (read-only) in h5py 3.0. To suppress this warning, pass the mode you need to h5py.File(), or set the global default h5.get_config().default_file_mode, or set the environment variable H5PY_DEFAULT_READONLY=1. Available modes are: 'r', 'r+', 'w', 'w-'/'x', 'a'. See the docs for details.\n",
      "  \"\"\"Entry point for launching an IPython kernel.\n",
      "/Users/fumiaki/opt/anaconda3/lib/python3.7/site-packages/ipykernel_launcher.py:7: H5pyDeprecationWarning: The default file mode will change to 'r' (read-only) in h5py 3.0. To suppress this warning, pass the mode you need to h5py.File(), or set the global default h5.get_config().default_file_mode, or set the environment variable H5PY_DEFAULT_READONLY=1. Available modes are: 'r', 'r+', 'w', 'w-'/'x', 'a'. See the docs for details.\n",
      "  import sys\n"
     ]
    }
   ],
   "source": [
    "with h5py.File(Back_events_nhit_more_30) as h5f:\n",
    "#     x = h5f[\"events/x\"][:]\n",
    "#     y = h5f[\"events/y\"][:]\n",
    "    tot_Back_events_nhit_more_30 = h5f[\"events/tot\"][:]\n",
    "#     nhits = h5f[\"events/NHits\"][:]\n",
    "\n",
    "with h5py.File(Back_events_nhit_more_1) as h5f:\n",
    "#     x = h5f[\"events/x\"][:]\n",
    "#     y = h5f[\"events/y\"][:]\n",
    "    tot_Back_events_nhit_more_1 = h5f[\"events/tot\"][:]"
   ]
  },
  {
   "cell_type": "code",
   "execution_count": 5,
   "id": "70f220aa",
   "metadata": {},
   "outputs": [
    {
     "data": {
      "text/plain": [
       "Text(0.5, 0, 'TOT')"
      ]
     },
     "execution_count": 5,
     "metadata": {},
     "output_type": "execute_result"
    },
    {
     "data": {
      "image/png": "[encoded data removed]",
      "text/plain": [
       "<Figure size 432x288 with 1 Axes>"
      ]
     },
     "metadata": {
      "needs_background": "light"
     },
     "output_type": "display_data"
    }
   ],
   "source": [
    "plt.figure()\n",
    "_ = plt.hist(tot_neutron_event, 1500,range=[0, 1500],alpha = 0.2, label='Neutron(nhit>30)' )\n",
    "# _ = plt.hist(tot_neutron_events_nhit_more_30, 1500,range=[0, 1500],alpha = 0.2, label='Neutron(nhit>30)' )\n",
    "# _ = plt.hist(tot_Cs_events_nhit_more_1, 1500,range=[0, 1500],alpha = 0.2, label='Cs137(nhit>1)' )\n",
    "# _ = plt.hist(tot_Cs_events_nhit_more_30, 1500,range=[0, 1500],alpha = 0.5, label='Cs137(nhit>30)' )\n",
    "\n",
    "\n",
    "# _ = plt.hist(tot_Am_events, 1500,range=[0, 1500],alpha = 0.5, label='Am' )\n",
    "# _ = plt.hist(tot_Aftergrow_events, 1500,range=[0, 1500],alpha = 0.3, label='After glow' )\n",
    "# _ = plt.hist(tot_Back_events, 1500,range=[0, 1500],alpha = 0.3, label='Background')\n",
    "# _ = plt.hist(nhits_5, 120,range=[0, 120],alpha = 0.3, label='After glow(16 h later)' )\n",
    "\n",
    "plt.yscale('log', nonposy='clip')\n",
    "plt.legend(loc='upper right')\n",
    "plt.xlabel(\"TOT\")"
   ]
  },
  {
   "cell_type": "code",
   "execution_count": 39,
   "id": "05c1b28d",
   "metadata": {},
   "outputs": [
    {
     "data": {
      "text/plain": [
       "Text(0.5, 0, 'TOT')"
      ]
     },
     "execution_count": 39,
     "metadata": {},
     "output_type": "execute_result"
    },
    {
     "data": {
      "image/png": "[encoded data removed]",
      "text/plain": [
       "<Figure size 432x288 with 1 Axes>"
      ]
     },
     "metadata": {
      "needs_background": "light"
     },
     "output_type": "display_data"
    }
   ],
   "source": [
    "plt.figure()\n",
    "_ = plt.hist(tot_neutron_event, 1500,range=[0, 1500],alpha = 0.2, label='Neutron(nhit>1)' )\n",
    "_ = plt.hist(tot_neutron_events_nhit_more_30, 1500,range=[0, 1500],alpha = 0.2, label='Neutron(nhit>30)' )\n",
    "_ = plt.hist(tot_Aftergrow_nhit_more_1, 1500,range=[0, 1500],alpha = 0.2, label='After grow(nhit>1)' )\n",
    "_ = plt.hist(tot_Aftergrow_nhit_more_30, 1500,range=[0, 1500],alpha = 0.5, label='After grow(nhit>30)' )\n",
    "\n",
    "\n",
    "# _ = plt.hist(tot_Am_events, 1500,range=[0, 1500],alpha = 0.5, label='Am' )\n",
    "# _ = plt.hist(tot_Aftergrow_events, 1500,range=[0, 1500],alpha = 0.3, label='After glow' )\n",
    "# _ = plt.hist(tot_Back_events, 1500,range=[0, 1500],alpha = 0.3, label='Background')\n",
    "# _ = plt.hist(nhits_5, 120,range=[0, 120],alpha = 0.3, label='After glow(16 h later)' )\n",
    "\n",
    "plt.yscale('log', nonposy='clip')\n",
    "plt.legend(loc='upper right')\n",
    "plt.xlabel(\"TOT\")"
   ]
  },
  {
   "cell_type": "code",
   "execution_count": 41,
   "id": "fdbcecee",
   "metadata": {},
   "outputs": [
    {
     "data": {
      "text/plain": [
       "Text(0.5, 0, 'TOT')"
      ]
     },
     "execution_count": 41,
     "metadata": {},
     "output_type": "execute_result"
    },
    {
     "data": {
      "image/png": "[encoded data removed]",
      "text/plain": [
       "<Figure size 432x288 with 1 Axes>"
      ]
     },
     "metadata": {
      "needs_background": "light"
     },
     "output_type": "display_data"
    }
   ],
   "source": [
    "plt.figure()\n",
    "_ = plt.hist(tot_neutron_event, 1500,range=[0, 1500],alpha = 0.2, label='Neutron(nhit>1)' )\n",
    "_ = plt.hist(tot_neutron_events_nhit_more_30, 1500,range=[0, 1500],alpha = 0.2, label='Neutron(nhit>30)' )\n",
    "_ = plt.hist(tot_Back_events_nhit_more_1, 1500,range=[0, 1500],alpha = 0.2, label='Background(nhit>1)' )\n",
    "_ = plt.hist(tot_Back_events_nhit_more_30, 1500,range=[0, 1500],alpha = 0.5, label='Background(nhit>30)' )\n",
    "\n",
    "\n",
    "# _ = plt.hist(tot_Am_events, 1500,range=[0, 1500],alpha = 0.5, label='Am' )\n",
    "# _ = plt.hist(tot_Aftergrow_events, 1500,range=[0, 1500],alpha = 0.3, label='After glow' )\n",
    "# _ = plt.hist(tot_Back_events, 1500,range=[0, 1500],alpha = 0.3, label='Background')\n",
    "# _ = plt.hist(nhits_5, 120,range=[0, 120],alpha = 0.3, label='After glow(16 h later)' )\n",
    "\n",
    "plt.yscale('log', nonposy='clip')\n",
    "plt.legend(loc='upper right')\n",
    "plt.xlabel(\"TOT\")"
   ]
  },
  {
   "cell_type": "code",
   "execution_count": 34,
   "id": "a98fdd3b",
   "metadata": {},
   "outputs": [
    {
     "data": {
      "text/plain": [
       "Text(0.5, 0, 'TOT')"
      ]
     },
     "execution_count": 34,
     "metadata": {},
     "output_type": "execute_result"
    },
    {
     "data": {
      "image/png": "[encoded data removed]",
      "text/plain": [
       "<Figure size 432x288 with 1 Axes>"
      ]
     },
     "metadata": {
      "needs_background": "light"
     },
     "output_type": "display_data"
    }
   ],
   "source": [
    "plt.figure()\n",
    "_ = plt.hist(tot_neutron_event, 1500,range=[0, 1500],alpha = 0.2, label='Neutron(nhit>1)' )\n",
    "_ = plt.hist(tot_neutron_events_nhit_more_30, 1500,range=[0, 1500],alpha = 0.2, label='Neutron(nhit>30)' )\n",
    "_ = plt.hist(tot_Am_nhit_more_1 , 1500,range=[0, 1500],alpha = 0.2, label='Am(nhit>1)' )\n",
    "_ = plt.hist(tot_Am_nhit_more_30, 1500,range=[0, 1500],alpha = 0.5, label='Am(nhit>30)' )\n",
    "\n",
    "\n",
    "# _ = plt.hist(tot_Am_events, 1500,range=[0, 1500],alpha = 0.5, label='Am' )\n",
    "# _ = plt.hist(tot_Aftergrow_events, 1500,range=[0, 1500],alpha = 0.3, label='After glow' )\n",
    "# _ = plt.hist(tot_Back_events, 1500,range=[0, 1500],alpha = 0.3, label='Background')\n",
    "# _ = plt.hist(nhits_5, 120,range=[0, 120],alpha = 0.3, label='After glow(16 h later)' )\n",
    "\n",
    "plt.yscale('log', nonposy='clip')\n",
    "plt.legend(loc='upper right')\n",
    "plt.xlabel(\"TOT\")"
   ]
  },
  {
   "cell_type": "code",
   "execution_count": 32,
   "id": "b838e9e0",
   "metadata": {},
   "outputs": [
    {
     "data": {
      "text/plain": [
       "Text(0.5, 0, 'TOT')"
      ]
     },
     "execution_count": 32,
     "metadata": {},
     "output_type": "execute_result"
    },
    {
     "data": {
      "image/png": "[encoded data removed]",
      "text/plain": [
       "<Figure size 432x288 with 1 Axes>"
      ]
     },
     "metadata": {
      "needs_background": "light"
     },
     "output_type": "display_data"
    }
   ],
   "source": [
    "plt.figure()\n",
    "_ = plt.hist(tot_neutron_event, 1500,range=[0, 1500],alpha = 0.2, label='Neutron(nhit>1)' )\n",
    "_ = plt.hist(tot_neutron_events_nhit_more_30, 1500,range=[0, 1500],alpha = 0.2, label='Neutron(nhit>30)' )\n",
    "_ = plt.hist(tot_Co_events_nhit_more1, 1500,range=[0, 1500],alpha = 0.2, label='Co60(nhit>1)' )\n",
    "_ = plt.hist(Co_events_nhit_more_30, 1500,range=[0, 1500],alpha = 0.5, label='Co60(nhit>30)' )\n",
    "\n",
    "\n",
    "# _ = plt.hist(tot_Am_events, 1500,range=[0, 1500],alpha = 0.5, label='Am' )\n",
    "# _ = plt.hist(tot_Aftergrow_events, 1500,range=[0, 1500],alpha = 0.3, label='After glow' )\n",
    "# _ = plt.hist(tot_Back_events, 1500,range=[0, 1500],alpha = 0.3, label='Background')\n",
    "# _ = plt.hist(nhits_5, 120,range=[0, 120],alpha = 0.3, label='After glow(16 h later)' )\n",
    "\n",
    "plt.yscale('log', nonposy='clip')\n",
    "plt.legend(loc='upper right')\n",
    "plt.xlabel(\"TOT\")"
   ]
  },
  {
   "cell_type": "code",
   "execution_count": null,
   "id": "175417eb",
   "metadata": {},
   "outputs": [],
   "source": [
    "plt.figure()\n",
    "_ = plt.hist2d(nhits, tot, bins=150, range=np.array([(0, 150), (0, 2500)]),norm=LogNorm())\n",
    "plt.colorbar()\n",
    "# ax.set_ylabel('Y')\n",
    "# plt.yscale('log', nonposy='clip')\n",
    "# plt.legend(loc='upper right')\n",
    "plt.xlabel(\"nhits\")\n",
    "plt.ylabel(\"TOT\")"
   ]
  },
  {
   "cell_type": "code",
   "execution_count": null,
   "id": "d095c1ba",
   "metadata": {},
   "outputs": [],
   "source": [
    "with h5py.File(filename_events_1) as h5f:\n",
    "#     x = h5f[\"events/x\"][:]\n",
    "#     y = h5f[\"events/y\"][:]\n",
    "#     tof_ns = h5f[\"events/tof_ns\"][:]\n",
    "    nhits_1 = h5f[\"events/NHits\"][:]"
   ]
  },
  {
   "cell_type": "code",
   "execution_count": null,
   "id": "9e1a4ac1",
   "metadata": {},
   "outputs": [],
   "source": [
    "with h5py.File(filename_events_5) as h5f:\n",
    "#     x = h5f[\"events/x\"][:]\n",
    "#     y = h5f[\"events/y\"][:]\n",
    "#     tof_ns = h5f[\"events/tof_ns\"][:]\n",
    "    nhits_5 = h5f[\"events/NHits\"][:]"
   ]
  },
  {
   "cell_type": "code",
   "execution_count": null,
   "id": "acfcd2dc",
   "metadata": {},
   "outputs": [],
   "source": [
    "with h5py.File(filename_events_2) as h5f:\n",
    "#     x = h5f[\"events/x\"][:]\n",
    "#     y = h5f[\"events/y\"][:]\n",
    "#     tof_ns = h5f[\"events/tof_ns\"][:]\n",
    "    nhits_2 = h5f[\"events/NHits\"][:]"
   ]
  },
  {
   "cell_type": "code",
   "execution_count": null,
   "id": "f1cbcbea",
   "metadata": {
    "scrolled": true
   },
   "outputs": [],
   "source": [
    "with h5py.File(filename_events_3) as h5f:\n",
    "#     x = h5f[\"events/x\"][:]\n",
    "#     y = h5f[\"events/y\"][:]\n",
    "#     tof_ns = h5f[\"events/tof_ns\"][:]\n",
    "    nhits_3 = h5f[\"events/NHits\"][:]"
   ]
  },
  {
   "cell_type": "code",
   "execution_count": null,
   "id": "a021f497",
   "metadata": {},
   "outputs": [],
   "source": [
    "with h5py.File(filename_events_4) as h5f:\n",
    "#     x = h5f[\"events/x\"][:]\n",
    "#     y = h5f[\"events/y\"][:]\n",
    "#     tof_ns = h5f[\"events/tof_ns\"][:]\n",
    "    nhits_4 = h5f[\"events/NHits\"][:]"
   ]
  },
  {
   "cell_type": "code",
   "execution_count": null,
   "id": "9772a5ac",
   "metadata": {},
   "outputs": [],
   "source": [
    "plt.figure()\n",
    "_ = plt.hist(nhits, 150,range=[0, 150],alpha = 0.5, label='Neutron: Spider time 500000 ns' )\n",
    "_ = plt.hist(nhits_1, 150,range=[0, 150],alpha = 0.5, label='Neutron: Spider time 50000 ns' )\n",
    "# _ = plt.hist(nhits_3, 120,range=[0, 120],alpha = 0.5, label='Cs137' )\n",
    "# _ = plt.hist(nhits_4, 120,range=[0, 120],alpha = 0.3, label='Am' )\n",
    "_ = plt.hist(nhits_2, 150,range=[0, 150],alpha = 0.3, label='Neutron: Spider time 5000 ns')\n",
    "# _ = plt.hist(nhits_5, 120,range=[0, 120],alpha = 0.3, label='After glow(16 h later)' )\n",
    "\n",
    "plt.yscale('log', nonposy='clip')\n",
    "plt.legend(loc='upper right')\n",
    "plt.xlabel(\"nhits\")"
   ]
  },
  {
   "cell_type": "markdown",
   "id": "f4b7f1f2",
   "metadata": {},
   "source": [
    "## Plot data after centroiding"
   ]
  },
  {
   "cell_type": "code",
   "execution_count": null,
   "id": "859f0bfc",
   "metadata": {},
   "outputs": [],
   "source": [
    "mu, sigma = scipy.stats.norm.fit(nhits,range=[0, 60])\n",
    "best_fit_line = scipy.stats.norm.pdf(100, mu, sigma)\n",
    "plt.plot(100, best_fit_line)"
   ]
  },
  {
   "cell_type": "code",
   "execution_count": null,
   "id": "3df2964e",
   "metadata": {},
   "outputs": [],
   "source": [
    "binsize=256\n",
    "xedges = np.linspace(256, 512, binsize+1)\n",
    "yedges = np.linspace(0, 256, binsize+1)\n",
    "H, xedges, yedges = np.histogram2d(x, y, bins=(xedges, yedges))\n",
    "H = H.T\n",
    "fig, ax = plt.subplots(figsize=(8,8))\n",
    "ax.imshow(\n",
    "#     H,\n",
    "     np.log(H+1),\n",
    "#       vmin=0, vmax=10,\n",
    "    interpolation='nearest',\n",
    "    origin='lower',\n",
    "    extent=[xedges[0], xedges[-1], yedges[0], yedges[-1]],\n",
    "    cmap='viridis',\n",
    "#     cmap=\"gray\",\n",
    ")"
   ]
  },
  {
   "cell_type": "code",
   "execution_count": null,
   "id": "d5fa1627",
   "metadata": {},
   "outputs": [],
   "source": [
    "with h5py.File(filename_hits) as h5f:\n",
    "    x = h5f[\"hits/x\"][:]\n",
    "    y = h5f[\"hits/y\"][:]\n",
    "    tof_ns = h5f[\"hits/tof_ns\"][:]\n",
    "#     nhits = h5f[\"events/NHits\"][:]"
   ]
  },
  {
   "cell_type": "markdown",
   "id": "e1fbc8ba",
   "metadata": {},
   "source": [
    "# Plot data before centroiding"
   ]
  },
  {
   "cell_type": "code",
   "execution_count": null,
   "id": "70418aa1",
   "metadata": {},
   "outputs": [],
   "source": [
    "binsize=256\n",
    "xedges = np.linspace(256, 512, binsize+1)\n",
    "yedges = np.linspace(0, 256, binsize+1)\n",
    "H, xedges, yedges = np.histogram2d(x, y, bins=(xedges, yedges))\n",
    "H = H.T\n",
    "fig, ax = plt.subplots(figsize=(8,8))\n",
    "ax.imshow(\n",
    "#     H,\n",
    "     np.log(H+1),\n",
    "#       vmin=0, vmax=10,\n",
    "    interpolation='nearest',\n",
    "    origin='lower',\n",
    "    extent=[xedges[0], xedges[-1], yedges[0], yedges[-1]],\n",
    "    cmap='viridis',\n",
    "#     cmap=\"gray\",\n",
    ")"
   ]
  },
  {
   "cell_type": "code",
   "execution_count": null,
   "id": "950e7756",
   "metadata": {
    "ExecuteTime": {
     "end_time": "2023-03-06T20:31:25.999645Z",
     "start_time": "2023-03-06T20:31:25.433974Z"
    }
   },
   "outputs": [],
   "source": [
    "binsize=1024\n",
    "xedges = np.linspace(0, binsize, binsize+1)\n",
    "yedges = np.linspace(0, binsize, binsize+1)\n",
    "H, xedges, yedges = np.histogram2d(x, y, bins=(xedges, yedges))\n",
    "H = H.T\n",
    "fig, ax = plt.subplots(figsize=(8,8))\n",
    "ax.imshow(\n",
    "    # H,\n",
    "    -np.log(H+1),\n",
    "    interpolation='nearest',\n",
    "    origin='lower',\n",
    "    extent=[xedges[0], xedges[-1], yedges[0], yedges[-1]],\n",
    "    cmap=\"gray\",\n",
    ")\n",
    "plt.close()"
   ]
  },
  {
   "cell_type": "code",
   "execution_count": null,
   "id": "b8d2612a",
   "metadata": {
    "ExecuteTime": {
     "end_time": "2023-03-06T20:31:50.905891Z",
     "start_time": "2023-03-06T20:31:44.268716Z"
    }
   },
   "outputs": [],
   "source": [
    "plt.figure()\n",
    "_ = plt.hist(nhits*1e-6, 10000)\n",
    "plt.xlabel(\"nhits\")"
   ]
  },
  {
   "cell_type": "code",
   "execution_count": null,
   "id": "0eea5cea",
   "metadata": {
    "ExecuteTime": {
     "end_time": "2023-03-06T20:43:34.635187Z",
     "start_time": "2023-03-06T20:43:34.611267Z"
    }
   },
   "outputs": [],
   "source": [
    "filename_events = \"/Users/fumiaki/Documents/ORNL/Research/Sophyread/mcpevent2hist-main/sophiread/build/data/Zeiss.hdf5\"\n",
    "\n",
    "with h5py.File(filename_events) as h5f:\n",
    "    x = h5f[\"events/x\"][:]\n",
    "    y = h5f[\"events/y\"][:]\n",
    "    tof_ns = h5f[\"events/tof_ns\"][:]\n",
    "    nhits = h5f[\"events/NHits\"][:]"
   ]
  },
  {
   "cell_type": "code",
   "execution_count": null,
   "id": "3978e748",
   "metadata": {
    "ExecuteTime": {
     "end_time": "2023-03-06T20:44:32.480556Z",
     "start_time": "2023-03-06T20:44:29.099754Z"
    }
   },
   "outputs": [],
   "source": [
    "plt.figure()\n",
    "_ = plt.hist(tof_ns*1e-6, 170)\n",
    "plt.xlabel(\"time-of-flight (ms)\")"
   ]
  },
  {
   "cell_type": "code",
   "execution_count": null,
   "id": "d6dd45dc",
   "metadata": {
    "ExecuteTime": {
     "end_time": "2023-03-07T20:59:23.971533Z",
     "start_time": "2023-03-07T20:59:23.906974Z"
    }
   },
   "outputs": [],
   "source": [
    "# filename_events = \"/Users/fumiaki/Documents/ORNL/Research/Sophyread/mcpevent2hist-main/sophiread/build/data/Zeiss.hdf5\"\n",
    "filename_events = \"/Users/fumiaki/Documents/ORNL/Research/Sophyread/mcpevent2hist-main/sophiread/build/data/Navitar_hit.h5\"\n",
    "\n",
    "with h5py.File(filename_events) as h5f:\n",
    "    x = h5f[\"hits/x\"][:]\n",
    "    y = h5f[\"hits/y\"][:]\n",
    "#     tof_ns = h5f[\"events/tof_ns\"][:]\n",
    "#     nhits = h5f[\"events/NHits\"][:]"
   ]
  },
  {
   "cell_type": "code",
   "execution_count": null,
   "id": "57709c1a",
   "metadata": {},
   "outputs": [],
   "source": [
    "len(x),len(y)"
   ]
  },
  {
   "cell_type": "code",
   "execution_count": null,
   "id": "09c18356",
   "metadata": {
    "ExecuteTime": {
     "end_time": "2023-03-07T20:59:42.882877Z",
     "start_time": "2023-03-07T20:59:42.170674Z"
    }
   },
   "outputs": [],
   "source": [
    "binsize=256\n",
    "xedges = np.linspace(256, 512, binsize+1)\n",
    "yedges = np.linspace(0, 256, binsize+1)\n",
    "H, xedges, yedges = np.histogram2d(x, y, bins=(xedges, yedges))\n",
    "H = H.T\n",
    "fig, ax = plt.subplots(figsize=(8,8))\n",
    "ax.imshow(\n",
    "#     H,\n",
    "     np.log(H+1),\n",
    "#       vmin=0, vmax=10,\n",
    "    interpolation='nearest',\n",
    "    origin='lower',\n",
    "    extent=[xedges[0], xedges[-1], yedges[0], yedges[-1]],\n",
    "    cmap='viridis',\n",
    "#     cmap=\"gray\",\n",
    ")"
   ]
  },
  {
   "cell_type": "code",
   "execution_count": null,
   "id": "3cc9c646",
   "metadata": {
    "ExecuteTime": {
     "end_time": "2023-03-07T21:00:11.608951Z",
     "start_time": "2023-03-07T20:59:59.121583Z"
    }
   },
   "outputs": [],
   "source": [
    "plt.figure()\n",
    "_ = plt.hist(tof_ns*1e-6, 17000)\n",
    "plt.xlabel(\"time-of-flight (ms)\")"
   ]
  },
  {
   "cell_type": "code",
   "execution_count": null,
   "id": "823bb669",
   "metadata": {
    "ExecuteTime": {
     "end_time": "2023-03-07T21:00:33.427458Z",
     "start_time": "2023-03-07T21:00:33.293993Z"
    }
   },
   "outputs": [],
   "source": [
    "filename_events = \"/Users/fumiaki/Documents/ORNL/Research/Sophyread/mcpevent2hist-main/sophiread/build/data/Zeiss.hdf5\"\n",
    "\n",
    "with h5py.File(filename_events) as h5f:\n",
    "    x = h5f[\"events/x\"][:]\n",
    "    y = h5f[\"events/y\"][:]\n",
    "    tof_ns = h5f[\"events/tof_ns\"][:]\n",
    "    nhits = h5f[\"events/NHits\"][:]"
   ]
  },
  {
   "cell_type": "code",
   "execution_count": null,
   "id": "d937d59d",
   "metadata": {
    "ExecuteTime": {
     "end_time": "2023-03-07T21:10:55.296987Z",
     "start_time": "2023-03-07T21:10:52.653324Z"
    }
   },
   "outputs": [],
   "source": [
    "binsize=512\n",
    "xedges = np.linspace(0, binsize, binsize+1)\n",
    "yedges = np.linspace(0, binsize, binsize+1)\n",
    "H, xedges, yedges = np.histogram2d(x, y, bins=(xedges, yedges))\n",
    "H = H.T\n",
    "fig, ax = plt.subplots(figsize=(8,8))\n",
    "ax.imshow(\n",
    "    H,\n",
    "#     -np.log(H+1),\n",
    "    interpolation='nearest',\n",
    "     vmin=0, vmax=6,\n",
    "    origin='lower',\n",
    "    extent=[xedges[0], xedges[-1], yedges[0], yedges[-1]],\n",
    "  cmap='viridis',\n",
    ")"
   ]
  },
  {
   "cell_type": "code",
   "execution_count": null,
   "id": "6cea9942",
   "metadata": {
    "ExecuteTime": {
     "end_time": "2023-03-07T21:01:10.609440Z",
     "start_time": "2023-03-07T21:01:09.943723Z"
    }
   },
   "outputs": [],
   "source": [
    "plt.figure()\n",
    "_ = plt.hist(tof_ns*1e-6, 1700)\n",
    "plt.xlabel(\"time-of-flight (ms)\")"
   ]
  },
  {
   "cell_type": "code",
   "execution_count": null,
   "id": "7e72828b",
   "metadata": {},
   "outputs": [],
   "source": []
  }
 ],
 "metadata": {
  "kernelspec": {
   "display_name": "Python 3",
   "language": "python",
   "name": "python3"
  },
  "language_info": {
   "codemirror_mode": {
    "name": "ipython",
    "version": 3
   },
   "file_extension": ".py",
   "mimetype": "text/x-python",
   "name": "python",
   "nbconvert_exporter": "python",
   "pygments_lexer": "ipython3",
   "version": "3.7.16"
  }
 },
 "nbformat": 4,
 "nbformat_minor": 5
}
